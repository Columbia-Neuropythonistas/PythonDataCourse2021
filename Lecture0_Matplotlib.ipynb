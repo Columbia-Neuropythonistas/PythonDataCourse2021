{
  "nbformat": 4,
  "nbformat_minor": 0,
  "metadata": {
    "celltoolbar": "Slideshow",
    "kernelspec": {
      "display_name": "Python 3",
      "language": "python",
      "name": "python3"
    },
    "language_info": {
      "codemirror_mode": {
        "name": "ipython",
        "version": 3
      },
      "file_extension": ".py",
      "mimetype": "text/x-python",
      "name": "python",
      "nbconvert_exporter": "python",
      "pygments_lexer": "ipython3",
      "version": "3.7.1"
    },
    "colab": {
      "name": "Lecture0-Matplotlib.ipynb",
      "provenance": [],
      "collapsed_sections": [],
      "include_colab_link": true
    }
  },
  "cells": [
    {
      "cell_type": "markdown",
      "metadata": {
        "id": "view-in-github",
        "colab_type": "text"
      },
      "source": [
        "<a href=\"https://colab.research.google.com/github/Columbia-Neuropythonistas/PythonDataCourse2021/blob/main/Lecture0_Matplotlib.ipynb\" target=\"_parent\"><img src=\"https://colab.research.google.com/assets/colab-badge.svg\" alt=\"Open In Colab\"/></a>"
      ]
    },
    {
      "cell_type": "markdown",
      "metadata": {
        "id": "p_HfqdZFkxyo"
      },
      "source": [
        "# Lecture0 Part 1: Plotting with `matplotlib`\n",
        "\n",
        "The following notebook introduces some python plotting basics, using the Python libraries `numpy` and `matplotlib`.\n",
        "\n",
        "Note: in order to save a copy of this Google colab notebook to **your own** Google Drive, go to `File` > `Save a copy in Drive`\n",
        "\n",
        "Please work through this in a small group, while coding your own answers.\n",
        "\n",
        "----\n",
        "You can find some introductory resources on plotting in matplotlib here https://matplotlib.org/stable/tutorials/introductory/pyplot.html"
      ]
    },
    {
      "cell_type": "markdown",
      "metadata": {
        "id": "5XrHCcCBpcfP"
      },
      "source": [
        "## Plotting Basics"
      ]
    },
    {
      "cell_type": "markdown",
      "metadata": {
        "id": "ZyOgRugalBPY"
      },
      "source": [
        "First, we want to import the relevant libraries"
      ]
    },
    {
      "cell_type": "code",
      "metadata": {
        "id": "ayOK1fDlkxyq"
      },
      "source": [
        "import numpy as np\n",
        "import matplotlib.pyplot as plt"
      ],
      "execution_count": 3,
      "outputs": []
    },
    {
      "cell_type": "markdown",
      "metadata": {
        "id": "LK8SX1_slE9Q"
      },
      "source": [
        "**Review questions:**\n",
        "\n",
        "* What exactly is `numpy`? \n",
        "* What exactly is `matplotlib`? \n",
        "* Why would we coders use `plt` instead of `matplotlib.pyplot`?"
      ]
    },
    {
      "cell_type": "markdown",
      "metadata": {
        "id": "ySiAU7VRlgRr"
      },
      "source": [
        "**Review Exercise: Use numpy to create an array of numbers from 0 to 19, using both `np.arange()` and `np.linspace()`. What is the difference between them?**"
      ]
    },
    {
      "cell_type": "code",
      "metadata": {
        "id": "xgf0TZ2Ql0Vt"
      },
      "source": [
        "# code your answer here\n",
        "\n",
        "# using np.linspace\n",
        "t = \n",
        "\n",
        "# using np.arange\n",
        "t = "
      ],
      "execution_count": null,
      "outputs": []
    },
    {
      "cell_type": "markdown",
      "metadata": {
        "id": "bKdCEVoup-TY"
      },
      "source": [
        "Let's plot an exponential function using `t` as input:"
      ]
    },
    {
      "cell_type": "code",
      "metadata": {
        "colab": {
          "base_uri": "https://localhost:8080/"
        },
        "id": "AKlGZRYTkxyr",
        "outputId": "24c42fb7-17cd-4a79-9886-44edb6aebfd1"
      },
      "source": [
        "a = 0.3\n",
        "y = np.exp(a*t)\n",
        "\n",
        "print('y: ',y)"
      ],
      "execution_count": null,
      "outputs": [
        {
          "output_type": "stream",
          "text": [
            "y:  [  1.           1.34985881   1.8221188    2.45960311   3.32011692\n",
            "   4.48168907   6.04964746   8.16616991  11.02317638  14.87973172\n",
            "  20.08553692  27.11263892  36.59823444  49.40244911  66.68633104\n",
            "  90.0171313  121.51041752 164.0219073  221.4064162  298.86740097]\n"
          ],
          "name": "stdout"
        }
      ]
    },
    {
      "cell_type": "markdown",
      "metadata": {
        "id": "THdIPKjtqMiI"
      },
      "source": [
        "We can plot this function using `plt.plot()`. Run the next 3 cells:"
      ]
    },
    {
      "cell_type": "code",
      "metadata": {
        "colab": {
          "base_uri": "https://localhost:8080/",
          "height": 283
        },
        "id": "1wzxKUbokxys",
        "outputId": "72ad32e1-d894-46c5-b3e8-da48a392d550"
      },
      "source": [
        "plt.plot(y)"
      ],
      "execution_count": null,
      "outputs": [
        {
          "output_type": "execute_result",
          "data": {
            "text/plain": [
              "[<matplotlib.lines.Line2D at 0x7f2ed9798f90>]"
            ]
          },
          "metadata": {
            "tags": []
          },
          "execution_count": 4
        },
        {
          "output_type": "display_data",
          "data": {
            "image/png": "[encoded data removed]",
            "text/plain": [
              "<Figure size 432x288 with 1 Axes>"
            ]
          },
          "metadata": {
            "tags": [],
            "needs_background": "light"
          }
        }
      ]
    },
    {
      "cell_type": "code",
      "metadata": {
        "colab": {
          "base_uri": "https://localhost:8080/",
          "height": 283
        },
        "id": "G3xLlgGUkxys",
        "outputId": "e9fa82d1-0ebe-4300-9d0e-5253edb65052"
      },
      "source": [
        "plt.plot(t,y)"
      ],
      "execution_count": null,
      "outputs": [
        {
          "output_type": "execute_result",
          "data": {
            "text/plain": [
              "[<matplotlib.lines.Line2D at 0x7f2ed5c5c190>]"
            ]
          },
          "metadata": {
            "tags": []
          },
          "execution_count": 5
        },
        {
          "output_type": "display_data",
          "data": {
            "image/png": "[encoded data removed]",
            "text/plain": [
              "<Figure size 432x288 with 1 Axes>"
            ]
          },
          "metadata": {
            "tags": [],
            "needs_background": "light"
          }
        }
      ]
    },
    {
      "cell_type": "code",
      "metadata": {
        "scrolled": true,
        "colab": {
          "base_uri": "https://localhost:8080/",
          "height": 265
        },
        "id": "EpElLHWXkxyt",
        "outputId": "8d820298-2555-4167-98e0-aad3675abf2e"
      },
      "source": [
        "plt.plot(t,y)\n",
        "plt.show()"
      ],
      "execution_count": null,
      "outputs": [
        {
          "output_type": "display_data",
          "data": {
            "image/png": "[encoded data removed]",
            "text/plain": [
              "<Figure size 432x288 with 1 Axes>"
            ]
          },
          "metadata": {
            "tags": [],
            "needs_background": "light"
          }
        }
      ]
    },
    {
      "cell_type": "markdown",
      "metadata": {
        "id": "aNzGRedbmpVI"
      },
      "source": [
        "**Discussion Questions:** \n",
        "* What is the difference between the above three cells/plots?\n",
        "* What does `plt.show()` do? \n",
        "* Why do we have to put `plt.` in front of the `plot()` function?\n",
        "\n",
        "We can change the line style using the `linestyle` key within the `plot()` function"
      ]
    },
    {
      "cell_type": "code",
      "metadata": {
        "colab": {
          "base_uri": "https://localhost:8080/",
          "height": 265
        },
        "id": "UyVpBMr3kxyv",
        "outputId": "024a5cea-9fb2-4d80-84ba-db9d109aeab6"
      },
      "source": [
        "plt.plot(t,y,linestyle = '--')\n",
        "plt.show()"
      ],
      "execution_count": null,
      "outputs": [
        {
          "output_type": "display_data",
          "data": {
            "image/png": "[encoded data removed]",
            "text/plain": [
              "<Figure size 432x288 with 1 Axes>"
            ]
          },
          "metadata": {
            "tags": [],
            "needs_background": "light"
          }
        }
      ]
    },
    {
      "cell_type": "markdown",
      "metadata": {
        "id": "x4MwS-Nam0wu"
      },
      "source": [
        "**Note:** `matplotlib` has many shortcuts. Instead of using the key `linestyle=`, we can just do:\n",
        "\n",
        "```py\n",
        "plt.plot(t,y,'--')\n",
        "plt.show()\n",
        "```"
      ]
    },
    {
      "cell_type": "markdown",
      "metadata": {
        "id": "NgIphndAnv3U"
      },
      "source": [
        "**Run the next cell. What does `o-` do?**"
      ]
    },
    {
      "cell_type": "code",
      "metadata": {
        "colab": {
          "base_uri": "https://localhost:8080/",
          "height": 265
        },
        "id": "0Xb7Kw8Ekxyw",
        "outputId": "dcd8c5ef-8a00-4261-b082-c5a7b336f08b"
      },
      "source": [
        "plt.plot(t,y,'o-')\n",
        "plt.show()"
      ],
      "execution_count": null,
      "outputs": [
        {
          "output_type": "display_data",
          "data": {
            "image/png": "[encoded data removed]",
            "text/plain": [
              "<Figure size 432x288 with 1 Axes>"
            ]
          },
          "metadata": {
            "tags": [],
            "needs_background": "light"
          }
        }
      ]
    },
    {
      "cell_type": "code",
      "metadata": {
        "colab": {
          "base_uri": "https://localhost:8080/",
          "height": 265
        },
        "id": "sIGQU3ULkxyw",
        "outputId": "b93e5fc4-da21-4e71-dc0c-22bf0f84042f"
      },
      "source": [
        "plt.plot(t,y,'-',color='r')\n",
        "plt.show()"
      ],
      "execution_count": null,
      "outputs": [
        {
          "output_type": "display_data",
          "data": {
            "image/png": "[encoded data removed]",
            "text/plain": [
              "<Figure size 432x288 with 1 Axes>"
            ]
          },
          "metadata": {
            "tags": [],
            "needs_background": "light"
          }
        }
      ]
    },
    {
      "cell_type": "markdown",
      "metadata": {
        "id": "PooARDnkn771"
      },
      "source": [
        "**Exercise: Change the color to `midnightblue` and the `linewidth` to 3. Also add a label with the key `label`**\n",
        "\n",
        "*Hint: after `plt.plot()`, use `plt.legend()` to display a legend*"
      ]
    },
    {
      "cell_type": "code",
      "metadata": {
        "id": "NX-8UfOfkxyx"
      },
      "source": [
        "# write your code here\n",
        "\n",
        "\n"
      ],
      "execution_count": null,
      "outputs": []
    },
    {
      "cell_type": "markdown",
      "metadata": {
        "id": "H08libbMq_Xo"
      },
      "source": [
        "**Exercise: Plot two exponential curves in different colors.**\n",
        "* Label one \"rabbit population\" and one \"hawk population.\" \n",
        "* Label the y-axis 'total population'"
      ]
    },
    {
      "cell_type": "code",
      "metadata": {
        "colab": {
          "base_uri": "https://localhost:8080/",
          "height": 265
        },
        "id": "_00pFdsrkxyz",
        "outputId": "5b3f1a13-6cf0-4237-ffb2-f7e02babadee"
      },
      "source": [
        "# write your code here\n",
        "#\n",
        "#\n",
        "\n",
        "plt.xlabel('days') # this labels the x-axis\n",
        "\n",
        "# write code to label the y-axis\n",
        "# "
      ],
      "execution_count": null,
      "outputs": [
        {
          "output_type": "display_data",
          "data": {
            "image/png": "[encoded data removed]",
            "text/plain": [
              "<Figure size 432x288 with 1 Axes>"
            ]
          },
          "metadata": {
            "tags": [],
            "needs_background": "light"
          }
        }
      ]
    },
    {
      "cell_type": "markdown",
      "metadata": {
        "id": "TxiFK7B7sPq6"
      },
      "source": [
        "We can manually change the font size of each of the labels and of the legend."
      ]
    },
    {
      "cell_type": "code",
      "metadata": {
        "id": "lQ3ikx0Nkxy2"
      },
      "source": [
        "# copy and paste your code here\n",
        "\n",
        "plt.xlabel('days',fontsize=14) # include font size\n",
        "\n",
        "# change font size of ylabel\n",
        "\n",
        "plt.legend(fontsize=12)\n",
        "plt.show()"
      ],
      "execution_count": null,
      "outputs": []
    },
    {
      "cell_type": "markdown",
      "metadata": {
        "id": "eW13aTqIkxy3"
      },
      "source": [
        "## Figures and Axes\n",
        "\n",
        "Next we will deal with the basics of axes and figure construction that are used in the `matplotlib` library"
      ]
    },
    {
      "cell_type": "code",
      "metadata": {
        "id": "AyU_dYDxkxy3",
        "outputId": "6293769b-4f25-4bcc-c11e-44f87a3d5588"
      },
      "source": [
        "fig = plt.figure()"
      ],
      "execution_count": null,
      "outputs": [
        {
          "output_type": "display_data",
          "data": {
            "text/plain": [
              "<Figure size 432x288 with 0 Axes>"
            ]
          },
          "metadata": {
            "tags": []
          }
        }
      ]
    },
    {
      "cell_type": "markdown",
      "metadata": {
        "id": "HbdY5baWs2Ny"
      },
      "source": [
        "This creates a `figure` object called `fig`"
      ]
    },
    {
      "cell_type": "code",
      "metadata": {
        "id": "dQqNbkmwkxy4",
        "colab": {
          "base_uri": "https://localhost:8080/",
          "height": 269
        },
        "outputId": "c4243309-53a9-4de7-ebaf-6e2c1a57f550"
      },
      "source": [
        "fig,ax = plt.subplots(1,2)"
      ],
      "execution_count": 4,
      "outputs": [
        {
          "output_type": "display_data",
          "data": {
            "image/png": "[encoded data removed]",
            "text/plain": [
              "<Figure size 432x288 with 2 Axes>"
            ]
          },
          "metadata": {
            "tags": [],
            "needs_background": "light"
          }
        }
      ]
    },
    {
      "cell_type": "markdown",
      "metadata": {
        "id": "D7oEueNHs_2c"
      },
      "source": [
        "The code above creates a figure object called `fig`, as well 2 axes that we can access via `ax`. What does this mean exactly?"
      ]
    },
    {
      "cell_type": "code",
      "metadata": {
        "colab": {
          "base_uri": "https://localhost:8080/"
        },
        "id": "MYevCuOatVX9",
        "outputId": "037a7038-1231-4499-ae69-06df4c5b1617"
      },
      "source": [
        "ax"
      ],
      "execution_count": 5,
      "outputs": [
        {
          "output_type": "execute_result",
          "data": {
            "text/plain": [
              "array([<matplotlib.axes._subplots.AxesSubplot object at 0x7f5951e41250>,\n",
              "       <matplotlib.axes._subplots.AxesSubplot object at 0x7f5951e0c990>],\n",
              "      dtype=object)"
            ]
          },
          "metadata": {
            "tags": []
          },
          "execution_count": 5
        }
      ]
    },
    {
      "cell_type": "markdown",
      "metadata": {
        "id": "JkGXhAv6tWq4"
      },
      "source": [
        "If we print out `ax`, we see that it is an array with two axes objects. We can access these objects to plot directly on them with something like:\n",
        "\n",
        "```py\n",
        "ax[0].plot(...)\n",
        "```\n",
        "\n"
      ]
    },
    {
      "cell_type": "markdown",
      "metadata": {
        "id": "IHZ0q9NMtwCU"
      },
      "source": [
        "We can control the size of the overall figure using `figsize`"
      ]
    },
    {
      "cell_type": "code",
      "metadata": {
        "id": "HH1QRfu0kxy4",
        "outputId": "9102378e-da59-4190-ccd7-c309e6e4bbfa"
      },
      "source": [
        "fig,ax = plt.subplots(1,2,figsize=(10,5))"
      ],
      "execution_count": null,
      "outputs": [
        {
          "output_type": "display_data",
          "data": {
            "image/png": "[encoded data removed]",
            "text/plain": [
              "<Figure size 720x360 with 2 Axes>"
            ]
          },
          "metadata": {
            "tags": [],
            "needs_background": "light"
          }
        }
      ]
    },
    {
      "cell_type": "code",
      "metadata": {
        "id": "NuZFm4U-kxy6",
        "colab": {
          "base_uri": "https://localhost:8080/",
          "height": 338
        },
        "outputId": "5c8a91a0-73c5-4408-a6d2-ccfdfbce4159"
      },
      "source": [
        "fig,ax = plt.subplots(1,2,figsize=(10,5))\n",
        "\n",
        "a = 0.3\n",
        "a1 = 0.09\n",
        "t = np.arange(0,15,1)\n",
        "y = np.exp(a*t)\n",
        "y1 = np.exp(a1*t)\n",
        "\n",
        "ax[0].plot(t,y,'o-', linewidth=3,label='rose breasted grosbeak')\n",
        "ax[1].plot(t,y1,'o-', linewidth=3,label='whippoorwill')\n",
        "\n",
        "for a in ax:\n",
        "    a.set_xlabel('days',fontsize=14) # include font size\n",
        "    a.set_ylabel('population',fontsize=14)\n",
        "    a.legend(fontsize=12)\n",
        "plt.show()"
      ],
      "execution_count": 9,
      "outputs": [
        {
          "output_type": "display_data",
          "data": {
            "image/png": "[encoded data removed]",
            "text/plain": [
              "<Figure size 720x360 with 2 Axes>"
            ]
          },
          "metadata": {
            "tags": [],
            "needs_background": "light"
          }
        }
      ]
    },
    {
      "cell_type": "code",
      "metadata": {
        "id": "AwIwHleLkxy6",
        "colab": {
          "base_uri": "https://localhost:8080/",
          "height": 338
        },
        "outputId": "7c5d8fa9-ad80-4b95-bc6c-6618ad8670c2"
      },
      "source": [
        "fig,ax = plt.subplots(1,2,figsize=(10,5))\n",
        "\n",
        "ax[0].plot(t,y,'o-',color='C0', linewidth=3,label='rose breasted grosbeak')\n",
        "ax[1].plot(t,y1,'o-', color='C1',linewidth=3,label='whippoorwill')\n",
        "\n",
        "for a in ax:\n",
        "    a.set_xlabel('days',fontsize=14) # include font size\n",
        "    a.set_ylabel('population',fontsize=14)\n",
        "    a.legend(fontsize=12)\n",
        "plt.show()"
      ],
      "execution_count": 11,
      "outputs": [
        {
          "output_type": "display_data",
          "data": {
            "image/png": "[encoded data removed]",
            "text/plain": [
              "<Figure size 720x360 with 2 Axes>"
            ]
          },
          "metadata": {
            "tags": [],
            "needs_background": "light"
          }
        }
      ]
    },
    {
      "cell_type": "markdown",
      "metadata": {
        "id": "wAxo-InVvCVe"
      },
      "source": [
        "**Exercise:**\n",
        "* Create a figure with 3 subplots. \n",
        "* Plot three different curves on each one, using `np.exp()`\n",
        "* standardize the xlabel, ylabel and y-axes using a for loop\n",
        "\n",
        "Use the above code above as inspiration, but don't copy-paste!"
      ]
    },
    {
      "cell_type": "code",
      "metadata": {
        "scrolled": true,
        "id": "8ERj68kpkxy7"
      },
      "source": [
        "# Your code here\n",
        "\n",
        "\n"
      ],
      "execution_count": 15,
      "outputs": []
    },
    {
      "cell_type": "markdown",
      "metadata": {
        "id": "Snlq8DOnkxy7"
      },
      "source": [
        "## Scatter plots"
      ]
    },
    {
      "cell_type": "markdown",
      "metadata": {
        "id": "BSelZ6YAwWGM"
      },
      "source": [
        "Exercise: Before creating a scatter plot, let's figure out how to create a bunch of random numbers.\n",
        "\n",
        "Look up: https://numpy.org/doc/1.16/reference/routines.random.html\n",
        "\n"
      ]
    },
    {
      "cell_type": "markdown",
      "metadata": {
        "id": "oNDYMEtIwrTX"
      },
      "source": [
        "**Exercise: Create an array of 30 random numbers using 3 different functions from `np.random`**\n",
        "\n"
      ]
    },
    {
      "cell_type": "code",
      "metadata": {
        "id": "j2qEbw-6wsf6"
      },
      "source": [
        "# method 0\n",
        "x = \n",
        "\n",
        "# method 1\n",
        "x = \n",
        "\n",
        "# method 2\n",
        "x = "
      ],
      "execution_count": null,
      "outputs": []
    },
    {
      "cell_type": "markdown",
      "metadata": {
        "id": "ReAr5xt3xNpj"
      },
      "source": [
        "Discussion: What is the meaning of the '.' in `np.random.rand()`??"
      ]
    },
    {
      "cell_type": "code",
      "metadata": {
        "scrolled": false,
        "id": "mH11BtY8kxy7",
        "outputId": "6091d152-8ec3-43e8-f4e7-aa3a75603c5f"
      },
      "source": [
        "x = np.random.rand(30)\n",
        "m = x + 0.1*np.random.rand(30)\n",
        "plt.scatter(x,m)\n",
        "\n",
        "plt.xlim(-.5,2)\n",
        "plt.ylim(-.5,2)\n",
        "\n",
        "plt.grid(which='major')\n",
        "plt.legend(['the brain'])\n",
        "plt.title('all my data looks this good')\n",
        "plt.show()"
      ],
      "execution_count": null,
      "outputs": [
        {
          "output_type": "display_data",
          "data": {
            "image/png": "[encoded data removed]",
            "text/plain": [
              "<Figure size 432x288 with 1 Axes>"
            ]
          },
          "metadata": {
            "tags": [],
            "needs_background": "light"
          }
        }
      ]
    },
    {
      "cell_type": "markdown",
      "metadata": {
        "id": "qLqG7pbHxiIB"
      },
      "source": [
        "**Exercise: Create two arrays of 100 random numbers each sampled from a gaussian. Plot these on a scatter plot. Change and label the x and y-axis**"
      ]
    },
    {
      "cell_type": "code",
      "metadata": {
        "id": "dCWiI_1Nx15h"
      },
      "source": [
        "# Your code here\n",
        "\n"
      ],
      "execution_count": null,
      "outputs": []
    },
    {
      "cell_type": "markdown",
      "metadata": {
        "id": "QsyUDDvskxy9"
      },
      "source": [
        "## Histograms"
      ]
    },
    {
      "cell_type": "markdown",
      "metadata": {
        "id": "nq30gDGAyMyb"
      },
      "source": [
        "We can also plot histograms using `matplotlib`"
      ]
    },
    {
      "cell_type": "code",
      "metadata": {
        "scrolled": true,
        "id": "uKPqxrJ3kxy9",
        "outputId": "1ecda123-e21a-4a9d-8bd6-e8a5e62053aa"
      },
      "source": [
        "x_a = np.random.rand(1000)-0.5\n",
        "x_b = np.random.randn(1000)*0.1\n",
        "\n",
        "plt.hist(x_a,bins=20,alpha=0.5,label='uniform')\n",
        "plt.hist(x_b,bins=20,alpha=0.5,label='gaussian')\n",
        "plt.legend()\n",
        "plt.show()"
      ],
      "execution_count": null,
      "outputs": [
        {
          "output_type": "display_data",
          "data": {
            "image/png": "[encoded data removed]",
            "text/plain": [
              "<Figure size 432x288 with 1 Axes>"
            ]
          },
          "metadata": {
            "tags": [],
            "needs_background": "light"
          }
        }
      ]
    },
    {
      "cell_type": "markdown",
      "metadata": {
        "id": "NeHqyUMmyEJX"
      },
      "source": [
        "Here is another way of doing this.\n",
        "\n",
        "Discussion: Which one is prettier?"
      ]
    },
    {
      "cell_type": "code",
      "metadata": {
        "id": "wKgJ7FfDkxy9",
        "outputId": "a333770c-cf0e-40c4-c73b-e936825a40fd"
      },
      "source": [
        "plt.hist([x_a,x_b],bins=20,label=['uniform','gaussian'])\n",
        "plt.legend()\n",
        "plt.show()"
      ],
      "execution_count": null,
      "outputs": [
        {
          "output_type": "display_data",
          "data": {
            "image/png": "[encoded data removed]",
            "text/plain": [
              "<Figure size 432x288 with 1 Axes>"
            ]
          },
          "metadata": {
            "tags": [],
            "needs_background": "light"
          }
        }
      ]
    },
    {
      "cell_type": "markdown",
      "metadata": {
        "id": "uE7conumyXvN"
      },
      "source": [
        "**Exercise: Use a for loop to plot 3 separate histograms. Set the colors to 'cyan','magenta' and 'orange'**"
      ]
    },
    {
      "cell_type": "code",
      "metadata": {
        "id": "TU1hqdANo2Ht"
      },
      "source": [
        "# Your code here\n",
        "\n",
        "# create 3 sets of fake data\n",
        "\n",
        "for i in range(3):\n",
        "\n",
        "    fig = plt.figure()\n",
        "\n",
        "    # plot histogram here\n",
        "    "
      ],
      "execution_count": null,
      "outputs": []
    },
    {
      "cell_type": "markdown",
      "metadata": {
        "id": "955nYhU6kxy9"
      },
      "source": [
        "## Bar plots"
      ]
    },
    {
      "cell_type": "markdown",
      "metadata": {
        "id": "Nuj1Kql_y4wi"
      },
      "source": [
        "**Exercise: Walk through the following code with your group and explain each line! Correct the typos**"
      ]
    },
    {
      "cell_type": "code",
      "metadata": {
        "id": "sjPLZYDrkxy-"
      },
      "source": [
        "\n",
        "\n",
        "labels = ['Carolina', 'Black-Capped', 'Boreal', 'Grey-Headed', 'Mountain']\n",
        "male_means = [20, 34, 30, 35, 27]\n",
        "female_means = [25, 32, 34, 20, 25]\n",
        "\n",
        "x = np.arange(len(labels))  # the label locations\n",
        "width = 0.35  # the width of the bars\n",
        "\n",
        "fig = plt.subplots(figsize=(10,5)) # <<< TYPO HERE\n",
        "rects1 = ax.bar(x - width/2, male_means, width, label='Male Chickadees')\n",
        "rects2 = ax.bar(x + width/2, female_means, label='Female Chickadees') # <<< TYPO HERE\n",
        "\n",
        "# Add some text for labels, title and custom x-axis tick labels, etc.\n",
        "ax.set_ylabel('Scores')\n",
        "ax.set_title('Awesomeness Scores by Group and Gender')\n",
        "ax.set_xticks(x)\n",
        "ax.set_xticklabels(labels)\n",
        "ax.legend()\n",
        "\n",
        "\n",
        "# THIS IS A FANCY FUNCTION - CAN YOU GUESS WHAT IT IS DOING?\n",
        "def autolabel(rects):\n",
        "    \"\"\"Attach a text label above each bar in *rects*, displaying its height.\"\"\"\n",
        "    for rect in rects:\n",
        "        height = rect.get_height()\n",
        "        ax.annotate('{}'.format(height),\n",
        "                    xy=(rect.get_x() + rect.get_width() / 2, height),\n",
        "                    xytext=(0, 3),  # 3 points vertical offset\n",
        "                    textcoords=\"offset points\",\n",
        "                    ha='center', va='bottom')\n",
        "\n",
        "\n",
        "autolabel(rects1)\n",
        "autolabel(rects2)\n",
        "\n",
        "fig.tight_layout()\n",
        "\n",
        "plt.show()"
      ],
      "execution_count": null,
      "outputs": []
    },
    {
      "cell_type": "markdown",
      "metadata": {
        "id": "gXASpOOrzs0r"
      },
      "source": [
        "----\n",
        "\n",
        "\n",
        "\n",
        "\n",
        "\n",
        "\n",
        "\n",
        "\n",
        "\n",
        "\n",
        "\n",
        "**Exercise: If you had trouble parsing the code above, run through the following cells and make sure you understand each piece**"
      ]
    },
    {
      "cell_type": "code",
      "metadata": {
        "id": "4gtXJ-TRkxy_"
      },
      "source": [
        "labels = ['Carolina', 'Black-Capped', 'Boreal', 'Grey-Headed', 'Mountain']\n",
        "male_means = [20, 34, 30, 35, 27]\n",
        "female_means = [25, 32, 34, 20, 25]\n",
        "\n",
        "x = np.arange(len(labels))  # the label locations\n",
        "width = 0.35  # the width of the bars"
      ],
      "execution_count": null,
      "outputs": []
    },
    {
      "cell_type": "code",
      "metadata": {
        "id": "U1p3Rd4nkxzA",
        "outputId": "77832771-6351-4154-db90-7fd6dbf1de3b"
      },
      "source": [
        "\n",
        "fig, ax = plt.subplots()\n",
        "rects1 = ax.bar(x - width/2, male_means, width, label='Male Chickadees')\n",
        "rects2 = ax.bar(x + width/2, female_means, width, label='Female Chickadees')\n",
        "\n",
        "# Add some text for labels, title and custom x-axis tick labels, etc.\n",
        "ax.set_ylabel('Scores')\n",
        "ax.set_title('Scores by group and gender')\n",
        "ax.set_xticks(x)\n",
        "ax.set_xticklabels(labels)\n",
        "ax.legend()"
      ],
      "execution_count": null,
      "outputs": [
        {
          "output_type": "execute_result",
          "data": {
            "text/plain": [
              "<matplotlib.legend.Legend at 0x11c53f4a8>"
            ]
          },
          "metadata": {
            "tags": []
          },
          "execution_count": 29
        },
        {
          "output_type": "display_data",
          "data": {
            "image/png": "[encoded data removed]",
            "text/plain": [
              "<Figure size 432x288 with 1 Axes>"
            ]
          },
          "metadata": {
            "tags": [],
            "needs_background": "light"
          }
        }
      ]
    },
    {
      "cell_type": "code",
      "metadata": {
        "id": "amfeemE7kxzA"
      },
      "source": [
        "def autolabel(rects):\n",
        "    \"\"\"Attach a text label above each bar in *rects*, displaying its height.\"\"\"\n",
        "    for rect in rects:\n",
        "        height = rect.get_height()\n",
        "        ax.annotate('{}'.format(height),\n",
        "                    xy=(rect.get_x() + rect.get_width() / 2, height),\n",
        "                    xytext=(0, 3),  # 3 points vertical offset\n",
        "                    textcoords=\"offset points\",\n",
        "                    ha='center', va='bottom')\n"
      ],
      "execution_count": null,
      "outputs": []
    },
    {
      "cell_type": "code",
      "metadata": {
        "scrolled": true,
        "id": "JhfXvLP3kxzA",
        "cellView": "form",
        "outputId": "9e2c884d-b74a-452c-d652-0ddfb5b409b1"
      },
      "source": [
        "#@title This is what it should look like!\n",
        "# Correct Answer\n",
        "\n",
        "labels = ['Carolina', 'Black-Capped', 'Boreal', 'Grey-Headed', 'Mountain']\n",
        "male_means = [20, 34, 30, 35, 27]\n",
        "female_means = [25, 32, 34, 20, 25]\n",
        "\n",
        "x = np.arange(len(labels))  # the label locations\n",
        "width = 0.35  # the width of the bars\n",
        "\n",
        "fig, ax = plt.subplots(figsize=(10,5))\n",
        "rects1 = ax.bar(x - width/2, male_means, width, label='Male Chickadees')\n",
        "rects2 = ax.bar(x + width/2, female_means, width, label='Female Chickadees')\n",
        "\n",
        "# Add some text for labels, title and custom x-axis tick labels, etc.\n",
        "ax.set_ylabel('Scores')\n",
        "ax.set_title('Awesomeness Scores by Group and Gender')\n",
        "ax.set_xticks(x)\n",
        "ax.set_xticklabels(labels)\n",
        "ax.legend()\n",
        "\n",
        "\n",
        "autolabel(rects1)\n",
        "autolabel(rects2)\n",
        "\n",
        "fig.tight_layout()\n",
        "\n",
        "plt.show()"
      ],
      "execution_count": null,
      "outputs": [
        {
          "output_type": "display_data",
          "data": {
            "image/png": "[encoded data removed]",
            "text/plain": [
              "<Figure size 720x360 with 1 Axes>"
            ]
          },
          "metadata": {
            "tags": [],
            "needs_background": "light"
          }
        }
      ]
    },
    {
      "cell_type": "markdown",
      "metadata": {
        "id": "7A8uK6spkxzA"
      },
      "source": [
        "## Images"
      ]
    },
    {
      "cell_type": "markdown",
      "metadata": {
        "id": "EL0NB6wd0m9_"
      },
      "source": [
        "Finally, we can also plot images. Run the cells below to import some images from `sklearn.datasets`"
      ]
    },
    {
      "cell_type": "code",
      "metadata": {
        "id": "e4bAA6m1kxzA"
      },
      "source": [
        "import sklearn.datasets\n",
        "digits = sklearn.datasets.load_digits()\n"
      ],
      "execution_count": null,
      "outputs": []
    },
    {
      "cell_type": "code",
      "metadata": {
        "id": "U9_V5cxdkxzB",
        "outputId": "15563240-1519-47bf-de6f-f37b23d9cb4d"
      },
      "source": [
        "digits['data'].shape"
      ],
      "execution_count": null,
      "outputs": [
        {
          "output_type": "execute_result",
          "data": {
            "text/plain": [
              "(1797, 64)"
            ]
          },
          "metadata": {
            "tags": []
          },
          "execution_count": 33
        }
      ]
    },
    {
      "cell_type": "code",
      "metadata": {
        "id": "jjf3OfK3kxzC",
        "outputId": "c9331a22-fd98-4e3d-8bbc-9450a8c8b6cf"
      },
      "source": [
        "digits.images.shape"
      ],
      "execution_count": null,
      "outputs": [
        {
          "output_type": "execute_result",
          "data": {
            "text/plain": [
              "(1797, 8, 8)"
            ]
          },
          "metadata": {
            "tags": []
          },
          "execution_count": 34
        }
      ]
    },
    {
      "cell_type": "markdown",
      "metadata": {
        "id": "2QODBV830yUq"
      },
      "source": [
        "We can plot an image (i.e. a 2D array) using `plt.imshow`"
      ]
    },
    {
      "cell_type": "code",
      "metadata": {
        "scrolled": true,
        "id": "MhoYIa2ikxzC",
        "outputId": "506b4cef-b436-41bf-95b0-f0053c9820ec"
      },
      "source": [
        "plt.imshow(digits.images[3]) \n",
        "plt.show()"
      ],
      "execution_count": null,
      "outputs": [
        {
          "output_type": "display_data",
          "data": {
            "image/png": "[encoded data removed]",
            "text/plain": [
              "<Figure size 432x288 with 1 Axes>"
            ]
          },
          "metadata": {
            "tags": [],
            "needs_background": "light"
          }
        }
      ]
    },
    {
      "cell_type": "markdown",
      "metadata": {
        "id": "3Wcjw1Zs04ko"
      },
      "source": [
        "**Exercise: change the colormap to 'gray' using the key `cmap`**"
      ]
    },
    {
      "cell_type": "code",
      "metadata": {
        "id": "IiiZ0XlTkxzC",
        "outputId": "b8129b99-15e4-45ae-9194-a5c6d812f26f"
      },
      "source": [
        "plt.imshow(digits.images[3]) # your code here\n",
        "plt.show()"
      ],
      "execution_count": null,
      "outputs": [
        {
          "output_type": "display_data",
          "data": {
            "image/png": "[encoded data removed]",
            "text/plain": [
              "<Figure size 432x288 with 1 Axes>"
            ]
          },
          "metadata": {
            "tags": [],
            "needs_background": "light"
          }
        }
      ]
    },
    {
      "cell_type": "markdown",
      "metadata": {
        "id": "f0yzKid51A84"
      },
      "source": [
        "We can also change the colormap to `bwr`. What does this stand for?"
      ]
    },
    {
      "cell_type": "code",
      "metadata": {
        "id": "g5OeF3irkxzC",
        "outputId": "7fcde932-6e21-43f9-dd11-eb22cccf2784"
      },
      "source": [
        "plt.imshow(digits.images[3],cmap='bwr') \n",
        "plt.colorbar()\n",
        "plt.show()"
      ],
      "execution_count": null,
      "outputs": [
        {
          "output_type": "display_data",
          "data": {
            "image/png": "[encoded data removed]",
            "text/plain": [
              "<Figure size 432x288 with 2 Axes>"
            ]
          },
          "metadata": {
            "tags": [],
            "needs_background": "light"
          }
        }
      ]
    },
    {
      "cell_type": "markdown",
      "metadata": {
        "id": "gWjRhZDN1JCq"
      },
      "source": [
        "Well done! If you have gotten to the end of this notebook, you have successfully made it through Lecture0!"
      ]
    },
    {
      "cell_type": "markdown",
      "metadata": {
        "id": "9bokUhoukxzC"
      },
      "source": [
        "(see http://www.cs.columbia.edu/~amueller/comsw4995s19/schedule/ for more tips and tricks on plotting with matplotlib)"
      ]
    },
    {
      "cell_type": "code",
      "metadata": {
        "id": "o2fZ2fe9kxzD"
      },
      "source": [
        ""
      ],
      "execution_count": null,
      "outputs": []
    }
  ]
}