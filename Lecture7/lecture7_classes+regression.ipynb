{
  "nbformat": 4,
  "nbformat_minor": 0,
  "metadata": {
    "celltoolbar": "Slideshow",
    "kernelspec": {
      "display_name": "Python 3",
      "language": "python",
      "name": "python3"
    },
    "language_info": {
      "codemirror_mode": {
        "name": "ipython",
        "version": 3
      },
      "file_extension": ".py",
      "mimetype": "text/x-python",
      "name": "python",
      "nbconvert_exporter": "python",
      "pygments_lexer": "ipython3",
      "version": "3.7.1"
    },
    "colab": {
      "name": "lecture7_classes+regression.ipynb",
      "provenance": [],
      "include_colab_link": true
    }
  },
  "cells": [
    {
      "cell_type": "markdown",
      "metadata": {
        "id": "view-in-github",
        "colab_type": "text"
      },
      "source": [
        "<a href=\"https://colab.research.google.com/github/Columbia-Neuropythonistas/PythonDataCourse2021/blob/main/lecture7_classes%2Bregression.ipynb\" target=\"_parent\"><img src=\"https://colab.research.google.com/assets/colab-badge.svg\" alt=\"Open In Colab\"/></a>"
      ]
    },
    {
      "cell_type": "markdown",
      "metadata": {
        "id": "tLeoblm06jFl"
      },
      "source": [
        "# Lecture 7: Review of Python Classes via Linear Regression\n",
        "\n",
        "May 2021\n",
        "\n",
        "J. Portes\n",
        "\n",
        "In the following notebook we will build an intuition for how to implement linear regression on toy-data using functions and classes. The purpose of this notebook is to review basic python, numpy, functions, and classes. We've snuck in some pandas and sklearn as well =)"
      ]
    },
    {
      "cell_type": "markdown",
      "metadata": {
        "id": "DzBIOBI_6jFn"
      },
      "source": [
        "Aside: The following resource is a full textbook online with accompanying notebooks: https://jakevdp.github.io/PythonDataScienceHandbook/05.06-linear-regression.html"
      ]
    },
    {
      "cell_type": "markdown",
      "metadata": {
        "id": "GP591Jwf6jFn"
      },
      "source": [
        "# Part 0: Class-free Linear Regression (aka with functions only)\n",
        "\n"
      ]
    },
    {
      "cell_type": "markdown",
      "metadata": {
        "id": "mr7cjfHU6jFo"
      },
      "source": [
        "Linear Regression is a method used to define a relationship between a dependent variable $y$ and independent variable $x$. Which is simply written as:\n",
        "$$ y = mx + b$$\n",
        "\n",
        "where $m$ is the scale factor or slope, and $b$ is the bias or intercept"
      ]
    },
    {
      "cell_type": "markdown",
      "metadata": {
        "id": "TGsD3ojy6jFo"
      },
      "source": [
        "One approach is using **Ordinary Least Squares** (https://en.wikipedia.org/wiki/Ordinary_least_squares)"
      ]
    },
    {
      "cell_type": "code",
      "metadata": {
        "id": "C2c5AIZS6jFo"
      },
      "source": [
        "import numpy as np\n",
        "import matplotlib.pyplot as plt\n",
        "import pandas as pd\n",
        "import seaborn as sns; sns.set() # this sets the plotting aesthetic for the notebook"
      ],
      "execution_count": 3,
      "outputs": []
    },
    {
      "cell_type": "markdown",
      "metadata": {
        "id": "t1jltDHR7ANi"
      },
      "source": [
        "Let's establish the variables here"
      ]
    },
    {
      "cell_type": "code",
      "metadata": {
        "id": "0XTpXgs66jFp"
      },
      "source": [
        "x = np.arange(0,10,0.1)\n",
        "m = 2.7\n",
        "b = -5"
      ],
      "execution_count": 8,
      "outputs": []
    },
    {
      "cell_type": "markdown",
      "metadata": {
        "id": "rMkfrOjc6jFq"
      },
      "source": [
        "We could implement this simply as:"
      ]
    },
    {
      "cell_type": "code",
      "metadata": {
        "id": "2PpifM4w6jFq"
      },
      "source": [
        "y = m*x +b"
      ],
      "execution_count": 9,
      "outputs": []
    },
    {
      "cell_type": "code",
      "metadata": {
        "id": "7Vg47Mtg6jFq",
        "colab": {
          "base_uri": "https://localhost:8080/",
          "height": 268
        },
        "outputId": "5e981052-5e81-4ad1-c47d-0eb04ac7b663"
      },
      "source": [
        "# note that these two functions plot vertical and horizontal lines\n",
        "plt.axvline(x=0,ymin=-5,ymax=5,color='gray')\n",
        "plt.axhline(y=0,xmin=-5,xmax=5,color='gray')\n",
        "\n",
        "plt.plot(x,y)\n",
        "\n",
        "plt.show()"
      ],
      "execution_count": 10,
      "outputs": [
        {
          "output_type": "display_data",
          "data": {
            "image/png": "[encoded data removed]",
            "text/plain": [
              "<Figure size 432x288 with 1 Axes>"
            ]
          },
          "metadata": {
            "tags": []
          }
        }
      ]
    },
    {
      "cell_type": "markdown",
      "metadata": {
        "id": "wHvuorP66jFr"
      },
      "source": [
        "We could also implement this as a simple function:"
      ]
    },
    {
      "cell_type": "code",
      "metadata": {
        "id": "oJsSES7f6jFs"
      },
      "source": [
        "def linear_model(x,m,b):\n",
        "\n",
        "    \"\"\" linear function \"\"\"\n",
        "    \n",
        "    y = m*x + b\n",
        "    \n",
        "    return y"
      ],
      "execution_count": 11,
      "outputs": []
    },
    {
      "cell_type": "markdown",
      "metadata": {
        "id": "R6awDfIe8RzA"
      },
      "source": [
        "EXERCISE: Add some Gaussian noise to the y_data vector. This will create our \"toy\" dataset. Scale the noise so that it is very noisy!"
      ]
    },
    {
      "cell_type": "code",
      "metadata": {
        "id": "gkBUigk16jFs"
      },
      "source": [
        "# we add some noise\n",
        "np.random.seed(0) # this sets the same noise every time you run the cell\n",
        "x_data = x + np.random.randn(len(x))\n",
        "\n",
        "y_data = linear_model(x_data,m,b) + # your code here"
      ],
      "execution_count": 12,
      "outputs": []
    },
    {
      "cell_type": "code",
      "metadata": {
        "cellView": "form",
        "id": "TDdcd90n8Lrv"
      },
      "source": [
        "#@title (solution)\n",
        "\n",
        "# one possible solution:\n",
        "# y_data = linear_model(x_data,m,b) + np.random.randn(len(x))*5"
      ],
      "execution_count": null,
      "outputs": []
    },
    {
      "cell_type": "code",
      "metadata": {
        "id": "bTnCFs9d6jFs",
        "colab": {
          "base_uri": "https://localhost:8080/",
          "height": 268
        },
        "outputId": "adeffddc-05a6-44d7-e101-cfd520aa3f72"
      },
      "source": [
        "plt.axvline(x=0,ymin=-5,ymax=5,color='gray')\n",
        "plt.axhline(y=0,xmin=-5,xmax=5,color='gray')\n",
        "\n",
        "plt.scatter(x_data,y_data,color='C9')\n",
        "plt.plot(x,y,linewidth=3)\n",
        "\n",
        "plt.show()"
      ],
      "execution_count": 22,
      "outputs": [
        {
          "output_type": "display_data",
          "data": {
            "image/png": "[encoded data removed]",
            "text/plain": [
              "<Figure size 432x288 with 1 Axes>"
            ]
          },
          "metadata": {
            "tags": []
          }
        }
      ]
    },
    {
      "cell_type": "markdown",
      "metadata": {
        "id": "fAewQHt66jFs"
      },
      "source": [
        "Can we estimate the slope and intercept/bias from the noisy data?"
      ]
    },
    {
      "cell_type": "markdown",
      "metadata": {
        "id": "i0DGgl7K6jFt"
      },
      "source": [
        "We want to find a \"model\" with the values for $m$ and $b$ that minimizes the residuals between our model and the data points. We can define the residual $r$ for  each data point $i$ as:\n",
        "\n",
        "$$ r_i = y_{i} - m \\cdot x_i - b$$"
      ]
    },
    {
      "cell_type": "markdown",
      "metadata": {
        "id": "qrEa66af6jFt"
      },
      "source": [
        "and we want to minimize:\n",
        "\n",
        "$$ \\sum_{i=1}^{n \\space samples} r_i^2$$"
      ]
    },
    {
      "cell_type": "markdown",
      "metadata": {
        "id": "7RAXUIC76jFt"
      },
      "source": [
        "(note that $r_i$ is squared to account for positive and negative values)"
      ]
    },
    {
      "cell_type": "markdown",
      "metadata": {
        "id": "AEsDIDNq6jFt"
      },
      "source": [
        "We can derive the equations for the optimal $m$ and $b$: let's call these $m_{opt}$ and $b_{opt}$:\n",
        "\n",
        "$$ m_{opt} = \\frac{\\sum_i (x_i-\\bar{x})(y_i-\\bar{y})}{\\sum_i (x_i - \\bar{x})^2}$$"
      ]
    },
    {
      "cell_type": "markdown",
      "metadata": {
        "id": "5XrnahRu6jFt"
      },
      "source": [
        "$$ b_{opt} = \\bar{y} - m_{opt} \\cdot \\bar{x} $$"
      ]
    },
    {
      "cell_type": "markdown",
      "metadata": {
        "id": "F7kkZtYD6jFu"
      },
      "source": [
        "See https://en.wikipedia.org/wiki/Simple_linear_regression for full derivation. We want to implement these equations in python in order to apply linear regression to our toy dataset!"
      ]
    },
    {
      "cell_type": "code",
      "metadata": {
        "id": "-aURhV6x6jFu"
      },
      "source": [
        "# setting this again\n",
        "x = np.arange(0,10,0.1)\n",
        "m = 2.7\n",
        "b = -5\n",
        "\n",
        "rng = np.random.RandomState(0) # this is another way to set random state\n",
        "x_data = x + rng.randn(len(x))\n",
        "y_data = linear_model(x_data,m,b) + rng.randn(len(x))*5"
      ],
      "execution_count": 14,
      "outputs": []
    },
    {
      "cell_type": "markdown",
      "metadata": {
        "id": "zbXIJTHn88X8"
      },
      "source": [
        "DISCUSSION: We saw two ways of fixing the random \"seed\" so that we get the same random values every time we run the code. What are the benefits of using `rng = np.random.RandomState(0)` vs. `np.random.seed(0)`?"
      ]
    },
    {
      "cell_type": "markdown",
      "metadata": {
        "id": "r6oJZXx09eMy"
      },
      "source": [
        "First we will need to calculate the means:"
      ]
    },
    {
      "cell_type": "code",
      "metadata": {
        "id": "ubZxEyFm6jFu"
      },
      "source": [
        "x_mean = np.mean(x_data)\n",
        "y_data_mean = np.mean(y_data)\n",
        "    \n",
        "n= len(y_data) # number of samples"
      ],
      "execution_count": 15,
      "outputs": []
    },
    {
      "cell_type": "markdown",
      "metadata": {
        "id": "HhUOH_xr6jFu"
      },
      "source": [
        "Then we want to sum over each individual datapoint. We can do this in a `for` loop:"
      ]
    },
    {
      "cell_type": "code",
      "metadata": {
        "id": "PGAeM89b6jFu",
        "colab": {
          "base_uri": "https://localhost:8080/"
        },
        "outputId": "501adf63-2c1c-45ea-ec59-c324e868f0c8"
      },
      "source": [
        "numerator=0\n",
        "denomenator = 0\n",
        "for i in range(n):\n",
        "    \n",
        "    numerator += (x_data[i]-x_mean)*(y_data[i]-y_data_mean)\n",
        "    denomenator += (x_data[i]-x_mean)**2\n",
        "    \n",
        "m_opt = numerator/denomenator\n",
        "\n",
        "b_opt = y_data_mean - m_opt * x_mean\n",
        "\n",
        "print('m_opt = %.2f' % (m_opt)) # note this is one way of formatting the output to round to 2 decimal places (or 'floating points')\n",
        "print('b_opt = {:.2f}'.format(b_opt)) # note this is another way of formatting the output to round to 2 decimal places (or 'floating points')"
      ],
      "execution_count": 23,
      "outputs": [
        {
          "output_type": "stream",
          "text": [
            "m_opt = 2.49\n",
            "b_opt = -3.54\n"
          ],
          "name": "stdout"
        }
      ]
    },
    {
      "cell_type": "markdown",
      "metadata": {
        "id": "MQ6xE__S9s_5"
      },
      "source": [
        "REVIEW: What does `+=` do?"
      ]
    },
    {
      "cell_type": "markdown",
      "metadata": {
        "id": "myAeehaq6jFu"
      },
      "source": [
        "EXERCISE: Now do the same thing using arrays instead of a `for` loop:"
      ]
    },
    {
      "cell_type": "code",
      "metadata": {
        "id": "YI7aNbDx6jFv",
        "colab": {
          "base_uri": "https://localhost:8080/"
        },
        "outputId": "2ceee509-349a-4915-f3d8-5b58b8b8dc6d"
      },
      "source": [
        "numerator = # write one line of code here\n",
        "denomenator = # write one line of code here\n",
        "    \n",
        "m_opt = numerator/denomenator\n",
        "\n",
        "b_opt = y_data_mean - m_opt * x_mean\n",
        "\n",
        "print('m_opt = %.3f' % (m_opt))\n",
        "print('b_opt = {:.3f}'.format(b_opt)) # note these are two ways of formatting the output to round to 2 decimal places (or 'floating points')"
      ],
      "execution_count": 17,
      "outputs": [
        {
          "output_type": "stream",
          "text": [
            "m_opt = 2.491\n",
            "b_opt = -3.542\n"
          ],
          "name": "stdout"
        }
      ]
    },
    {
      "cell_type": "code",
      "metadata": {
        "cellView": "form",
        "id": "Jt_HIbQ7-IBm"
      },
      "source": [
        "#@title (solution)\n",
        "numerator = np.sum((x_data-x_mean)*(y_data-y_data_mean))\n",
        "denomenator = np.sum((x_data-x_mean)**2)"
      ],
      "execution_count": null,
      "outputs": []
    },
    {
      "cell_type": "markdown",
      "metadata": {
        "id": "lSJsTGq26jFv"
      },
      "source": [
        "EXERCISE: Use your solution above to build a function `fit()` with inputs `x_data`,`y_data` and outputs `m_opt`, `b_opt`"
      ]
    },
    {
      "cell_type": "markdown",
      "metadata": {
        "id": "OTGpensw6jFv"
      },
      "source": [
        "One possible solution:"
      ]
    },
    {
      "cell_type": "code",
      "metadata": {
        "id": "v-7Mn5dP6jFv"
      },
      "source": [
        "def fit(x_data,y_data):\n",
        "    \n",
        "    x_mean = # code here\n",
        "    y_data_mean = # code here\n",
        "    \n",
        "    numerator = # code here\n",
        "    denomenator = # code here\n",
        "    \n",
        "    m_opt = numerator/denomenator\n",
        "\n",
        "    b_opt = y_data_mean - m_opt * x_mean\n",
        "    \n",
        "    return m_opt, b_opt # note that it outputs two values"
      ],
      "execution_count": 18,
      "outputs": []
    },
    {
      "cell_type": "code",
      "metadata": {
        "cellView": "form",
        "id": "kIXam_bC-jJj"
      },
      "source": [
        "#@title (solution)\n",
        "\n",
        "x_mean = x_data.mean()\n",
        "y_data_mean = y_data.mean()\n",
        "\n",
        "numerator = np.sum((x_data-x_mean)*(y_data-y_data_mean))\n",
        "denomenator = np.sum((x_data-x_mean)**2)"
      ],
      "execution_count": null,
      "outputs": []
    },
    {
      "cell_type": "code",
      "metadata": {
        "id": "5vpAx2qN6jFw",
        "colab": {
          "base_uri": "https://localhost:8080/"
        },
        "outputId": "6f5d4a7c-bdc8-48fb-fe6f-e08574feff0a"
      },
      "source": [
        "# Our fitting function\n",
        "m_opt,b_opt = fit(x_data,y_data)\n",
        "print('Best fit: m={:.3f}, b={:.3f}'.format(m_opt,b_opt))"
      ],
      "execution_count": 19,
      "outputs": [
        {
          "output_type": "stream",
          "text": [
            "Best fit: m=2.491, b=-3.542\n"
          ],
          "name": "stdout"
        }
      ]
    },
    {
      "cell_type": "markdown",
      "metadata": {
        "id": "45S0LCZG6jFw"
      },
      "source": [
        "So we have constructed our own **Ordinary Least Squares** estimator! Let's see how well our estimator function does on our toy dataset:"
      ]
    },
    {
      "cell_type": "code",
      "metadata": {
        "id": "x2v2tyuk6jFw",
        "colab": {
          "base_uri": "https://localhost:8080/",
          "height": 268
        },
        "outputId": "592677e3-6e77-42ee-d26f-31f18dc1bfc6"
      },
      "source": [
        "plt.axvline(x=0,ymin=-5,ymax=5,color='gray')\n",
        "plt.axhline(y=0,xmin=-5,xmax=5,color='gray')\n",
        "\n",
        "y_pred = linear_model(x_data,m_opt,b_opt)\n",
        "\n",
        "plt.scatter(x_data,y_data,color='C9',label='data')\n",
        "plt.plot(x,linear_model(x,m,b),linewidth=3,label='ground truth')\n",
        "plt.plot(x_data,y_pred,'-',linewidth=3,label='prediction')\n",
        "\n",
        "plt.legend()\n",
        "\n",
        "plt.show()"
      ],
      "execution_count": 24,
      "outputs": [
        {
          "output_type": "display_data",
          "data": {
            "image/png": "[encoded data removed]",
            "text/plain": [
              "<Figure size 432x288 with 1 Axes>"
            ]
          },
          "metadata": {
            "tags": []
          }
        }
      ]
    },
    {
      "cell_type": "markdown",
      "metadata": {
        "id": "BlDL2p7O6jFx"
      },
      "source": [
        "This is pretty decent!\n",
        "\n",
        "Finally, we want to have some measure of goodness of fit. Let's use $R^2$ (the coefficient of determination):\n",
        "\n",
        "$$ R^2 = 1 - \\frac{\\sum_i (y^{data}_i - y^{pred})^2}{\\sum_i (y^{data}_i-\\bar{y}^{data})^2}$$"
      ]
    },
    {
      "cell_type": "markdown",
      "metadata": {
        "id": "Q2TI8sU-_GHH"
      },
      "source": [
        "EXERCISE: Fill our the code here to calculate $R^2$"
      ]
    },
    {
      "cell_type": "code",
      "metadata": {
        "id": "6JM0viqf6jFy",
        "colab": {
          "base_uri": "https://localhost:8080/"
        },
        "outputId": "f0848ce2-18d3-462d-99e8-2209eb9bb30b"
      },
      "source": [
        "ss_res = np.sum((y_data - y_pred)**2) # residual sum of squares\n",
        "ss_tot = # your code here # total sum of squares\n",
        "\n",
        "r2 = 1-ss_res/ss_tot\n",
        "\n",
        "print('r2 = {:.2f}'.format(r2))"
      ],
      "execution_count": 21,
      "outputs": [
        {
          "output_type": "stream",
          "text": [
            "r2 = 0.68\n"
          ],
          "name": "stdout"
        }
      ]
    },
    {
      "cell_type": "code",
      "metadata": {
        "cellView": "form",
        "id": "o30_g5Wl_C7p"
      },
      "source": [
        "#@title (solution)\n",
        "ss_tot = np.sum((y_data - y_data_mean)**2) # total sum of squares"
      ],
      "execution_count": 25,
      "outputs": []
    },
    {
      "cell_type": "markdown",
      "metadata": {
        "id": "OAUHaevK6jFy"
      },
      "source": [
        "# Part 1: 6 ways to do linear regression\n",
        "\n",
        "(borrowing heavily from https://www.freecodecamp.org/news/data-science-with-python-8-ways-to-do-linear-regression-and-measure-their-speed-b5577d75f8b/)\n",
        "\n",
        "Now we will run through a handful of ways to do linear regression in Python, finishing with sklearn. Make sure you understand each line of code below."
      ]
    },
    {
      "cell_type": "markdown",
      "metadata": {
        "id": "dkUHUccd6jFz"
      },
      "source": [
        "## Method 1: `scipy.polyfit( )` or `numpy.polyfit( )`\n",
        "\n",
        "For simple linear regression, one can choose degree 1."
      ]
    },
    {
      "cell_type": "code",
      "metadata": {
        "id": "ZCmZEu6Z6jFz",
        "colab": {
          "base_uri": "https://localhost:8080/"
        },
        "outputId": "181836c6-eb6a-4a66-871b-8df36b29a559"
      },
      "source": [
        "z = np.polyfit(x_data, y_data, 1)\n",
        "z\n"
      ],
      "execution_count": 26,
      "outputs": [
        {
          "output_type": "execute_result",
          "data": {
            "text/plain": [
              "array([ 2.49089425, -3.54235546])"
            ]
          },
          "metadata": {
            "tags": []
          },
          "execution_count": 26
        }
      ]
    },
    {
      "cell_type": "markdown",
      "metadata": {
        "id": "2_Xq_11E6jFz"
      },
      "source": [
        "These are the same values we found above with our custom function!"
      ]
    },
    {
      "cell_type": "markdown",
      "metadata": {
        "id": "7XHKE1S_6jFz"
      },
      "source": [
        "## Method 2: `scipy.stats.linregress()`"
      ]
    },
    {
      "cell_type": "code",
      "metadata": {
        "id": "3hg8_NoB6jF0"
      },
      "source": [
        "from scipy import stats"
      ],
      "execution_count": 28,
      "outputs": []
    },
    {
      "cell_type": "markdown",
      "metadata": {
        "id": "_RNYSKix6jF0"
      },
      "source": [
        "This is a highly specialized linear regression function available within the `stats` module of `scipy` \n",
        "* It is fairly restricted in its flexibility as it is optimized to calculate a linear least-squares regression for two sets of measurements only. \n",
        "* You cannot fit a generalized linear model or multi-variate regression using this. \n",
        "* Because of its specialized nature, it is one of the fastest methods when it comes to simple linear regression. "
      ]
    },
    {
      "cell_type": "code",
      "metadata": {
        "id": "1Uz16kGx6jF0",
        "colab": {
          "base_uri": "https://localhost:8080/"
        },
        "outputId": "f722d311-ac29-413f-f160-52edeeb7166e"
      },
      "source": [
        "slope, intercept, r_value, p_value, std_err = stats.linregress(x_data, y_data)\n",
        "\n",
        "print('--------------------------------------')\n",
        "print('slope: ',slope,'\\n')\n",
        "print('intercept: ',intercept,'\\n')\n",
        "print('r-squared: ',r_value**2,'\\n')\n",
        "print('p-value: ',p_value,'\\n')\n",
        "print('standard error: ',std_err)\n",
        "print('--------------------------------------')"
      ],
      "execution_count": 29,
      "outputs": [
        {
          "output_type": "stream",
          "text": [
            "--------------------------------------\n",
            "slope:  2.4908942459878394 \n",
            "\n",
            "intercept:  -3.5423554637163086 \n",
            "\n",
            "r-squared:  0.6754591129106784 \n",
            "\n",
            "p-value:  1.0978889281704885e-25 \n",
            "\n",
            "standard error:  0.17441242816616506\n",
            "--------------------------------------\n"
          ],
          "name": "stdout"
        }
      ]
    },
    {
      "cell_type": "markdown",
      "metadata": {
        "id": "2F3kb-ko_nQ9"
      },
      "source": [
        "The stats package is particularly nice, as it returns r-squared, standard error etc. automatically"
      ]
    },
    {
      "cell_type": "markdown",
      "metadata": {
        "id": "jAbDJvmG6jF0"
      },
      "source": [
        "# Method 3: `scipy.optimize.curvefit()`"
      ]
    },
    {
      "cell_type": "code",
      "metadata": {
        "id": "163qLTJL6jF0"
      },
      "source": [
        "from scipy import optimize"
      ],
      "execution_count": 30,
      "outputs": []
    },
    {
      "cell_type": "markdown",
      "metadata": {
        "id": "jS__bdFC6jF1"
      },
      "source": [
        "This is along the same line as the `polyfit` method, but more general in nature. This powerful function from `scipy.optimize` module can fit any user-defined function to a data set by doing least-square minimization.\n",
        "\n",
        "* For simple linear regression, one can just write a linear mx+b function and call this estimator. \n",
        "* Works for multi-variate regression too. \n",
        "* It returns an array of function parameters for which the least-squares measure is minimized and the associated covariance matrix.\n",
        "\n",
        "see full documentation here: https://docs.scipy.org/doc/scipy/reference/generated/scipy.optimize.curve_fit.html"
      ]
    },
    {
      "cell_type": "code",
      "metadata": {
        "id": "t4eT95XL6jF1",
        "colab": {
          "base_uri": "https://localhost:8080/"
        },
        "outputId": "7a7011fe-352d-4fcb-fb4a-b03cc9663551"
      },
      "source": [
        "popt, pcov = optimize.curve_fit(linear_model,x_data, y_data)\n",
        "\n",
        "popt"
      ],
      "execution_count": 31,
      "outputs": [
        {
          "output_type": "execute_result",
          "data": {
            "text/plain": [
              "array([ 2.49089425, -3.54235547])"
            ]
          },
          "metadata": {
            "tags": []
          },
          "execution_count": 31
        }
      ]
    },
    {
      "cell_type": "markdown",
      "metadata": {
        "id": "tJempxi9_-2U"
      },
      "source": [
        "DISCUSSION: Why does `optimize.curve_fit` take in `linear_model`? What does this mean exactly?"
      ]
    },
    {
      "cell_type": "markdown",
      "metadata": {
        "id": "eONEPghY6jF1"
      },
      "source": [
        "# Method 4: `numpy.linalg.lstsq`"
      ]
    },
    {
      "cell_type": "code",
      "metadata": {
        "id": "cqv9NF636jF1"
      },
      "source": [
        "import numpy.linalg as LA"
      ],
      "execution_count": 32,
      "outputs": []
    },
    {
      "cell_type": "markdown",
      "metadata": {
        "id": "zb8RMTrF6jF1"
      },
      "source": [
        "This is the fundamental method of calculating least-square solution to a linear system of equation by matrix factorization. It comes from the handy linear algebra module of numpy package. Under the hood, it solves the equation a x = b by computing a vector x that minimizes the Euclidean 2-norm || b — a x ||².\n",
        "\n",
        "The equation may be under-, well-, or over- determined (i.e., the number of linearly independent rows of a can be less than, equal to, or greater than its number of linearly independent columns). If a is square and of full rank, then x (but for round-off error) is the “exact” solution of the equation.\n",
        "\n",
        "You can do either simple or multi-variate regression with this and get back the calculated coefficients and residuals. One little trick is that before calling this function you have to append a column of 1’s to the x data to calculate the intercept term. Turns out it is one of the faster methods to try for linear regression problems.\n",
        "\n",
        "(see https://docs.scipy.org/doc/numpy-1.13.0/reference/generated/numpy.linalg.lstsq.html#numpy.linalg.lstsq)"
      ]
    },
    {
      "cell_type": "code",
      "metadata": {
        "id": "CaHZZLJA6jF2",
        "colab": {
          "base_uri": "https://localhost:8080/"
        },
        "outputId": "d3254069-54d5-472e-8223-85c7a35bc06a"
      },
      "source": [
        "A = np.vstack([x_data, np.ones(len(x_data))]).T # append column of onese\n",
        "A[:10,:] # see what matrix A looks like"
      ],
      "execution_count": 34,
      "outputs": [
        {
          "output_type": "execute_result",
          "data": {
            "text/plain": [
              "array([[ 1.76405235,  1.        ],\n",
              "       [ 0.50015721,  1.        ],\n",
              "       [ 1.17873798,  1.        ],\n",
              "       [ 2.5408932 ,  1.        ],\n",
              "       [ 2.26755799,  1.        ],\n",
              "       [-0.47727788,  1.        ],\n",
              "       [ 1.55008842,  1.        ],\n",
              "       [ 0.54864279,  1.        ],\n",
              "       [ 0.69678115,  1.        ],\n",
              "       [ 1.3105985 ,  1.        ]])"
            ]
          },
          "metadata": {
            "tags": []
          },
          "execution_count": 34
        }
      ]
    },
    {
      "cell_type": "markdown",
      "metadata": {
        "id": "_Ww2a1KAASE3"
      },
      "source": [
        "DISCUSSION: What does `vstack` do? What does `.T` do?"
      ]
    },
    {
      "cell_type": "code",
      "metadata": {
        "id": "XblJ-ClB6jF2",
        "colab": {
          "base_uri": "https://localhost:8080/"
        },
        "outputId": "be3c8fd3-385e-446f-a49b-86829ca44681"
      },
      "source": [
        "slope, intercept  = LA.lstsq(A, y_data)[0]\n",
        "\n",
        "print(slope,intercept)"
      ],
      "execution_count": 35,
      "outputs": [
        {
          "output_type": "stream",
          "text": [
            "2.4908942459878376 -3.542355463716302\n"
          ],
          "name": "stdout"
        },
        {
          "output_type": "stream",
          "text": [
            "/usr/local/lib/python3.7/dist-packages/ipykernel_launcher.py:1: FutureWarning: `rcond` parameter will change to the default of machine precision times ``max(M, N)`` where M and N are the input matrix dimensions.\n",
            "To use the future default and silence this warning we advise to pass `rcond=None`, to keep using the old, explicitly pass `rcond=-1`.\n",
            "  \"\"\"Entry point for launching an IPython kernel.\n"
          ],
          "name": "stderr"
        }
      ]
    },
    {
      "cell_type": "markdown",
      "metadata": {
        "id": "Q_87Q1oK6jF2"
      },
      "source": [
        "# Method 5: `statsmodels`"
      ]
    },
    {
      "cell_type": "markdown",
      "metadata": {
        "id": "tw4cCXiM6jF2"
      },
      "source": [
        "`statsmodels` is a great Python package that provides **classes** and **functions** for the estimation of many different statistical models, as well as for conducting statistical tests, and statistical data exploration. An extensive list of result statistics are available for each estimator. The results are tested against existing statistical packages to ensure correctness.\n",
        "\n",
        "For linear regression, one can use the OLS or **Ordinary Least Squares** function from this package and obtain the full blown statistical information about the estimation process.\n",
        "\n",
        "One little trick to remember is that you have to add a constant manually to the x data for calculating the intercept, otherwise by default it will report the coefficient only. Below is the snapshot of the full results summary of the OLS model. It is as rich as any functional statistical language like R or Julia.\n",
        "\n",
        "see https://www.statsmodels.org/dev/examples/notebooks/generated/ols.html"
      ]
    },
    {
      "cell_type": "code",
      "metadata": {
        "id": "-CBx_T3h6jF2",
        "colab": {
          "base_uri": "https://localhost:8080/"
        },
        "outputId": "21ce1a72-92cf-4dfa-9ad7-8c633bacb597"
      },
      "source": [
        "import statsmodels.api as sm\n",
        "A = sm.add_constant(x_data) # Our model needs an intercept so we add a column of 1s\n",
        "results = sm.OLS(y_data, A).fit()\n",
        "print(results.summary())"
      ],
      "execution_count": 36,
      "outputs": [
        {
          "output_type": "stream",
          "text": [
            "/usr/local/lib/python3.7/dist-packages/statsmodels/tools/_testing.py:19: FutureWarning: pandas.util.testing is deprecated. Use the functions in the public API at pandas.testing instead.\n",
            "  import pandas.util.testing as tm\n"
          ],
          "name": "stderr"
        },
        {
          "output_type": "stream",
          "text": [
            "                            OLS Regression Results                            \n",
            "==============================================================================\n",
            "Dep. Variable:                      y   R-squared:                       0.675\n",
            "Model:                            OLS   Adj. R-squared:                  0.672\n",
            "Method:                 Least Squares   F-statistic:                     204.0\n",
            "Date:                Thu, 27 May 2021   Prob (F-statistic):           1.10e-25\n",
            "Time:                        08:47:36   Log-Likelihood:                -305.52\n",
            "No. Observations:                 100   AIC:                             615.0\n",
            "Df Residuals:                      98   BIC:                             620.2\n",
            "Df Model:                           1                                         \n",
            "Covariance Type:            nonrobust                                         \n",
            "==============================================================================\n",
            "                 coef    std err          t      P>|t|      [0.025      0.975]\n",
            "------------------------------------------------------------------------------\n",
            "const         -3.5424      1.016     -3.486      0.001      -5.559      -1.526\n",
            "x1             2.4909      0.174     14.282      0.000       2.145       2.837\n",
            "==============================================================================\n",
            "Omnibus:                        8.252   Durbin-Watson:                   1.993\n",
            "Prob(Omnibus):                  0.016   Jarque-Bera (JB):                3.715\n",
            "Skew:                           0.198   Prob(JB):                        0.156\n",
            "Kurtosis:                       2.143   Cond. No.                         11.7\n",
            "==============================================================================\n",
            "\n",
            "Warnings:\n",
            "[1] Standard Errors assume that the covariance matrix of the errors is correctly specified.\n"
          ],
          "name": "stdout"
        }
      ]
    },
    {
      "cell_type": "markdown",
      "metadata": {
        "id": "Q9aoucdh6jF3"
      },
      "source": [
        "Quantities of interest can be extracted directly from the fitted model. Type `dir(results)` for a full list. Here are some examples:"
      ]
    },
    {
      "cell_type": "code",
      "metadata": {
        "id": "cftQXFdL6jF3",
        "colab": {
          "base_uri": "https://localhost:8080/"
        },
        "outputId": "0bc51fe1-7743-47a0-bf98-f22920568d76"
      },
      "source": [
        "\n",
        "print('Parameters: ', results.params) # notice the intercept is first, then the slope\n",
        "print('R2: ', results.rsquared)"
      ],
      "execution_count": 37,
      "outputs": [
        {
          "output_type": "stream",
          "text": [
            "Parameters:  [-3.54235546  2.49089425]\n",
            "R2:  0.675459112910678\n"
          ],
          "name": "stdout"
        }
      ]
    },
    {
      "cell_type": "markdown",
      "metadata": {
        "id": "6S2HaAd-6jF3"
      },
      "source": [
        "`statsmodels` supports specifying models using R-style formulas and pandas `DataFrames`!"
      ]
    },
    {
      "cell_type": "markdown",
      "metadata": {
        "id": "QBatkLxwAvZO"
      },
      "source": [
        "EXERCISE: Create a pandas dataframe with column 1 as `x_data`, column 2 as `x_data*1e-2`, and column 3 as `y_data`."
      ]
    },
    {
      "cell_type": "code",
      "metadata": {
        "id": "xsCmKX5G6jF3",
        "colab": {
          "base_uri": "https://localhost:8080/",
          "height": 195
        },
        "outputId": "f059e2a1-f04f-4c38-bb15-4cb352470aa7"
      },
      "source": [
        "import statsmodels.api as sm\n",
        "import statsmodels.formula.api as smf\n",
        "\n",
        "# let's make up two variables here x1 and x2 and put them all into a dataframe\n",
        "dat = pd.DataFrame( # your code here\n",
        "dat.head()"
      ],
      "execution_count": 38,
      "outputs": [
        {
          "output_type": "execute_result",
          "data": {
            "text/html": [
              "<div>\n",
              "<style scoped>\n",
              "    .dataframe tbody tr th:only-of-type {\n",
              "        vertical-align: middle;\n",
              "    }\n",
              "\n",
              "    .dataframe tbody tr th {\n",
              "        vertical-align: top;\n",
              "    }\n",
              "\n",
              "    .dataframe thead th {\n",
              "        text-align: right;\n",
              "    }\n",
              "</style>\n",
              "<table border=\"1\" class=\"dataframe\">\n",
              "  <thead>\n",
              "    <tr style=\"text-align: right;\">\n",
              "      <th></th>\n",
              "      <th>x1</th>\n",
              "      <th>x2</th>\n",
              "      <th>y_data</th>\n",
              "    </tr>\n",
              "  </thead>\n",
              "  <tbody>\n",
              "    <tr>\n",
              "      <th>0</th>\n",
              "      <td>1.764052</td>\n",
              "      <td>0.017641</td>\n",
              "      <td>9.178695</td>\n",
              "    </tr>\n",
              "    <tr>\n",
              "      <th>1</th>\n",
              "      <td>0.500157</td>\n",
              "      <td>0.005002</td>\n",
              "      <td>-10.388371</td>\n",
              "    </tr>\n",
              "    <tr>\n",
              "      <th>2</th>\n",
              "      <td>1.178738</td>\n",
              "      <td>0.011787</td>\n",
              "      <td>-8.169832</td>\n",
              "    </tr>\n",
              "    <tr>\n",
              "      <th>3</th>\n",
              "      <td>2.540893</td>\n",
              "      <td>0.025409</td>\n",
              "      <td>6.707395</td>\n",
              "    </tr>\n",
              "    <tr>\n",
              "      <th>4</th>\n",
              "      <td>2.267558</td>\n",
              "      <td>0.022676</td>\n",
              "      <td>-4.743210</td>\n",
              "    </tr>\n",
              "  </tbody>\n",
              "</table>\n",
              "</div>"
            ],
            "text/plain": [
              "         x1        x2     y_data\n",
              "0  1.764052  0.017641   9.178695\n",
              "1  0.500157  0.005002 -10.388371\n",
              "2  1.178738  0.011787  -8.169832\n",
              "3  2.540893  0.025409   6.707395\n",
              "4  2.267558  0.022676  -4.743210"
            ]
          },
          "metadata": {
            "tags": []
          },
          "execution_count": 38
        }
      ]
    },
    {
      "cell_type": "code",
      "metadata": {
        "cellView": "form",
        "id": "stZkjEj8BGHs"
      },
      "source": [
        "#@title (solution)\n",
        "\n",
        "dat = pd.DataFrame({'x1':x_data,'x2':x_data*1e-2,'y_data':y_data})"
      ],
      "execution_count": null,
      "outputs": []
    },
    {
      "cell_type": "code",
      "metadata": {
        "id": "3vYPsqxK6jF4",
        "colab": {
          "base_uri": "https://localhost:8080/"
        },
        "outputId": "e28d0f47-d7a5-413b-f9cc-a2a0e9429b9b"
      },
      "source": [
        "model = smf.ols('y_data ~ x1+x2', data=dat)\n",
        "results = model.fit()\n",
        "print(results.summary())"
      ],
      "execution_count": 39,
      "outputs": [
        {
          "output_type": "stream",
          "text": [
            "                            OLS Regression Results                            \n",
            "==============================================================================\n",
            "Dep. Variable:                 y_data   R-squared:                       0.675\n",
            "Model:                            OLS   Adj. R-squared:                  0.672\n",
            "Method:                 Least Squares   F-statistic:                     204.0\n",
            "Date:                Thu, 27 May 2021   Prob (F-statistic):           1.10e-25\n",
            "Time:                        08:50:55   Log-Likelihood:                -305.52\n",
            "No. Observations:                 100   AIC:                             615.0\n",
            "Df Residuals:                      98   BIC:                             620.2\n",
            "Df Model:                           1                                         \n",
            "Covariance Type:            nonrobust                                         \n",
            "==============================================================================\n",
            "                 coef    std err          t      P>|t|      [0.025      0.975]\n",
            "------------------------------------------------------------------------------\n",
            "Intercept     -3.5424      1.016     -3.486      0.001      -5.559      -1.526\n",
            "x1             2.4906      0.174     14.282      0.000       2.145       2.837\n",
            "x2             0.0249      0.002     14.282      0.000       0.021       0.028\n",
            "==============================================================================\n",
            "Omnibus:                        8.252   Durbin-Watson:                   1.993\n",
            "Prob(Omnibus):                  0.016   Jarque-Bera (JB):                3.715\n",
            "Skew:                           0.198   Prob(JB):                        0.156\n",
            "Kurtosis:                       2.143   Cond. No.                     1.29e+18\n",
            "==============================================================================\n",
            "\n",
            "Warnings:\n",
            "[1] Standard Errors assume that the covariance matrix of the errors is correctly specified.\n",
            "[2] The smallest eigenvalue is 2.08e-33. This might indicate that there are\n",
            "strong multicollinearity problems or that the design matrix is singular.\n"
          ],
          "name": "stdout"
        }
      ]
    },
    {
      "cell_type": "markdown",
      "metadata": {
        "id": "rOzK0HUB6jF4"
      },
      "source": [
        "# Method 6: SciKitLearn (`sklearn`)"
      ]
    },
    {
      "cell_type": "markdown",
      "metadata": {
        "id": "6kMfHZih6jF4"
      },
      "source": [
        "This is the quintessential method used by majority of machine learning engineers and data scientists. Of course, for real world problem, it is probably never much used and is replaced by cross-validated and regularized algorithms such as **LASSO regression** or **ridge regression**. But the essential core of those advanced functions lies in this model.\n",
        "\n",
        "Introductary examples can be found here: https://jakevdp.github.io/PythonDataScienceHandbook/05.06-linear-regression.html (this resource is a full online textbook with accompanying notebooks)\n",
        "\n",
        "The scikitlearn documentation is here: https://scikit-learn.org/stable/modules/generated/sklearn.linear_model.LinearRegression.html\n",
        "\n",
        "(Ridge and LASSO regression reduce model complexity and prevent over-fitting. With ridge regression the cost function is altered by adding a penalty equivalent to square of the magnitude of the coefficients aka L2 norm. With LASSO, the penalty is for the magnitude of the coeffecients aka L1 norm. This type of regularization (L1) can lead to sparse/zero coefficients)"
      ]
    },
    {
      "cell_type": "code",
      "metadata": {
        "id": "lDdt9b1v6jF4"
      },
      "source": [
        "from sklearn.linear_model import LinearRegression"
      ],
      "execution_count": 40,
      "outputs": []
    },
    {
      "cell_type": "markdown",
      "metadata": {
        "id": "MpG_dqj4Bftf"
      },
      "source": [
        "EXERCISE: use the `fit` method on your x_data and your y_data. Make sure to reshape your x_data so that it is 2D (not 1D). You can do this with `.reshape(-,1)`. Why is this necessary? What does it mean? (Hint: sklearn always assume data is organized by rows aka samples and columns aka features. Even if your data is 1D, it should still be a 2D array with rows and columns...)"
      ]
    },
    {
      "cell_type": "code",
      "metadata": {
        "id": "hPXgZMAP6jF4",
        "colab": {
          "base_uri": "https://localhost:8080/"
        },
        "outputId": "e6df5bed-dbda-4c59-ce21-5428d2a446d1"
      },
      "source": [
        "model = LinearRegression(fit_intercept=True)\n",
        "\n",
        "model.fit( # your code here )\n",
        "\n",
        "print(\"model slope:    \", model.coef_[0])\n",
        "print(\"model intercept:\", model.intercept_)"
      ],
      "execution_count": 41,
      "outputs": [
        {
          "output_type": "stream",
          "text": [
            "model slope:     2.490894245987837\n",
            "model intercept: -3.542355463716298\n"
          ],
          "name": "stdout"
        }
      ]
    },
    {
      "cell_type": "code",
      "metadata": {
        "cellView": "form",
        "id": "fPH-pII4BYSG"
      },
      "source": [
        "#@title (solution)\n",
        "model.fit(x_data.reshape(-1,1), y_data)"
      ],
      "execution_count": null,
      "outputs": []
    },
    {
      "cell_type": "markdown",
      "metadata": {
        "id": "kqoMPQv0BXyB"
      },
      "source": [
        ""
      ]
    },
    {
      "cell_type": "code",
      "metadata": {
        "id": "dOVDrWv96jF4",
        "colab": {
          "base_uri": "https://localhost:8080/",
          "height": 268
        },
        "outputId": "4e8bd7cc-a421-4af8-86ca-7a2293c83e24"
      },
      "source": [
        "y_pred = model.predict(x_data.reshape(-1,1))\n",
        "\n",
        "\n",
        "plt.axvline(color='gray')\n",
        "plt.axhline(color='gray')\n",
        "\n",
        "plt.scatter(x_data,y_data,color='C9',label='data')\n",
        "plt.plot(x,linear_model(x,m,b),linewidth=3,label='ground truth')\n",
        "plt.plot(x_data,y_pred,'-',linewidth=3,label='prediction')\n",
        "\n",
        "plt.legend()\n",
        "plt.show()"
      ],
      "execution_count": 42,
      "outputs": [
        {
          "output_type": "display_data",
          "data": {
            "image/png": "[encoded data removed]",
            "text/plain": [
              "<Figure size 432x288 with 1 Axes>"
            ]
          },
          "metadata": {
            "tags": []
          }
        }
      ]
    },
    {
      "cell_type": "markdown",
      "metadata": {
        "id": "FbW9Vf4G6jF5"
      },
      "source": [
        "# What is special about these last two methods?"
      ]
    },
    {
      "cell_type": "markdown",
      "metadata": {
        "id": "vhU35ju46jF6"
      },
      "source": [
        "First we create a `LinearRegression` object:"
      ]
    },
    {
      "cell_type": "code",
      "metadata": {
        "id": "qvigKGkE6jF6"
      },
      "source": [
        "model = LinearRegression(fit_intercept=True)"
      ],
      "execution_count": null,
      "outputs": []
    },
    {
      "cell_type": "markdown",
      "metadata": {
        "id": "BjtcrTi76jF6"
      },
      "source": [
        "Then we apply a method `fit()` to it:"
      ]
    },
    {
      "cell_type": "code",
      "metadata": {
        "id": "OB8XT4sJ6jF6"
      },
      "source": [
        "model.fit(x_data.reshape(-1,1), y_data)"
      ],
      "execution_count": null,
      "outputs": []
    },
    {
      "cell_type": "markdown",
      "metadata": {
        "id": "fsKWGIYM6jF6"
      },
      "source": [
        "And another method `predict()`"
      ]
    },
    {
      "cell_type": "code",
      "metadata": {
        "id": "2nYxJFcb6jF7"
      },
      "source": [
        "y_pred = model.predict(x_data.reshape(-1,1))"
      ],
      "execution_count": null,
      "outputs": []
    },
    {
      "cell_type": "markdown",
      "metadata": {
        "id": "7WIHCPLp6jF7"
      },
      "source": [
        "In addition, the 'object' we've called `model` stores values like `coef_` and `intercept_`"
      ]
    },
    {
      "cell_type": "code",
      "metadata": {
        "id": "JKePMYA-6jF7",
        "outputId": "7a5345e2-217f-465a-9d6c-b6245c791d93"
      },
      "source": [
        "print(\"model slope:    \", model.coef_[0])\n",
        "print(\"model intercept:\", model.intercept_)"
      ],
      "execution_count": null,
      "outputs": [
        {
          "output_type": "stream",
          "text": [
            "model slope:     2.490894245987837\n",
            "model intercept: -3.542355463716298\n"
          ],
          "name": "stdout"
        }
      ]
    },
    {
      "cell_type": "markdown",
      "metadata": {
        "id": "928-ZEz26jF8"
      },
      "source": [
        "We've moved from functions to Classes!"
      ]
    },
    {
      "cell_type": "markdown",
      "metadata": {
        "id": "fu3iF20-CLi6"
      },
      "source": [
        "# Part 2: Building a Class in sklearn"
      ]
    },
    {
      "cell_type": "markdown",
      "metadata": {
        "id": "KT9XCv6P6jF8"
      },
      "source": [
        "# Why Classes?"
      ]
    },
    {
      "cell_type": "markdown",
      "metadata": {
        "id": "cS4rv4Lg6jF8"
      },
      "source": [
        "Aren't we better off in a classless society? (see [Monty Python - Constitutional Peasants](https://www.youtube.com/watch?v=t2c-X8HiBng))\n",
        "\n",
        "> Classless society, in Marxism, the ultimate condition of social organization, expected to occur when true communism is achieved. \n",
        "\n",
        "> According to Karl Marx (1818–83), the primary function of the state is to repress the lower classes of society in the interests of the ruling class. However, after the class struggle has resulted in the victory of the proletariat and the establishment of a socialist society, there will be no further need for such a repressive institution; with the disappearance of classes, the state is expected to “wither away.” (https://www.britannica.com/topic/classless-society)"
      ]
    },
    {
      "cell_type": "markdown",
      "metadata": {
        "id": "mAfLBfhp6jF8"
      },
      "source": [
        "> `Daved:` Basically classes help you take all the properties and behaviors of an object in your program, and combine them into a single interface, then re-use that interface wherever you need that type of object in your program."
      ]
    },
    {
      "cell_type": "markdown",
      "metadata": {
        "id": "cpxD7fh56jF8"
      },
      "source": [
        "> `twomers:`  Having functions and operators associated with a variable is very very handy. Saves you having to remember functions manipulate variables etc. I love them "
      ]
    },
    {
      "cell_type": "markdown",
      "metadata": {
        "id": "pk-NB9qc6jF8"
      },
      "source": [
        ">`DougDbug:` For small programs, I wouldn't say object oriented programming is \"easier\". But for large complex projects, it's easier to design and maintain the program."
      ]
    },
    {
      "cell_type": "markdown",
      "metadata": {
        "id": "loDeFfTS6jF8"
      },
      "source": [
        "(from https://cboard.cprogramming.com/cplusplus-programming/87299-why-classes-useful.html)"
      ]
    },
    {
      "cell_type": "markdown",
      "metadata": {
        "id": "5wyXEj6O6jF9"
      },
      "source": [
        "# Why Object-Orient Programming?"
      ]
    },
    {
      "cell_type": "markdown",
      "metadata": {
        "id": "_nXTAQBU6jF9"
      },
      "source": [
        "**Object-oriented programming (OOP)** refers to a type of computer programming (software design) in which programmers define the **data type of a data structure**, and also the types of **operations (functions)** that can be applied to the data structure."
      ]
    },
    {
      "cell_type": "markdown",
      "metadata": {
        "id": "VGwpkKz_6jF9"
      },
      "source": [
        "**In this way, the data structure becomes an object that includes both data and functions**"
      ]
    },
    {
      "cell_type": "markdown",
      "metadata": {
        "id": "qLbtbLZu6jF9"
      },
      "source": [
        "### Basic OOP Concepts:"
      ]
    },
    {
      "cell_type": "markdown",
      "metadata": {
        "id": "XHbVHtMG6jF9"
      },
      "source": [
        "* **Abstraction:** The process of picking out (abstracting) common features of objects and procedures."
      ]
    },
    {
      "cell_type": "markdown",
      "metadata": {
        "id": "0IfrFYGP6jF9"
      },
      "source": [
        "* **Class:** A category of objects. The class defines all the common properties of the different objects that belong to it."
      ]
    },
    {
      "cell_type": "markdown",
      "metadata": {
        "id": "vGcyFjqT6jF9"
      },
      "source": [
        "* **Information hiding:** The process of hiding details of an object or function. Information hiding is a powerful programming technique because it reduces complexity."
      ]
    },
    {
      "cell_type": "markdown",
      "metadata": {
        "id": "-vxsyAwK6jF9"
      },
      "source": [
        "* **Inheritance:** a feature that represents the \"is a\" relationship between different classes."
      ]
    },
    {
      "cell_type": "markdown",
      "metadata": {
        "id": "5UpZxkqq6jF-"
      },
      "source": [
        "* **Object:** a self-contained entity that consists of both data and procedures to manipulate the data."
      ]
    },
    {
      "cell_type": "markdown",
      "metadata": {
        "id": "whEqPLUw6jF-"
      },
      "source": [
        "* **Polymorphism:** A programming language's ability to process objects differently depending on their data type or class"
      ]
    },
    {
      "cell_type": "markdown",
      "metadata": {
        "id": "WjbdaBXr6jF-"
      },
      "source": [
        "(source https://www.webopedia.com/TERM/O/object_oriented_programming_OOP.html)"
      ]
    },
    {
      "cell_type": "markdown",
      "metadata": {
        "id": "yoCiunBQ6jF-"
      },
      "source": [
        "# Basic Example: Class"
      ]
    },
    {
      "cell_type": "markdown",
      "metadata": {
        "id": "N2BhUFor6jF-"
      },
      "source": [
        "This was taken from the following resource: http://hplgit.github.io/primer.html/doc/pub/class/._class-readable001.html#sec:class:functors"
      ]
    },
    {
      "cell_type": "markdown",
      "metadata": {
        "id": "Y-5OEKDw6jF-"
      },
      "source": [
        "* A class contains a set of variables (data) and a set of functions, or methods, held together as one unit.\n",
        "\n",
        "* The variables are visible in all the functions in the class. That is, we can view the variables as \"global\" in these functions. However these variables are not accessible separate from the class (this type of **information hiding** is powerful)\n",
        "\n",
        "* You can also make many copies of a class"
      ]
    },
    {
      "cell_type": "markdown",
      "metadata": {
        "id": "H88M5CIq6jF-"
      },
      "source": [
        "* Every class must have a name, often starting with a capital by convention a class usually has another function, called constructor for initializing the data\n",
        "* The constructor is always named __init__.\n"
      ]
    },
    {
      "cell_type": "code",
      "metadata": {
        "id": "_DTmTEf_6jF_"
      },
      "source": [
        "# This is just a function\n",
        "def linear_model(x,m,b):\n",
        "    \n",
        "    y = m*x + b\n",
        "    \n",
        "    return y"
      ],
      "execution_count": 43,
      "outputs": []
    },
    {
      "cell_type": "code",
      "metadata": {
        "id": "Ybp2psXW6jF_"
      },
      "source": [
        "# This is a class!!\n",
        "class LinearModel():\n",
        "    \n",
        "    def __init__(self,m,b):\n",
        "        self.m = m\n",
        "        self.b = b"
      ],
      "execution_count": 44,
      "outputs": []
    },
    {
      "cell_type": "code",
      "metadata": {
        "id": "Vq2vF6OJ6jF_",
        "colab": {
          "base_uri": "https://localhost:8080/",
          "height": 162
        },
        "outputId": "d2462aa2-0667-4185-e107-9676bc853364"
      },
      "source": [
        "lm = LinearModel()"
      ],
      "execution_count": 45,
      "outputs": [
        {
          "output_type": "error",
          "ename": "TypeError",
          "evalue": "ignored",
          "traceback": [
            "\u001b[0;31m---------------------------------------------------------------------------\u001b[0m",
            "\u001b[0;31mTypeError\u001b[0m                                 Traceback (most recent call last)",
            "\u001b[0;32m<ipython-input-45-8423b03eff48>\u001b[0m in \u001b[0;36m<module>\u001b[0;34m()\u001b[0m\n\u001b[0;32m----> 1\u001b[0;31m \u001b[0mlm\u001b[0m \u001b[0;34m=\u001b[0m \u001b[0mLinearModel\u001b[0m\u001b[0;34m(\u001b[0m\u001b[0;34m)\u001b[0m\u001b[0;34m\u001b[0m\u001b[0;34m\u001b[0m\u001b[0m\n\u001b[0m",
            "\u001b[0;31mTypeError\u001b[0m: __init__() missing 2 required positional arguments: 'm' and 'b'"
          ]
        }
      ]
    },
    {
      "cell_type": "markdown",
      "metadata": {
        "id": "hylnU3ckCc65"
      },
      "source": [
        "DISCUSSION: Why does this throw an error?"
      ]
    },
    {
      "cell_type": "code",
      "metadata": {
        "id": "YbLaPkRV6jF_"
      },
      "source": [
        "lm = LinearModel(m=2,b=5)"
      ],
      "execution_count": 46,
      "outputs": []
    },
    {
      "cell_type": "markdown",
      "metadata": {
        "id": "l2XeazCZCg7I"
      },
      "source": [
        "Let's print this and see what happens"
      ]
    },
    {
      "cell_type": "code",
      "metadata": {
        "id": "DN79y8cB6jF_",
        "colab": {
          "base_uri": "https://localhost:8080/"
        },
        "outputId": "a524360a-c9b5-45e4-c363-4bf767a334c0"
      },
      "source": [
        "lm"
      ],
      "execution_count": 47,
      "outputs": [
        {
          "output_type": "execute_result",
          "data": {
            "text/plain": [
              "<__main__.LinearModel at 0x7f70e79f9c90>"
            ]
          },
          "metadata": {
            "tags": []
          },
          "execution_count": 47
        }
      ]
    },
    {
      "cell_type": "markdown",
      "metadata": {
        "id": "fvqukKVC6jF_"
      },
      "source": [
        "`lm` is an **Object** that is part of the `LinearModel` **Class**"
      ]
    },
    {
      "cell_type": "code",
      "metadata": {
        "id": "_H_DbUEL6jF_",
        "colab": {
          "base_uri": "https://localhost:8080/"
        },
        "outputId": "d57f5f35-f9c0-4ba8-d77b-395d7d39c8be"
      },
      "source": [
        "m # this is the m defined in the notebok above"
      ],
      "execution_count": 48,
      "outputs": [
        {
          "output_type": "execute_result",
          "data": {
            "text/plain": [
              "2.7"
            ]
          },
          "metadata": {
            "tags": []
          },
          "execution_count": 48
        }
      ]
    },
    {
      "cell_type": "code",
      "metadata": {
        "id": "jtfxpXrP6jGA",
        "colab": {
          "base_uri": "https://localhost:8080/"
        },
        "outputId": "f1d53479-212e-4e38-e627-0e8c28fbfa71"
      },
      "source": [
        "lm.m # this is the m assigned to this specific object instance\n"
      ],
      "execution_count": 49,
      "outputs": [
        {
          "output_type": "execute_result",
          "data": {
            "text/plain": [
              "2"
            ]
          },
          "metadata": {
            "tags": []
          },
          "execution_count": 49
        }
      ]
    },
    {
      "cell_type": "code",
      "metadata": {
        "id": "UYsSoHl76jGA",
        "colab": {
          "base_uri": "https://localhost:8080/"
        },
        "outputId": "24eb541f-8fdb-4181-8fbe-4be1f4bf3c27"
      },
      "source": [
        "lm.b"
      ],
      "execution_count": 50,
      "outputs": [
        {
          "output_type": "execute_result",
          "data": {
            "text/plain": [
              "5"
            ]
          },
          "metadata": {
            "tags": []
          },
          "execution_count": 50
        }
      ]
    },
    {
      "cell_type": "markdown",
      "metadata": {
        "id": "r5SBWJDh6jGA"
      },
      "source": [
        "EXERCISE: Define another method called `output` that takes in `self` and `x` and returns y = mx+b. Hint: Don't forget to access `m` and `b` using `self`!"
      ]
    },
    {
      "cell_type": "code",
      "metadata": {
        "id": "D7Nk1EZV6jGA"
      },
      "source": [
        "class LinearModel():\n",
        "    \n",
        "    def __init__(self,m,b):\n",
        "        self.m = m\n",
        "        self.b = b\n",
        "        \n",
        "    def # your code here"
      ],
      "execution_count": null,
      "outputs": []
    },
    {
      "cell_type": "code",
      "metadata": {
        "cellView": "form",
        "id": "-8CqZ-5kCrfI"
      },
      "source": [
        "#@title (solution)\n",
        "class LinearModel():\n",
        "    \n",
        "    def __init__(self,m,b):\n",
        "        self.m = m\n",
        "        self.b = b\n",
        "        \n",
        "    def output(self,x):\n",
        "        \n",
        "        y = self.m*x + self.b\n",
        "        \n",
        "        return y"
      ],
      "execution_count": 53,
      "outputs": []
    },
    {
      "cell_type": "markdown",
      "metadata": {
        "id": "XURUKlyz6jGA"
      },
      "source": [
        "An **object** of a user-defined class (like `lm`) is usually called an **instance.**\n",
        "\n",
        "We need such an instance in order to use the data in the class and call the value function."
      ]
    },
    {
      "cell_type": "code",
      "metadata": {
        "id": "HZMElAOH6jGA"
      },
      "source": [
        "lm = LinearModel(m=2,b=5)"
      ],
      "execution_count": 55,
      "outputs": []
    },
    {
      "cell_type": "markdown",
      "metadata": {
        "id": "sjXCYwEi6jGB"
      },
      "source": [
        "It looks like we call the class `LinearModel` as if it were a function. However, `LinearModel(m=2,b=5)` is automatically translated by Python to a call to the constructor `__init__` in class `LinearModel`. \n",
        "\n",
        "The arguments in the call, here `m=2,b=5`, are always passed on as arguments to `__init__` after the `self` argument. That is, `m` gets the value 2, `b` the value 5, and `self` is just dropped in the call."
      ]
    },
    {
      "cell_type": "code",
      "metadata": {
        "id": "brIq_wFt6jGC",
        "colab": {
          "base_uri": "https://localhost:8080/"
        },
        "outputId": "bebaec70-7df1-4ff8-eb2b-6e4d42b64062"
      },
      "source": [
        "lm.output(np.arange(0,1,0.1))"
      ],
      "execution_count": 56,
      "outputs": [
        {
          "output_type": "execute_result",
          "data": {
            "text/plain": [
              "array([5. , 5.2, 5.4, 5.6, 5.8, 6. , 6.2, 6.4, 6.6, 6.8])"
            ]
          },
          "metadata": {
            "tags": []
          },
          "execution_count": 56
        }
      ]
    },
    {
      "cell_type": "markdown",
      "metadata": {
        "id": "yH5ZO1Pd6jGC"
      },
      "source": [
        "We have already introduced the term **\"instance''** for the object of a class. \n",
        "\n",
        "Functions in classes are commonly called **methods**, and **variables** (data) in classes are called **data attributes**. \n",
        "\n",
        "Methods are also known as **method attributes**. \n",
        "\n",
        "In our sample class `LinearModel` we have two methods or method attributes, `__init__` and `output`, two data attributes, `m` and `b`, and four attributes in total (`__init__`, `output`,`m` and `b`). \n",
        "\n",
        "The names of attributes can be chosen freely, just as names of ordinary Python functions and variables. However, the constructor must have the name `__init__`, otherwise it is not automatically called when we create new instances.\n",
        "\n",
        "You can do whatever you want in whatever method, but it is a common convention to use the constructor for initializing the variables in the class.\n",
        "\n"
      ]
    },
    {
      "cell_type": "markdown",
      "metadata": {
        "id": "HS_bVmd36jGC"
      },
      "source": [
        "EXERCISE: Write another method here called `print_equation` that prints the equation $y=mx+b$ with the values of $m$ and $b$"
      ]
    },
    {
      "cell_type": "code",
      "metadata": {
        "id": "Vz5PlalL6jGC"
      },
      "source": [
        "class LinearModel():\n",
        "    \n",
        "    def __init__(self,m,b):\n",
        "        self.m = m\n",
        "        self.b = b\n",
        "        \n",
        "    def output(self,x):\n",
        "        \n",
        "        y = self.m*x + self.b\n",
        "        \n",
        "        return y\n",
        "    \n",
        "    # write another method here called `print_equation` that prints the equation y=mx+b with the values of m and b"
      ],
      "execution_count": null,
      "outputs": []
    },
    {
      "cell_type": "code",
      "metadata": {
        "id": "kv9VoSjO6jGD"
      },
      "source": [
        "#Test your method here\n",
        "lm = LinearModel(m=2,b=5)\n",
        "lm.print_equation()"
      ],
      "execution_count": null,
      "outputs": []
    },
    {
      "cell_type": "markdown",
      "metadata": {
        "id": "kKlgDeXI6jGD"
      },
      "source": [
        "# ..."
      ]
    },
    {
      "cell_type": "code",
      "metadata": {
        "id": "D1ZNCoUo6jGD",
        "cellView": "form"
      },
      "source": [
        "#@title (solution)\n",
        "class LinearModel():\n",
        "    \n",
        "    def __init__(self,m,b):\n",
        "        self.m = m\n",
        "        self.b = b\n",
        "        \n",
        "    def output(self,x):\n",
        "        \n",
        "        y = self.m*x + self.b\n",
        "        \n",
        "        return y\n",
        "    \n",
        "    def print_equation(self):\n",
        "        \n",
        "        print('y = {}x + {}'.format(self.m,self.b))"
      ],
      "execution_count": 57,
      "outputs": []
    },
    {
      "cell_type": "code",
      "metadata": {
        "id": "s9vs66Qf6jGD",
        "colab": {
          "base_uri": "https://localhost:8080/"
        },
        "outputId": "8ecfb54e-de73-4757-8564-fd3e905d5f8d"
      },
      "source": [
        "lm = LinearModel(m=2,b=5)\n",
        "lm.print_equation()"
      ],
      "execution_count": 58,
      "outputs": [
        {
          "output_type": "stream",
          "text": [
            "y = 2x + 5\n"
          ],
          "name": "stdout"
        }
      ]
    },
    {
      "cell_type": "markdown",
      "metadata": {
        "id": "l10jHJgo6jGD"
      },
      "source": [
        "Does this class work for 2D arrays?"
      ]
    },
    {
      "cell_type": "code",
      "metadata": {
        "id": "CdBC49ku6jGD"
      },
      "source": [
        "lm = LinearModel(m=2*np.ones((2)),b=np.ones(2)*5)"
      ],
      "execution_count": 59,
      "outputs": []
    },
    {
      "cell_type": "code",
      "metadata": {
        "id": "HvlOAlFn6jGD",
        "colab": {
          "base_uri": "https://localhost:8080/",
          "height": 280
        },
        "outputId": "778f7624-1832-4e8a-a47a-b0dcf74f5d52"
      },
      "source": [
        "lm.output(np.arange(0,1,0.1))"
      ],
      "execution_count": 60,
      "outputs": [
        {
          "output_type": "error",
          "ename": "ValueError",
          "evalue": "ignored",
          "traceback": [
            "\u001b[0;31m---------------------------------------------------------------------------\u001b[0m",
            "\u001b[0;31mValueError\u001b[0m                                Traceback (most recent call last)",
            "\u001b[0;32m<ipython-input-60-7986dffda1f2>\u001b[0m in \u001b[0;36m<module>\u001b[0;34m()\u001b[0m\n\u001b[0;32m----> 1\u001b[0;31m \u001b[0mlm\u001b[0m\u001b[0;34m.\u001b[0m\u001b[0moutput\u001b[0m\u001b[0;34m(\u001b[0m\u001b[0mnp\u001b[0m\u001b[0;34m.\u001b[0m\u001b[0marange\u001b[0m\u001b[0;34m(\u001b[0m\u001b[0;36m0\u001b[0m\u001b[0;34m,\u001b[0m\u001b[0;36m1\u001b[0m\u001b[0;34m,\u001b[0m\u001b[0;36m0.1\u001b[0m\u001b[0;34m)\u001b[0m\u001b[0;34m)\u001b[0m\u001b[0;34m\u001b[0m\u001b[0;34m\u001b[0m\u001b[0m\n\u001b[0m",
            "\u001b[0;32m<ipython-input-57-d8180664ab35>\u001b[0m in \u001b[0;36moutput\u001b[0;34m(self, x)\u001b[0m\n\u001b[1;32m      8\u001b[0m     \u001b[0;32mdef\u001b[0m \u001b[0moutput\u001b[0m\u001b[0;34m(\u001b[0m\u001b[0mself\u001b[0m\u001b[0;34m,\u001b[0m\u001b[0mx\u001b[0m\u001b[0;34m)\u001b[0m\u001b[0;34m:\u001b[0m\u001b[0;34m\u001b[0m\u001b[0;34m\u001b[0m\u001b[0m\n\u001b[1;32m      9\u001b[0m \u001b[0;34m\u001b[0m\u001b[0m\n\u001b[0;32m---> 10\u001b[0;31m         \u001b[0my\u001b[0m \u001b[0;34m=\u001b[0m \u001b[0mself\u001b[0m\u001b[0;34m.\u001b[0m\u001b[0mm\u001b[0m\u001b[0;34m*\u001b[0m\u001b[0mx\u001b[0m \u001b[0;34m+\u001b[0m \u001b[0mself\u001b[0m\u001b[0;34m.\u001b[0m\u001b[0mb\u001b[0m\u001b[0;34m\u001b[0m\u001b[0;34m\u001b[0m\u001b[0m\n\u001b[0m\u001b[1;32m     11\u001b[0m \u001b[0;34m\u001b[0m\u001b[0m\n\u001b[1;32m     12\u001b[0m         \u001b[0;32mreturn\u001b[0m \u001b[0my\u001b[0m\u001b[0;34m\u001b[0m\u001b[0;34m\u001b[0m\u001b[0m\n",
            "\u001b[0;31mValueError\u001b[0m: operands could not be broadcast together with shapes (2,) (10,) "
          ]
        }
      ]
    },
    {
      "cell_type": "markdown",
      "metadata": {
        "id": "kYhInotk6jGE"
      },
      "source": [
        "### How might we create a class `LinearModelND` that works for N-dimensional data?"
      ]
    },
    {
      "cell_type": "markdown",
      "metadata": {
        "id": "bwDhmuGT6jGE"
      },
      "source": [
        "We could create a class from scratch\n",
        "\n",
        "Alternatively, would could create a class that **inherits** from `LinearModel`"
      ]
    },
    {
      "cell_type": "code",
      "metadata": {
        "id": "Z8_QzJJy6jGE"
      },
      "source": [
        "class LinearModelND(LinearModel): # this is inheriting all data/method attributes from LinearModel\n",
        "    pass"
      ],
      "execution_count": 61,
      "outputs": []
    },
    {
      "cell_type": "code",
      "metadata": {
        "id": "jpQ71hxM6jGE"
      },
      "source": [
        "lm_nd = LinearModelND(m=20,b=55)"
      ],
      "execution_count": 62,
      "outputs": []
    },
    {
      "cell_type": "markdown",
      "metadata": {
        "id": "KMm_Z5UR6jGE"
      },
      "source": [
        "This has all the same data/variables and methods as the `LinearModel` class"
      ]
    },
    {
      "cell_type": "code",
      "metadata": {
        "id": "yi6ca7ns6jGE",
        "colab": {
          "base_uri": "https://localhost:8080/"
        },
        "outputId": "89277b62-2627-47e7-e6ec-7c79030d3034"
      },
      "source": [
        "lm_nd.print_equation()"
      ],
      "execution_count": 63,
      "outputs": [
        {
          "output_type": "stream",
          "text": [
            "y = 20x + 55\n"
          ],
          "name": "stdout"
        }
      ]
    },
    {
      "cell_type": "markdown",
      "metadata": {
        "id": "DSEfYEUR6jGE"
      },
      "source": [
        "EXERCISE: Create a class `LinearModelND` that works for N-dimensional data using **inheritance**. Redefine the method `output` and nothing else (HINT: you have to use the dot product `@` instead of the element-wise product `*`)"
      ]
    },
    {
      "cell_type": "markdown",
      "metadata": {
        "id": "LT6B-pkG6jGF"
      },
      "source": [
        "# ..."
      ]
    },
    {
      "cell_type": "code",
      "metadata": {
        "id": "1kMV-iNZ6jGF"
      },
      "source": [
        "class LinearModelND(LinearModel):\n",
        "\n",
        "    def output(self,X):\n",
        "        # by convention X is a matrix and m is a vector\n",
        "        # @ is the dot product\n",
        "        \n",
        "        y = # your code here\n",
        "        \n",
        "        return y"
      ],
      "execution_count": 64,
      "outputs": []
    },
    {
      "cell_type": "code",
      "metadata": {
        "cellView": "form",
        "id": "5zFdIeHlDyDV"
      },
      "source": [
        "#@title (solution)\n",
        "class LinearModelND(LinearModel):\n",
        "\n",
        "    def output(self,X):\n",
        "        # by convention X is a matrix and m is a vector\n",
        "        # @ is the dot product\n",
        "        y = X @ self.m + self.b # this does matrix multiplication\n",
        "        \n",
        "        return y"
      ],
      "execution_count": null,
      "outputs": []
    },
    {
      "cell_type": "code",
      "metadata": {
        "id": "5vdAg1gI6jGF"
      },
      "source": [
        "lm_nd = LinearModelND(m=20*np.ones((2)),b=np.ones(10)*55)"
      ],
      "execution_count": 65,
      "outputs": []
    },
    {
      "cell_type": "markdown",
      "metadata": {
        "id": "VfvYnJ_66jGF"
      },
      "source": [
        "This creates a new `__init__` constructor method for `LinearModelND` but inherits the other methods:"
      ]
    },
    {
      "cell_type": "code",
      "metadata": {
        "id": "R_GZ638H6jGG"
      },
      "source": [
        "class LinearModelND(LinearModel):\n",
        "\n",
        "    def __init__(self, m,b,dim):\n",
        "        self.m = m\n",
        "        self.b = b\n",
        "        self.dim = dim"
      ],
      "execution_count": 68,
      "outputs": []
    },
    {
      "cell_type": "markdown",
      "metadata": {
        "id": "2EhTs7mo6jGG"
      },
      "source": [
        "The `super()` function makes the 'child' class inherit all the methods and properties from its 'parent' (e.g. `LinearModel`)\n",
        "\n",
        "* It makes class inheritance more manageable and extensible\n",
        "\n",
        "* More importantly, it allows for multiple inheritances!"
      ]
    },
    {
      "cell_type": "code",
      "metadata": {
        "id": "KO1yjEiE6jGG"
      },
      "source": [
        "class LinearModelND(LinearModel):\n",
        "\n",
        "    def __init__(self, m,b,dim):\n",
        "        super().__init__(m, b)\n",
        "        self.dim = dim # this adds another variable to the intialization\n"
      ],
      "execution_count": 69,
      "outputs": []
    },
    {
      "cell_type": "markdown",
      "metadata": {
        "id": "OEXbbMc-6jGG"
      },
      "source": [
        "# The id, ego, and super-ego: Rules regarding `self`.\n",
        "* Any class method must have `self` as first argument.\n",
        "* `self` represents an (arbitrary) instance of the class.\n",
        "* To access any class attribute inside class methods, we must prefix with `self`, as in `self.name`, where name is the `name` of the attribute.\n",
        "* `self` is dropped as argument in calls to class methods."
      ]
    },
    {
      "cell_type": "markdown",
      "metadata": {
        "id": "feRELdEt6jGG"
      },
      "source": [
        "# Break!\n",
        "\n",
        "(highly recommended Monty Python --> Constitutional Peasants Scene https://www.youtube.com/watch?v=t2c-X8HiBng)"
      ]
    },
    {
      "cell_type": "markdown",
      "metadata": {
        "id": "IPBpCTiE6jGG"
      },
      "source": [
        "# Building a Linear Regression Class from Scratch"
      ]
    },
    {
      "cell_type": "markdown",
      "metadata": {
        "id": "ECO9VZjH6jGG"
      },
      "source": [
        "(This is inspired by the following post: https://towardsdatascience.com/linear-regression-from-scratch-with-numpy-implementation-finally-8e617d8e274c)\n",
        "\n",
        "We want our linear regression class to look something like this"
      ]
    },
    {
      "cell_type": "code",
      "metadata": {
        "id": "vCANdPwZ6jGG",
        "outputId": "6a484484-c9a8-49c0-d0b0-435aa988b974"
      },
      "source": [
        "# this cell won't run properly\n",
        "\n",
        "class LinearRegression():\n",
        "    \n",
        "    def __init__(self):\n",
        "        \n",
        "    def fit(self):\n",
        "        \n",
        "    def score(self):\n",
        "        \n",
        "    def predict(self):\n",
        "        \n",
        "    def get_params(self):"
      ],
      "execution_count": null,
      "outputs": [
        {
          "output_type": "error",
          "ename": "IndentationError",
          "evalue": "expected an indented block (<ipython-input-43-6f417e876ea7>, line 7)",
          "traceback": [
            "\u001b[0;36m  File \u001b[0;32m\"<ipython-input-43-6f417e876ea7>\"\u001b[0;36m, line \u001b[0;32m7\u001b[0m\n\u001b[0;31m    def fit(self):\u001b[0m\n\u001b[0m      ^\u001b[0m\n\u001b[0;31mIndentationError\u001b[0m\u001b[0;31m:\u001b[0m expected an indented block\n"
          ]
        }
      ]
    },
    {
      "cell_type": "markdown",
      "metadata": {
        "id": "I6BzWGiM6jGH"
      },
      "source": [
        "There are a few things to notice here:"
      ]
    },
    {
      "cell_type": "code",
      "metadata": {
        "id": "amUO12oM6jGH"
      },
      "source": [
        "class LinearRegression():\n",
        "    \n",
        "    def __init__(self,fit_intercept=True):\n",
        "        self.fit_intercept = True"
      ],
      "execution_count": 72,
      "outputs": []
    },
    {
      "cell_type": "markdown",
      "metadata": {
        "id": "uV-orCP36jGH"
      },
      "source": [
        "EXERCISE: add the method `fit` that fits the optimal $m$ and $b$ values:"
      ]
    },
    {
      "cell_type": "code",
      "metadata": {
        "id": "StJhKg_S6jGH"
      },
      "source": [
        "class LinearRegression():\n",
        "    \n",
        "    def __init__(self,fit_intercept=True):\n",
        "        self.fit_intercept = fit_intercept\n",
        "        \n",
        "    def fit(self,x,y_data):\n",
        "        \n",
        "        # use your code from above to construct this function\n",
        "\n",
        "        x_mean = # your code\n",
        "        y_data_mean = # your code\n",
        "        \n",
        "        numerator = # your code\n",
        "        denomenator = # your code\n",
        "    \n",
        "        m_opt = # your code\n",
        "        \n",
        "        \n",
        "        self.m = m_opt\n",
        "\n",
        "        if self.fit_intercept: # notice this boolean clause\n",
        "            b_opt = y_data_mean - m_opt * x_mean\n",
        "            self.b = b_opt"
      ],
      "execution_count": null,
      "outputs": []
    },
    {
      "cell_type": "code",
      "metadata": {
        "cellView": "form",
        "id": "3sxZ2SWrEcld"
      },
      "source": [
        "#@title (solution)\n",
        "class LinearRegression():\n",
        "    \n",
        "    def __init__(self,fit_intercept=True):\n",
        "        self.fit_intercept = fit_intercept\n",
        "        \n",
        "    def fit(self,x,y_data):\n",
        "        \n",
        "        x_mean = np.mean(x)\n",
        "        y_data_mean = np.mean(y_data)\n",
        "        \n",
        "        numerator = np.sum((x-x_mean)*(y_data-y_data_mean))\n",
        "        denomenator = np.sum((x-x_mean)**2)\n",
        "    \n",
        "        m_opt = numerator/denomenator\n",
        "        \n",
        "        \n",
        "        self.m = m_opt\n",
        "\n",
        "        if self.fit_intercept: # notice this boolean clause\n",
        "            b_opt = y_data_mean - m_opt * x_mean\n",
        "            self.b = b_opt"
      ],
      "execution_count": null,
      "outputs": []
    },
    {
      "cell_type": "markdown",
      "metadata": {
        "id": "w3nvRS646jGH"
      },
      "source": [
        "Next, let's add a method `predict()` that predicts $y$ based on the optimally estimated $m$ and $b$"
      ]
    },
    {
      "cell_type": "code",
      "metadata": {
        "id": "sq8MK5a26jGH"
      },
      "source": [
        "class LinearRegression():\n",
        "    \n",
        "    def __init__(self,fit_intercept=True):\n",
        "        self.fit_intercept = fit_intercept\n",
        "        \n",
        "    def fit(self,x,y_data):\n",
        "        \n",
        "        x_mean = np.mean(x)\n",
        "        y_data_mean = np.mean(y_data)\n",
        "        \n",
        "        numerator = np.sum((x-x_mean)*(y_data-y_data_mean))\n",
        "        denomenator = np.sum((x-x_mean)**2)\n",
        "    \n",
        "        m_opt = numerator/denomenator\n",
        "        self.m = m_opt\n",
        "\n",
        "        if self.fit_intercept:\n",
        "            b_opt = y_data_mean - m_opt * x_mean\n",
        "            self.b = b_opt\n",
        "            \n",
        "    def predict(self,x):\n",
        "        \n",
        "        if self.fit_intercept:\n",
        "            y_pred = self.m*x + self.b\n",
        "        else:\n",
        "            y_pred = self.m*x\n",
        "        return y_pred"
      ],
      "execution_count": 74,
      "outputs": []
    },
    {
      "cell_type": "markdown",
      "metadata": {
        "id": "n52FCeiX6jGI"
      },
      "source": [
        "Let's test our class!"
      ]
    },
    {
      "cell_type": "code",
      "metadata": {
        "id": "OtBWUjFD6jGI"
      },
      "source": [
        "# generate the data again\n",
        "x = np.arange(0,10,0.1)\n",
        "m = 2.7\n",
        "b = -5\n",
        "np.random.seed(0)\n",
        "y = m*x + b # we assume we know the ground truth here\n",
        "x_data = x + np.random.randn(len(x))\n",
        "y_data = m*x_data + b + np.random.randn(len(x))*5\n",
        "\n",
        "\n",
        "# create instance of class\n",
        "model = LinearRegression()\n",
        "\n",
        "# call method to class object\n",
        "model.fit(x_data,y_data)\n",
        "\n",
        "# call another method on instance/object\n",
        "y_pred = model.predict(x_data)"
      ],
      "execution_count": 75,
      "outputs": []
    },
    {
      "cell_type": "code",
      "metadata": {
        "id": "fuG2HNOY6jGI",
        "colab": {
          "base_uri": "https://localhost:8080/",
          "height": 268
        },
        "outputId": "fb793a38-5965-4fcf-8dc3-650e629b7e50"
      },
      "source": [
        "plt.axvline(color='gray')\n",
        "plt.axhline(color='gray')\n",
        "\n",
        "plt.scatter(x_data,y_data,color='C9',label='data')\n",
        "plt.plot(x,y,'-',linewidth=3,label='ground truth')\n",
        "plt.plot(x_data,y_pred,'-',linewidth=3,label='prediction')\n",
        "\n",
        "plt.legend()\n",
        "plt.show()"
      ],
      "execution_count": 76,
      "outputs": [
        {
          "output_type": "display_data",
          "data": {
            "image/png": "[encoded data removed]",
            "text/plain": [
              "<Figure size 432x288 with 1 Axes>"
            ]
          },
          "metadata": {
            "tags": []
          }
        }
      ]
    },
    {
      "cell_type": "markdown",
      "metadata": {
        "id": "OwlQ6rq16jGI"
      },
      "source": [
        "We can have an internal method `__linear_model` that outputs the prediction equation. This is meant to illustrate the convention that methods with `__` are only used inside the class definition"
      ]
    },
    {
      "cell_type": "code",
      "metadata": {
        "id": "30jOFJHD6jGI"
      },
      "source": [
        "class LinearRegression():\n",
        "    \n",
        "    def __init__(self,fit_intercept=True):\n",
        "        self.fit_intercept = fit_intercept\n",
        "        \n",
        "    def fit(self,x,y_data):\n",
        "        \n",
        "        x_mean = np.mean(x)\n",
        "        y_data_mean = np.mean(y_data)\n",
        "        \n",
        "        numerator = np.sum((x-x_mean)*(y_data-y_data_mean))\n",
        "        denomenator = np.sum((x-x_mean)**2)\n",
        "    \n",
        "        m_opt = numerator/denomenator\n",
        "        self.m = m_opt\n",
        "\n",
        "        if self.fit_intercept:\n",
        "            b_opt = y_data_mean - m_opt * x_mean\n",
        "            self.b = b_opt\n",
        "            \n",
        "    def predict(self,x):\n",
        "        \n",
        "        return __linear_model(x) # Note what has changed here\n",
        "    \n",
        "    def __linear_model(self,x,m,b=0):\n",
        "        if self.fit_intercept:\n",
        "            y_pred = self.m*x + self.b\n",
        "        else:\n",
        "            y_pred = self.m*x\n",
        "        return y_pred"
      ],
      "execution_count": 77,
      "outputs": []
    },
    {
      "cell_type": "markdown",
      "metadata": {
        "id": "iTDuQKRh6jGI"
      },
      "source": [
        "Finally, let's add a `score` method that returns the $R^2$ value"
      ]
    },
    {
      "cell_type": "code",
      "metadata": {
        "id": "I-1KZqVA6jGI"
      },
      "source": [
        "class LinearRegression():\n",
        "    \n",
        "    def __init__(self,fit_intercept=True):\n",
        "        self.fit_intercept = fit_intercept\n",
        "            \n",
        "    def score(... # use your R^2 code from above here! \n",
        "              \n",
        "\n",
        "    \n",
        "    def fit(self,x,y_data):\n",
        "        x_mean = np.mean(x)\n",
        "        y_data_mean = np.mean(y_data)\n",
        "        numerator = np.sum((x-x_mean)*(y_data-y_data_mean))\n",
        "        denomenator = np.sum((x-x_mean)**2)\n",
        "        m_opt = numerator/denomenator\n",
        "        self.m = m_opt\n",
        "\n",
        "        if self.fit_intercept:\n",
        "            b_opt = y_data_mean - m_opt * x_mean\n",
        "            self.b = b_opt\n",
        "            \n",
        "    def predict(self,x):\n",
        "        return self.__linear_model(x)\n",
        "    \n",
        "    def __linear_model(self,x):\n",
        "        if self.fit_intercept:\n",
        "            y_pred = self.m*x + self.b\n",
        "        else:\n",
        "            y_pred = self.m*x\n",
        "        return y_pred"
      ],
      "execution_count": 78,
      "outputs": []
    },
    {
      "cell_type": "code",
      "metadata": {
        "cellView": "form",
        "id": "NQAvw7OfFD4w"
      },
      "source": [
        "#@title (solution)\n",
        "def score(self,x,y):\n",
        "        ss_res = np.sum((y - self.predict(x))**2) # residual sum of squares\n",
        "        ss_tot = np.sum((y - np.mean(y))**2) # total sum of squares\n",
        "        r2 = 1-ss_res/ss_tot\n",
        "        \n",
        "        return r2"
      ],
      "execution_count": null,
      "outputs": []
    },
    {
      "cell_type": "markdown",
      "metadata": {
        "id": "RM-oTQKK6jGJ"
      },
      "source": [
        "Let's compare the quality of fit with and without the intercept $b$"
      ]
    },
    {
      "cell_type": "code",
      "metadata": {
        "id": "TvctySZj6jGK"
      },
      "source": [
        "# create instance of class\n",
        "model1 = LinearRegression(fit_intercept=True)\n",
        "model1.fit(x_data,y_data)\n",
        "r2_1 = model1.score(x,y_data)\n",
        "\n",
        "model2 = LinearRegression(fit_intercept=False)\n",
        "model2.fit(x_data,y_data)\n",
        "r2_2 = model2.score(x,y_data)"
      ],
      "execution_count": 79,
      "outputs": []
    },
    {
      "cell_type": "code",
      "metadata": {
        "id": "5-8vmq926jGK",
        "colab": {
          "base_uri": "https://localhost:8080/",
          "height": 347
        },
        "outputId": "d7c8243e-c0fd-494f-fb2f-710985cb9dd7"
      },
      "source": [
        "fig,ax =plt.subplots(1,1,figsize=(4,5))\n",
        "\n",
        "ax.bar([0,1],[r2_1,r2_2],width=0.6)\n",
        "ax.set_ylim(0,1.1)\n",
        "ax.set_xticks([0,1])\n",
        "ax.set_xticklabels(['model with b','model w/o b'],fontsize=14)\n",
        "ax.set_title('Model Comparison',fontsize=20)\n",
        "ax.set_ylabel(r'$R^2$ ',fontsize=14)\n",
        "plt.show()"
      ],
      "execution_count": 80,
      "outputs": [
        {
          "output_type": "display_data",
          "data": {
            "image/png": "[encoded data removed]",
            "text/plain": [
              "<Figure size 288x360 with 1 Axes>"
            ]
          },
          "metadata": {
            "tags": []
          }
        }
      ]
    },
    {
      "cell_type": "markdown",
      "metadata": {
        "id": "coIVTqD66jGK"
      },
      "source": [
        "Finally, let's make a simple method `get_params` that returns the fit parameters $m$ and $b$:"
      ]
    },
    {
      "cell_type": "code",
      "metadata": {
        "id": "9v-0e2sv6jGK"
      },
      "source": [
        "class LinearRegression():\n",
        "    \n",
        "    def __init__(self,fit_intercept=True):\n",
        "        self.fit_intercept = fit_intercept\n",
        "        \n",
        "    def get_params(self):\n",
        "        \n",
        "        self.params = {}\n",
        "        self.params['m']=self.m\n",
        "        if self.fit_intercept:\n",
        "            self.params['b'] = self.b\n",
        "            \n",
        "        return self.params\n",
        "        \n",
        "    def fit(self,x,y_data):\n",
        "        \n",
        "        x_mean = np.mean(x)\n",
        "        y_data_mean = np.mean(y_data)\n",
        "        \n",
        "        numerator = np.sum((x-x_mean)*(y_data-y_data_mean))\n",
        "        denomenator = np.sum((x-x_mean)**2)\n",
        "    \n",
        "        m_opt = numerator/denomenator\n",
        "        self.m = m_opt\n",
        "\n",
        "        if self.fit_intercept:\n",
        "            b_opt = y_data_mean - m_opt * x_mean\n",
        "            self.b = b_opt\n",
        "            \n",
        "    def predict(self,x):\n",
        "        \n",
        "        return self.__linear_model(x)\n",
        "    \n",
        "    def __linear_model(self,x):\n",
        "        if self.fit_intercept:\n",
        "            y_pred = self.m*x + self.b\n",
        "        else:\n",
        "            y_pred = self.m*x\n",
        "        return y_pred\n",
        "\n",
        "    def score(self,x,y):\n",
        "        ss_res = np.sum((y - self.predict(x))**2) # residual sum of squares\n",
        "        ss_tot = np.sum((y - np.mean(y))**2) # total sum of squares\n",
        "\n",
        "        r2 = 1-ss_res/ss_tot\n",
        "        \n",
        "        return r2\n",
        "    \n",
        "    "
      ],
      "execution_count": 81,
      "outputs": []
    },
    {
      "cell_type": "code",
      "metadata": {
        "id": "ei6cFAqD6jGL"
      },
      "source": [
        "model = LinearRegression(fit_intercept=True)\n",
        "model.fit(x_data,y_data)"
      ],
      "execution_count": 82,
      "outputs": []
    },
    {
      "cell_type": "code",
      "metadata": {
        "id": "dBmXncgM6jGL",
        "colab": {
          "base_uri": "https://localhost:8080/"
        },
        "outputId": "d8677900-a6e6-48f7-8bfc-a132735eb665"
      },
      "source": [
        "# this is one way to extract the parameters\n",
        "model.m"
      ],
      "execution_count": 83,
      "outputs": [
        {
          "output_type": "execute_result",
          "data": {
            "text/plain": [
              "2.490894245987839"
            ]
          },
          "metadata": {
            "tags": []
          },
          "execution_count": 83
        }
      ]
    },
    {
      "cell_type": "code",
      "metadata": {
        "id": "-yCuTPxC6jGL",
        "colab": {
          "base_uri": "https://localhost:8080/"
        },
        "outputId": "353e4fcf-c41f-4a5e-bb3f-00f3406ec9d7"
      },
      "source": [
        "# this is another way with our new method\n",
        "params = model.get_params()\n",
        "print('------\\nparams \\n------\\n',params)"
      ],
      "execution_count": 84,
      "outputs": [
        {
          "output_type": "stream",
          "text": [
            "------\n",
            "params \n",
            "------\n",
            " {'m': 2.490894245987839, 'b': -3.542355463716307}\n"
          ],
          "name": "stdout"
        }
      ]
    },
    {
      "cell_type": "markdown",
      "metadata": {
        "id": "qvjRhuM56jGL"
      },
      "source": [
        "EXERCISE: Document this class with conventional syntax/formatting\n",
        "\n",
        "If you have made it this far, and written all this code, it is really worth documenting it! Add descriptions to each of the methods/functions so that you and your lab mates can understand the code easily in the future =)"
      ]
    },
    {
      "cell_type": "code",
      "metadata": {
        "id": "bCBvQPpR6jGM"
      },
      "source": [
        "class LinearRegression():\n",
        "    \"\"\" \n",
        "    Ordinary Least Squares Regression\n",
        "    \n",
        "    \n",
        "    Parameters\n",
        "    ----------\n",
        "    \n",
        "    fit_intercept: : bool, optional, default True\n",
        "        Whether to calculate the intercept for this model. If set\n",
        "        to False, no intercept will be used in calculations\n",
        "        (i.e. data is expected to be centered).\n",
        "        \n",
        "    Attributes\n",
        "    ----------\n",
        "    m : scalar\n",
        "        Estimated slope for the linear regression problem.\n",
        "    \n",
        "    b : ?\n",
        "        ????????\n",
        "        \n",
        "    params : ?\n",
        "        ????????\n",
        "        \n",
        "    See Also\n",
        "    --------\n",
        "    sklearn.linear_model.Ridge : Ridge regression addresses some of the\n",
        "        problems of Ordinary Least Squares by imposing a penalty on the\n",
        "        size of the coefficients with l2 regularization.\n",
        "    sklearn.linear_model.Lasso : The Lasso is a linear model that estimates\n",
        "        sparse coefficients with l1 regularization.\n",
        "    sklearn.linear_model.ElasticNet : Elastic-Net is a linear regression\n",
        "        model trained with both l1 and l2 -norm regularization of the\n",
        "        coefficients.\n",
        "        \n",
        "    Examples\n",
        "    --------\n",
        "    >>> import numpy as np\n",
        "    >>> from sklearn.linear_model import LinearRegression\n",
        "    >>> X = np.array([[1, 1], [1, 2], [2, 2], [2, 3]])\n",
        "    >>> # y = 1 * x_0 + 2 * x_1 + 3\n",
        "    >>> y = np.dot(X, np.array([1, 2])) + 3\n",
        "    >>> reg = LinearRegression().fit(X, y)\n",
        "    >>> reg.score(X, y)\n",
        "    1.0\n",
        "    \n",
        "    \"\"\"\n",
        "    \n",
        "    def __init__(self,fit_intercept=True):\n",
        "        self.fit_intercept = fit_intercept\n",
        "    \n",
        "        \n",
        "    def fit(self,x,y_data):\n",
        "        \n",
        "         \"\"\"\n",
        "        Fit linear model.\n",
        "        Parameters\n",
        "        ----------\n",
        "        x : {array-like, sparse matrix} of shape (n_samples, n_features)\n",
        "            Training data\n",
        "        y : array-like of shape (n_samples,) or (n_samples, n_targets)\n",
        "            Target values. Will be cast to X's dtype if necessary\n",
        "\n",
        "        Returns\n",
        "        -------\n",
        "        self : returns an instance of self.\n",
        "        \"\"\"\n",
        "        \n",
        "        x_mean = np.mean(x)\n",
        "        y_data_mean = np.mean(y_data)\n",
        "        \n",
        "        numerator = np.sum((x-x_mean)*(y_data-y_data_mean))\n",
        "        denomenator = np.sum((x-x_mean)**2)\n",
        "    \n",
        "        m_opt = numerator/denomenator\n",
        "        self.m = m_opt\n",
        "\n",
        "        if self.fit_intercept:\n",
        "            b_opt = y_data_mean - m_opt * x_mean\n",
        "            self.b = b_opt\n",
        "            \n",
        "    def predict(self,x):\n",
        "        \"\"\" ?? \"\"\"\n",
        "        \n",
        "        return self.__linear_model(x)\n",
        "    \n",
        "    def __linear_model(self,x):\n",
        "        if self.fit_intercept:\n",
        "            y_pred = self.m*x + self.b\n",
        "        else:\n",
        "            y_pred = self.m*x\n",
        "        return y_pred\n",
        "\n",
        "    def score(self,x,y):\n",
        "        \"\"\" ?? \"\"\"\n",
        "        ss_res = np.sum((y - self.predict(x))**2) # residual sum of squares\n",
        "        ss_tot = np.sum((y - np.mean(y))**2) # total sum of squares\n",
        "\n",
        "        r2 = 1-ss_res/ss_tot\n",
        "        \n",
        "        return r2\n",
        "    \n",
        "    def get_params(self):\n",
        "        \"\"\" ?? \"\"\"\n",
        "        \n",
        "        self.params = {}\n",
        "        self.params['m']=self.m\n",
        "        if self.fit_intercept:\n",
        "            self.params['b'] = self.b\n",
        "            \n",
        "        return self.params\n",
        "    "
      ],
      "execution_count": null,
      "outputs": []
    },
    {
      "cell_type": "markdown",
      "metadata": {
        "id": "2OvpubAS6jGM"
      },
      "source": [
        "More on building custom sklearn estimators:\n",
        "    \n",
        "    * https://towardsdatascience.com/building-a-custom-model-in-scikit-learn-b0da965a1299\n",
        "        \n",
        "    * https://scikit-learn.org/stable/developers/develop.html\n",
        "    \n",
        "\n",
        "# Thanks!"
      ]
    },
    {
      "cell_type": "code",
      "metadata": {
        "id": "68KgNIav6jGM"
      },
      "source": [
        ""
      ],
      "execution_count": null,
      "outputs": []
    }
  ]
}