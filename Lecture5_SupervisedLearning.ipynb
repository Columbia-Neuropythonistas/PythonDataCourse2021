{
  "nbformat": 4,
  "nbformat_minor": 0,
  "metadata": {
    "kernelspec": {
      "display_name": "Python 3",
      "language": "python",
      "name": "python3"
    },
    "language_info": {
      "codemirror_mode": {
        "name": "ipython",
        "version": 3
      },
      "file_extension": ".py",
      "mimetype": "text/x-python",
      "name": "python",
      "nbconvert_exporter": "python",
      "pygments_lexer": "ipython3",
      "version": "3.6.11"
    },
    "colab": {
      "name": "Lecture5-SupervisedLearning.ipynb",
      "provenance": [],
      "include_colab_link": true
    }
  },
  "cells": [
    {
      "cell_type": "markdown",
      "metadata": {
        "id": "view-in-github",
        "colab_type": "text"
      },
      "source": [
        "<a href=\"https://colab.research.google.com/github/Columbia-Neuropythonistas/PythonDataCourse2021/blob/main/Lecture5_SupervisedLearning.ipynb\" target=\"_parent\"><img src=\"https://colab.research.google.com/assets/colab-badge.svg\" alt=\"Open In Colab\"/></a>"
      ]
    },
    {
      "cell_type": "code",
      "metadata": {
        "id": "ckezJnDTMVMh"
      },
      "source": [
        "import numpy as np\n",
        "import matplotlib.pyplot as plt\n",
        "from sklearn.preprocessing import PolynomialFeatures, StandardScaler\n",
        "from sklearn.pipeline import Pipeline\n",
        "from sklearn import metrics, linear_model\n",
        "from sklearn.linear_model import LinearRegression\n",
        "from sklearn.model_selection import cross_val_score, train_test_split, GridSearchCV\n",
        "import random\n",
        "import matplotlib as mpl\n",
        "import pandas as pd\n",
        "import seaborn as sns\n",
        "import pickle\n"
      ],
      "execution_count": null,
      "outputs": []
    },
    {
      "cell_type": "markdown",
      "metadata": {
        "id": "miG5-yVsMVMq"
      },
      "source": [
        "# Regression"
      ]
    },
    {
      "cell_type": "markdown",
      "metadata": {
        "pycharm": {
          "name": "#%% md\n"
        },
        "id": "mpgFfz2yMVMq"
      },
      "source": [
        "## Linear Regression\n",
        "In this section you'll learn how to use sklearn to fit models of the form:\n",
        "$$ y = x \\cdot \\alpha +\\beta +\\epsilon $$, using sklearn's linear regression model."
      ]
    },
    {
      "cell_type": "code",
      "metadata": {
        "jupyter": {
          "outputs_hidden": false
        },
        "pycharm": {
          "name": "#%%\n"
        },
        "id": "db78McRzMVMq"
      },
      "source": [
        "def mystery_fun(X):\n",
        "    return 1.5*np.cos(2*np.pi*X**2 + np.random.randn())"
      ],
      "execution_count": null,
      "outputs": []
    },
    {
      "cell_type": "code",
      "metadata": {
        "jupyter": {
          "outputs_hidden": false
        },
        "pycharm": {
          "name": "#%%\n"
        },
        "id": "rlCGDZ7NMVMr"
      },
      "source": [
        "n_samples = 500\n",
        "n_predictors = 1\n",
        "X = (np.random.rand(n_samples,n_predictors))\n",
        "Y = mystery_fun(X) + .15*np.random.randn(n_samples,n_predictors)\n",
        "X_train, X_test, Y_train, Y_test = train_test_split(X,Y)"
      ],
      "execution_count": null,
      "outputs": []
    },
    {
      "cell_type": "code",
      "metadata": {
        "jupyter": {
          "outputs_hidden": false
        },
        "pycharm": {
          "name": "#%%\n"
        },
        "id": "0SzIT5sOMVMr"
      },
      "source": [
        "reg = LinearRegression()\n",
        "reg.fit(X_train, Y_train)\n",
        "Y_predict = reg.predict(X_test)"
      ],
      "execution_count": null,
      "outputs": []
    },
    {
      "cell_type": "code",
      "metadata": {
        "jupyter": {
          "outputs_hidden": false
        },
        "pycharm": {
          "name": "#%%\n"
        },
        "id": "QZgftn-qMVMr",
        "outputId": "3f5d6967-b474-4c1e-84d1-681aa20720a4"
      },
      "source": [
        "plt.title(r'$R^2 = {:.3F}$'.format(reg.score(X_test,Y_test)))\n",
        "plt.scatter(X_test[:,0],Y_test, label='Data')\n",
        "plt.scatter(X_test[:,0],Y_predict, label='Model Prediction')\n",
        "plt.legend()"
      ],
      "execution_count": null,
      "outputs": [
        {
          "output_type": "execute_result",
          "data": {
            "text/plain": [
              "<matplotlib.legend.Legend at 0x7f8db14f9cd0>"
            ]
          },
          "metadata": {
            "tags": []
          },
          "execution_count": 44
        },
        {
          "output_type": "display_data",
          "data": {
            "text/plain": [
              "<Figure size 432x288 with 1 Axes>"
            ],
            "image/png": "[encoded data removed]"
          },
          "metadata": {
            "tags": [],
            "needs_background": "light"
          }
        }
      ]
    },
    {
      "cell_type": "markdown",
      "metadata": {
        "jupyter": {
          "outputs_hidden": false
        },
        "pycharm": {
          "name": "#%% md\n"
        },
        "id": "WJjMA_ZhMVMt"
      },
      "source": [
        "## Polynomial Regression\n",
        "In this section you'll learn how to fit a model of the form:\n",
        "$$ y = \\sum_{i=0}^N A_i\\cdot x^i$$, i.e polynomial equations using ordinary least squares."
      ]
    },
    {
      "cell_type": "code",
      "metadata": {
        "jupyter": {
          "outputs_hidden": false
        },
        "pycharm": {
          "name": "#%%\n"
        },
        "id": "jm6BG4xHMVMt"
      },
      "source": [
        "polynomial_features = PolynomialFeatures(degree=3,include_bias = True)\n",
        "linear_regression = LinearRegression()\n",
        "pipeline = Pipeline([('Polynomial_features',polynomial_features),('linear_regression',linear_regression)])\n",
        "pipeline.fit(X_train,Y_train)\n",
        "Y_predictPoly = pipeline.predict(X_test)"
      ],
      "execution_count": null,
      "outputs": []
    },
    {
      "cell_type": "code",
      "metadata": {
        "id": "G223lVi5MVMt",
        "outputId": "5bb63910-aac8-4de2-b11a-a760a1ca113a"
      },
      "source": [
        "plt.title(r'$R^2 = {:.3F}$'.format(pipeline.score(X_test,Y_test)))\n",
        "plt.scatter(X_test[:,0],Y_test, label='Data')\n",
        "plt.scatter(X_test[:,0],Y_predictPoly, label='Model Prediction')\n",
        "plt.legend()"
      ],
      "execution_count": null,
      "outputs": [
        {
          "output_type": "execute_result",
          "data": {
            "text/plain": [
              "<matplotlib.legend.Legend at 0x7f8db1532090>"
            ]
          },
          "metadata": {
            "tags": []
          },
          "execution_count": 46
        },
        {
          "output_type": "display_data",
          "data": {
            "text/plain": [
              "<Figure size 432x288 with 1 Axes>"
            ],
            "image/png": "[encoded data removed]"
          },
          "metadata": {
            "tags": [],
            "needs_background": "light"
          }
        }
      ]
    },
    {
      "cell_type": "markdown",
      "metadata": {
        "id": "kyv4b6jCMVMt"
      },
      "source": [
        "## Using grid search to compare models"
      ]
    },
    {
      "cell_type": "code",
      "metadata": {
        "id": "dBCt5M9oMVMu"
      },
      "source": [
        "pipe = Pipeline([('polynomial_features', PolynomialFeatures()),('linear_regression', linear_model.Ridge())])\n",
        "param_grid = {\n",
        "    'polynomial_features__degree': np.arange(1,50,5),\n",
        "    'linear_regression__alpha': [1e-6,1e-3,1,1e3,1e6]\n",
        "}\n",
        "grid = GridSearchCV(pipe, cv=10, n_jobs=5, param_grid=param_grid,\n",
        "                    scoring='neg_mean_squared_error') #n_jobs tells python how many models you want to run at a time. If\n",
        "# computer is pretty powerful it should be able to handle 5 models at a time with too much effort.\n",
        "grid.fit(X_train,Y_train)\n",
        "GridDict = grid.cv_results_\n",
        "best_model = grid.best_estimator_\n",
        "Y_predictBest = best_model.predict(X_test)\n",
        "GridResults = pd.DataFrame(GridDict)"
      ],
      "execution_count": null,
      "outputs": []
    },
    {
      "cell_type": "code",
      "metadata": {
        "id": "A9H_fuIQMVMu",
        "outputId": "33bda542-1e23-4fa6-d957-b94b11c7ede8"
      },
      "source": [
        "print(grid.best_params_)\n",
        "GridResults.head()"
      ],
      "execution_count": null,
      "outputs": [
        {
          "output_type": "stream",
          "text": [
            "{'linear_regression__alpha': 1e-06, 'polynomial_features__degree': 31}\n"
          ],
          "name": "stdout"
        },
        {
          "output_type": "execute_result",
          "data": {
            "text/plain": [
              "   mean_fit_time  std_fit_time  mean_score_time  std_score_time  \\\n",
              "0       0.001620      0.000260         0.000557        0.000168   \n",
              "1       0.001348      0.000244         0.000501        0.000047   \n",
              "2       0.001173      0.000125         0.000449        0.000026   \n",
              "3       0.001053      0.000072         0.000471        0.000063   \n",
              "4       0.001080      0.000098         0.000474        0.000067   \n",
              "\n",
              "  param_linear_regression__alpha param_polynomial_features__degree  \\\n",
              "0                       0.000001                                 1   \n",
              "1                       0.000001                                 6   \n",
              "2                       0.000001                                11   \n",
              "3                       0.000001                                16   \n",
              "4                       0.000001                                21   \n",
              "\n",
              "                                              params  split0_test_score  \\\n",
              "0  {'linear_regression__alpha': 1e-06, 'polynomia...          -0.468686   \n",
              "1  {'linear_regression__alpha': 1e-06, 'polynomia...          -0.029023   \n",
              "2  {'linear_regression__alpha': 1e-06, 'polynomia...          -0.025725   \n",
              "3  {'linear_regression__alpha': 1e-06, 'polynomia...          -0.025646   \n",
              "4  {'linear_regression__alpha': 1e-06, 'polynomia...          -0.025455   \n",
              "\n",
              "   split1_test_score  split2_test_score  split3_test_score  split4_test_score  \\\n",
              "0          -0.579858          -0.564125          -0.645746          -0.461784   \n",
              "1          -0.029717          -0.022321          -0.023282          -0.020319   \n",
              "2          -0.017999          -0.018300          -0.020671          -0.015303   \n",
              "3          -0.018214          -0.018140          -0.020466          -0.015450   \n",
              "4          -0.018232          -0.018051          -0.020440          -0.015287   \n",
              "\n",
              "   split5_test_score  split6_test_score  split7_test_score  split8_test_score  \\\n",
              "0          -0.440106          -0.544151          -0.584229          -0.661427   \n",
              "1          -0.029174          -0.021127          -0.026168          -0.040161   \n",
              "2          -0.022445          -0.021090          -0.025846          -0.030928   \n",
              "3          -0.022306          -0.020776          -0.026060          -0.030884   \n",
              "4          -0.022571          -0.020480          -0.026317          -0.030872   \n",
              "\n",
              "   split9_test_score  mean_test_score  std_test_score  rank_test_score  \n",
              "0          -0.410515        -0.536062        0.082380               29  \n",
              "1          -0.027490        -0.026878        0.005523               17  \n",
              "2          -0.024278        -0.022259        0.004362                7  \n",
              "3          -0.024439        -0.022238        0.004361                5  \n",
              "4          -0.024507        -0.022221        0.004416                4  "
            ],
            "text/html": [
              "<div>\n",
              "<style scoped>\n",
              "    .dataframe tbody tr th:only-of-type {\n",
              "        vertical-align: middle;\n",
              "    }\n",
              "\n",
              "    .dataframe tbody tr th {\n",
              "        vertical-align: top;\n",
              "    }\n",
              "\n",
              "    .dataframe thead th {\n",
              "        text-align: right;\n",
              "    }\n",
              "</style>\n",
              "<table border=\"1\" class=\"dataframe\">\n",
              "  <thead>\n",
              "    <tr style=\"text-align: right;\">\n",
              "      <th></th>\n",
              "      <th>mean_fit_time</th>\n",
              "      <th>std_fit_time</th>\n",
              "      <th>mean_score_time</th>\n",
              "      <th>std_score_time</th>\n",
              "      <th>param_linear_regression__alpha</th>\n",
              "      <th>param_polynomial_features__degree</th>\n",
              "      <th>params</th>\n",
              "      <th>split0_test_score</th>\n",
              "      <th>split1_test_score</th>\n",
              "      <th>split2_test_score</th>\n",
              "      <th>split3_test_score</th>\n",
              "      <th>split4_test_score</th>\n",
              "      <th>split5_test_score</th>\n",
              "      <th>split6_test_score</th>\n",
              "      <th>split7_test_score</th>\n",
              "      <th>split8_test_score</th>\n",
              "      <th>split9_test_score</th>\n",
              "      <th>mean_test_score</th>\n",
              "      <th>std_test_score</th>\n",
              "      <th>rank_test_score</th>\n",
              "    </tr>\n",
              "  </thead>\n",
              "  <tbody>\n",
              "    <tr>\n",
              "      <th>0</th>\n",
              "      <td>0.001620</td>\n",
              "      <td>0.000260</td>\n",
              "      <td>0.000557</td>\n",
              "      <td>0.000168</td>\n",
              "      <td>0.000001</td>\n",
              "      <td>1</td>\n",
              "      <td>{'linear_regression__alpha': 1e-06, 'polynomia...</td>\n",
              "      <td>-0.468686</td>\n",
              "      <td>-0.579858</td>\n",
              "      <td>-0.564125</td>\n",
              "      <td>-0.645746</td>\n",
              "      <td>-0.461784</td>\n",
              "      <td>-0.440106</td>\n",
              "      <td>-0.544151</td>\n",
              "      <td>-0.584229</td>\n",
              "      <td>-0.661427</td>\n",
              "      <td>-0.410515</td>\n",
              "      <td>-0.536062</td>\n",
              "      <td>0.082380</td>\n",
              "      <td>29</td>\n",
              "    </tr>\n",
              "    <tr>\n",
              "      <th>1</th>\n",
              "      <td>0.001348</td>\n",
              "      <td>0.000244</td>\n",
              "      <td>0.000501</td>\n",
              "      <td>0.000047</td>\n",
              "      <td>0.000001</td>\n",
              "      <td>6</td>\n",
              "      <td>{'linear_regression__alpha': 1e-06, 'polynomia...</td>\n",
              "      <td>-0.029023</td>\n",
              "      <td>-0.029717</td>\n",
              "      <td>-0.022321</td>\n",
              "      <td>-0.023282</td>\n",
              "      <td>-0.020319</td>\n",
              "      <td>-0.029174</td>\n",
              "      <td>-0.021127</td>\n",
              "      <td>-0.026168</td>\n",
              "      <td>-0.040161</td>\n",
              "      <td>-0.027490</td>\n",
              "      <td>-0.026878</td>\n",
              "      <td>0.005523</td>\n",
              "      <td>17</td>\n",
              "    </tr>\n",
              "    <tr>\n",
              "      <th>2</th>\n",
              "      <td>0.001173</td>\n",
              "      <td>0.000125</td>\n",
              "      <td>0.000449</td>\n",
              "      <td>0.000026</td>\n",
              "      <td>0.000001</td>\n",
              "      <td>11</td>\n",
              "      <td>{'linear_regression__alpha': 1e-06, 'polynomia...</td>\n",
              "      <td>-0.025725</td>\n",
              "      <td>-0.017999</td>\n",
              "      <td>-0.018300</td>\n",
              "      <td>-0.020671</td>\n",
              "      <td>-0.015303</td>\n",
              "      <td>-0.022445</td>\n",
              "      <td>-0.021090</td>\n",
              "      <td>-0.025846</td>\n",
              "      <td>-0.030928</td>\n",
              "      <td>-0.024278</td>\n",
              "      <td>-0.022259</td>\n",
              "      <td>0.004362</td>\n",
              "      <td>7</td>\n",
              "    </tr>\n",
              "    <tr>\n",
              "      <th>3</th>\n",
              "      <td>0.001053</td>\n",
              "      <td>0.000072</td>\n",
              "      <td>0.000471</td>\n",
              "      <td>0.000063</td>\n",
              "      <td>0.000001</td>\n",
              "      <td>16</td>\n",
              "      <td>{'linear_regression__alpha': 1e-06, 'polynomia...</td>\n",
              "      <td>-0.025646</td>\n",
              "      <td>-0.018214</td>\n",
              "      <td>-0.018140</td>\n",
              "      <td>-0.020466</td>\n",
              "      <td>-0.015450</td>\n",
              "      <td>-0.022306</td>\n",
              "      <td>-0.020776</td>\n",
              "      <td>-0.026060</td>\n",
              "      <td>-0.030884</td>\n",
              "      <td>-0.024439</td>\n",
              "      <td>-0.022238</td>\n",
              "      <td>0.004361</td>\n",
              "      <td>5</td>\n",
              "    </tr>\n",
              "    <tr>\n",
              "      <th>4</th>\n",
              "      <td>0.001080</td>\n",
              "      <td>0.000098</td>\n",
              "      <td>0.000474</td>\n",
              "      <td>0.000067</td>\n",
              "      <td>0.000001</td>\n",
              "      <td>21</td>\n",
              "      <td>{'linear_regression__alpha': 1e-06, 'polynomia...</td>\n",
              "      <td>-0.025455</td>\n",
              "      <td>-0.018232</td>\n",
              "      <td>-0.018051</td>\n",
              "      <td>-0.020440</td>\n",
              "      <td>-0.015287</td>\n",
              "      <td>-0.022571</td>\n",
              "      <td>-0.020480</td>\n",
              "      <td>-0.026317</td>\n",
              "      <td>-0.030872</td>\n",
              "      <td>-0.024507</td>\n",
              "      <td>-0.022221</td>\n",
              "      <td>0.004416</td>\n",
              "      <td>4</td>\n",
              "    </tr>\n",
              "  </tbody>\n",
              "</table>\n",
              "</div>"
            ]
          },
          "metadata": {
            "tags": []
          },
          "execution_count": 48
        }
      ]
    },
    {
      "cell_type": "code",
      "metadata": {
        "id": "FbFvfh-NMVMu",
        "outputId": "4904a6dc-e0e2-4504-d794-57b1d8817e13"
      },
      "source": [
        "plt.title(r'$R^2 = {:.3F}$'.format(best_model.score(X_test,Y_test)))\n",
        "plt.scatter(X_test[:,0],Y_test, label='Data')\n",
        "plt.scatter(X_test[:,0],Y_predictBest, label='Model Prediction')\n",
        "plt.legend()"
      ],
      "execution_count": null,
      "outputs": [
        {
          "output_type": "execute_result",
          "data": {
            "text/plain": [
              "<matplotlib.legend.Legend at 0x7f8db2479310>"
            ]
          },
          "metadata": {
            "tags": []
          },
          "execution_count": 49
        },
        {
          "output_type": "display_data",
          "data": {
            "text/plain": [
              "<Figure size 432x288 with 1 Axes>"
            ],
            "image/png": "[encoded data removed]"
          },
          "metadata": {
            "tags": [],
            "needs_background": "light"
          }
        }
      ]
    },
    {
      "cell_type": "markdown",
      "metadata": {
        "id": "_2sEZgmkMVMu"
      },
      "source": [
        "## Neural Network regression"
      ]
    },
    {
      "cell_type": "code",
      "metadata": {
        "id": "iRxgmsTlMVMv"
      },
      "source": [
        "from sklearn.neural_network import MLPRegressor"
      ],
      "execution_count": null,
      "outputs": []
    },
    {
      "cell_type": "code",
      "metadata": {
        "id": "bgGGfhoLMVMv"
      },
      "source": [
        "network = MLPRegressor(max_iter = 1500)\n",
        "network.fit(X_train, np.ravel(Y_train))\n",
        "Y_predictNet = network.predict(X_test)"
      ],
      "execution_count": null,
      "outputs": []
    },
    {
      "cell_type": "code",
      "metadata": {
        "id": "FsMJYp1cMVMv",
        "outputId": "2eabf271-b423-4460-c94c-8bfa46b8e151"
      },
      "source": [
        "plt.title(r'$R^2 = {:.3F}$'.format(network.score(X_test,Y_test)))\n",
        "plt.scatter(X_test[:,0],Y_test, label='Data')\n",
        "plt.scatter(X_test[:,0],Y_predictNet, label='Model Prediction')\n",
        "plt.legend()"
      ],
      "execution_count": null,
      "outputs": [
        {
          "output_type": "execute_result",
          "data": {
            "text/plain": [
              "<matplotlib.legend.Legend at 0x7f8db265af10>"
            ]
          },
          "metadata": {
            "tags": []
          },
          "execution_count": 52
        },
        {
          "output_type": "display_data",
          "data": {
            "text/plain": [
              "<Figure size 432x288 with 1 Axes>"
            ],
            "image/png": "[encoded data removed]"
          },
          "metadata": {
            "tags": [],
            "needs_background": "light"
          }
        }
      ]
    },
    {
      "cell_type": "code",
      "metadata": {
        "id": "NjCAdyXfMVMv"
      },
      "source": [
        ""
      ],
      "execution_count": null,
      "outputs": []
    },
    {
      "cell_type": "markdown",
      "metadata": {
        "id": "6U5zbClwMVMv"
      },
      "source": [
        "## Excercise 1:\n",
        "Using any of the previous methods (linear regression, polynomial regression, or multilayer perceptron) fit a model to the responses of three simulated neurons to images at varying wavelengths and contrast. Try to achieve an $R^2$ of at least $0.8$.\n",
        "For each cell type plot the predicted response vs the actual response."
      ]
    },
    {
      "cell_type": "code",
      "metadata": {
        "id": "Zc-6-3gLMVMw"
      },
      "source": [
        "from urllib.request import urlopen\n",
        "import cloudpickle as cp\n",
        "Data = cp.load(urlopen(\"https://raw.githubusercontent.com/Columbia-Neuropythonistas/PythonDataCourse2021/master/Lecture5/VisualData/visualneurons.p\"))\n",
        "Xs = (Data['Inputs'].T) #The first column of Xs is the wavelength of the stimulus and the second column is the intensity\n",
        "Y1 = Data['Population 1'][0] #responses for neuron 1\n",
        "Y2 = Data['Population 2'][0]\n",
        "Y3 = Data['Population 3'][0]\n",
        "X_train1, X_test1, Y_train1, Y_test1 = train_test_split(Xs,Y1)\n",
        "X_train2, X_test2, Y_train2, Y_test2 = train_test_split(Xs,Y2)\n",
        "X_train3, X_test3, Y_train3, Y_test3 = train_test_split(Xs,Y3)"
      ],
      "execution_count": null,
      "outputs": []
    },
    {
      "cell_type": "code",
      "metadata": {
        "id": "xWsZqsmsMVMw"
      },
      "source": [
        "XL = [X_train1, X_train2, X_train3]\n",
        "YL = [Y_train1, Y_train2, Y_train3]\n",
        "\n",
        "fig, ax = plt.subplots(1,len(YL),figsize=(len(YL)*5,5),sharex=True, sharey=True)\n",
        "\n",
        "for i , ax in enumerate(ax):\n",
        "    ax.scatter(XL[i][:,0], XL[i][:,1],c=YL[i])\n",
        "    ax.set_title('Cell type {}'.format(i +1))\n",
        "fig.text(0.5, 0.04, r'$\\lambda$ (nm)', ha='center')\n",
        "fig.text(0.04, 0.5, 'Intensity', va='center', rotation='vertical')\n",
        "plt.show()"
      ],
      "execution_count": null,
      "outputs": []
    },
    {
      "cell_type": "markdown",
      "metadata": {
        "id": "d-QzM4MtMVMw"
      },
      "source": [
        "## Excercise 2:\n",
        "Create a raster plot of the neural responses across time. Using either a MLP, linear regression, or polynomial regression use the responses of a simulated population of neurons to decode the wavelength and contrast of the input image.\n",
        "Aim for an $R^2 \\geq 0.9$."
      ]
    },
    {
      "cell_type": "code",
      "metadata": {
        "id": "MkHmB7Q2MVMx"
      },
      "source": [
        "Y = Data['Inputs'].T #responses from 500 neurons\n",
        "X = Data['Population 2'].T"
      ],
      "execution_count": null,
      "outputs": []
    },
    {
      "cell_type": "code",
      "metadata": {
        "id": "B6eCzl6zMVMx"
      },
      "source": [
        ""
      ],
      "execution_count": null,
      "outputs": []
    },
    {
      "cell_type": "markdown",
      "metadata": {
        "id": "e2z1ru3NMVMx"
      },
      "source": [
        "# Classification:"
      ]
    },
    {
      "cell_type": "code",
      "metadata": {
        "id": "Ynrh-ZW_MVMx"
      },
      "source": [
        "from sklearn.datasets import make_classification, make_blobs, make_moons, make_circles\n",
        "n_samples = 1000\n",
        "X , Y = make_classification(n_samples = n_samples, n_features = 50, n_informative = 5, n_clusters_per_class = 4) #creating a toy dataset with two classes\n",
        "X_train , X_test, Y_train, Y_test = train_test_split(X,Y)"
      ],
      "execution_count": null,
      "outputs": []
    },
    {
      "cell_type": "code",
      "metadata": {
        "id": "SEWXtqefMVMy"
      },
      "source": [
        ""
      ],
      "execution_count": null,
      "outputs": []
    },
    {
      "cell_type": "markdown",
      "metadata": {
        "id": "GVGfCDCsMVMy"
      },
      "source": [
        "# Random Forest"
      ]
    },
    {
      "cell_type": "code",
      "metadata": {
        "id": "OpalERF7MVMy"
      },
      "source": [
        "from sklearn.ensemble import RandomForestClassifier"
      ],
      "execution_count": null,
      "outputs": []
    },
    {
      "cell_type": "code",
      "metadata": {
        "id": "hmqdwhycMVMy"
      },
      "source": [
        "forest = RandomForestClassifier(max_depth = 5)\n",
        "forest.fit(X_train,Y_train)"
      ],
      "execution_count": null,
      "outputs": []
    },
    {
      "cell_type": "code",
      "metadata": {
        "id": "LDKdhUeFMVMy"
      },
      "source": [
        "forest.score(X_test,Y_test)\n",
        "rf_prediction = forest.predict(X_test)"
      ],
      "execution_count": null,
      "outputs": []
    },
    {
      "cell_type": "code",
      "metadata": {
        "id": "EtSVPiSqMVMy"
      },
      "source": [
        "plt.figure(figsize=(18, 14))\n",
        "plt.subplot(221)\n",
        "sns.heatmap(metrics.confusion_matrix(Y_test, rf_prediction), annot=True, fmt = \"d\", linecolor=\"k\", linewidths=3)\n",
        "plt.title(\"CONFUSION MATRIX\", fontsize=20)\n",
        "plt.xlabel('Predicted Label')\n",
        "plt.ylabel('True Label')\n",
        "\n",
        "rf_predicted_probs = forest.predict_proba(X_test)[:, 1]\n",
        "fpr, tpr, thresholds = metrics.roc_curve(Y_test, rf_predicted_probs)\n",
        "plt.subplot(222)\n",
        "plt.plot(fpr, tpr, label = (\"Area_under the curve :\", metrics.auc(fpr, tpr)), color = \"r\")\n",
        "plt.plot([1,0], [1,0], linestyle = \"dashed\", color =\"k\")\n",
        "plt.legend(loc = \"best\")\n",
        "plt.xlabel('False Positive Rate')\n",
        "plt.ylabel('True Positive Rate')\n",
        "plt.title(\"ROC - CURVE & AREA UNDER CURVE\",fontsize=20)\n",
        "plt.show()"
      ],
      "execution_count": null,
      "outputs": []
    },
    {
      "cell_type": "markdown",
      "metadata": {
        "id": "X3LM7dGIMVMz"
      },
      "source": [
        "# K nearest neighbors"
      ]
    },
    {
      "cell_type": "code",
      "metadata": {
        "id": "vpPk7NGtMVMz"
      },
      "source": [
        "from sklearn.neighbors import KNeighborsClassifier\n",
        "neighbors = KNeighborsClassifier(n_neighbors = 5)\n",
        "neighbors.fit(X_train, Y_train)\n",
        "nh_prediction = neighbors.predict(X_test)"
      ],
      "execution_count": null,
      "outputs": []
    },
    {
      "cell_type": "code",
      "metadata": {
        "id": "WVSedFDqMVMz"
      },
      "source": [
        "plt.figure(figsize=(18, 14))\n",
        "plt.subplot(221)\n",
        "sns.heatmap(metrics.confusion_matrix(Y_test, nh_prediction), annot=True, fmt = \"d\", linecolor=\"k\", linewidths=3)\n",
        "plt.title(\"CONFUSION MATRIX\", fontsize=20)\n",
        "plt.xlabel('Predicted Label')\n",
        "plt.ylabel('True Label')\n",
        "\n",
        "nh_predicted_probs = neighbors.predict_proba(X_test)[:, 1]\n",
        "fpr, tpr, thresholds = metrics.roc_curve(Y_test, nh_predicted_probs)\n",
        "plt.subplot(222)\n",
        "plt.plot(fpr, tpr, label = (\"Area_under the curve :\", metrics.auc(fpr, tpr)), color = \"r\")\n",
        "plt.plot([1,0], [1,0], linestyle = \"dashed\", color =\"k\")\n",
        "plt.legend(loc = \"best\")\n",
        "plt.xlabel('False Positive Rate')\n",
        "plt.ylabel('True Positive Rate')\n",
        "plt.title(\"ROC - CURVE & AREA UNDER CURVE\",fontsize=20)\n",
        "plt.show()"
      ],
      "execution_count": null,
      "outputs": []
    },
    {
      "cell_type": "markdown",
      "metadata": {
        "id": "Z4kbPcMdMVMz"
      },
      "source": [
        "# Support Vectors"
      ]
    },
    {
      "cell_type": "code",
      "metadata": {
        "id": "j_pB91W4MVMz"
      },
      "source": [
        "from sklearn import neighbors, svm"
      ],
      "execution_count": null,
      "outputs": []
    },
    {
      "cell_type": "code",
      "metadata": {
        "id": "jJHuCkEOMVMz"
      },
      "source": [
        "svc = svm.SVC(kernel='poly',probability=True)\n",
        "svc.fit(X_train, Y_train)\n",
        "sv_prediction = svc.predict(X_test)"
      ],
      "execution_count": null,
      "outputs": []
    },
    {
      "cell_type": "code",
      "metadata": {
        "id": "pU09IDIaMVM0"
      },
      "source": [
        "plt.figure(figsize=(18, 14))\n",
        "plt.subplot(221)\n",
        "sns.heatmap(metrics.confusion_matrix(Y_test, sv_prediction), annot=True, fmt = \"d\", linecolor=\"k\", linewidths=3)\n",
        "plt.title(\"CONFUSION MATRIX\", fontsize=20)\n",
        "plt.xlabel('Predicted Label')\n",
        "plt.ylabel('True Label')\n",
        "\n",
        "sv_predicted_probs = svc.predict_proba(X_test)[:, 1]\n",
        "fpr, tpr, thresholds = metrics.roc_curve(Y_test, sv_predicted_probs)\n",
        "plt.subplot(222)\n",
        "plt.plot(fpr, tpr, label = (\"Area_under the curve :\", metrics.auc(fpr, tpr)), color = \"r\")\n",
        "plt.plot([1,0], [1,0], linestyle = \"dashed\", color =\"k\")\n",
        "plt.legend(loc = \"best\")\n",
        "plt.xlabel('False Positive Rate')\n",
        "plt.ylabel('True Positive Rate')\n",
        "plt.title(\"ROC - CURVE & AREA UNDER CURVE\",fontsize=20)\n",
        "plt.show()"
      ],
      "execution_count": null,
      "outputs": []
    },
    {
      "cell_type": "code",
      "metadata": {
        "id": "NLAaBKwUMVM0"
      },
      "source": [
        "plt.figure(figsize=(18, 14))\n",
        "plt.subplot(221)\n",
        "sns.heatmap(metrics.confusion_matrix(Y_test, sv_prediction), annot=True, fmt = \"d\", linecolor=\"k\", linewidths=3)\n",
        "plt.title(\"CONFUSION MATRIX\", fontsize=20)\n",
        "plt.xlabel('Predicted Label')\n",
        "plt.ylabel('True Label')\n",
        "\n",
        "sv_predicted_probs = svc.predict_proba(X_test)[:, 1]\n",
        "fpr, tpr, thresholds = metrics.roc_curve(Y_test, sv_predicted_probs)\n",
        "plt.subplot(222)\n",
        "plt.plot(fpr, tpr, label = (\"Area_under the curve :\", metrics.auc(fpr, tpr)), color = \"r\")\n",
        "plt.plot([1,0], [1,0], linestyle = \"dashed\", color =\"k\")\n",
        "plt.legend(loc = \"best\")\n",
        "plt.xlabel('False Positive Rate')\n",
        "plt.ylabel('True Positive Rate')\n",
        "plt.title(\"ROC - CURVE & AREA UNDER CURVE\",fontsize=20)\n",
        "plt.show()"
      ],
      "execution_count": null,
      "outputs": []
    },
    {
      "cell_type": "code",
      "metadata": {
        "id": "F1tKpY1OMVM0"
      },
      "source": [
        "from sklearn.naive_bayes import GaussianNB"
      ],
      "execution_count": null,
      "outputs": []
    },
    {
      "cell_type": "code",
      "metadata": {
        "id": "DzRKjSHFMVM0"
      },
      "source": [
        "naiveGauss = GaussianNB()\n",
        "naiveGauss.fit(X_train,Y_train)\n",
        "nb_prediction = naiveGauss.predict(X_test)"
      ],
      "execution_count": null,
      "outputs": []
    },
    {
      "cell_type": "code",
      "metadata": {
        "id": "BT48AWJSMVM1"
      },
      "source": [
        "plt.figure(figsize=(18, 14))\n",
        "plt.subplot(221)\n",
        "sns.heatmap(metrics.confusion_matrix(Y_test, nb_prediction), annot=True, fmt = \"d\", linecolor=\"k\", linewidths=3)\n",
        "plt.title(\"CONFUSION MATRIX\", fontsize=20)\n",
        "plt.xlabel('Predicted Label')\n",
        "plt.ylabel('True Label')\n",
        "\n",
        "nb_predicted_probs = naiveGauss.predict_proba(X_test)[:, 1]\n",
        "fpr, tpr, thresholds = metrics.roc_curve(Y_test, nb_predicted_probs)\n",
        "plt.subplot(222)\n",
        "plt.plot(fpr, tpr, label = (\"Area_under the curve :\", metrics.auc(fpr, tpr)), color = \"r\")\n",
        "plt.plot([1,0], [1,0], linestyle = \"dashed\", color =\"k\")\n",
        "plt.legend(loc = \"best\")\n",
        "plt.xlabel('False Positive Rate')\n",
        "plt.ylabel('True Positive Rate')\n",
        "plt.title(\"ROC - CURVE & AREA UNDER CURVE\",fontsize=20)\n",
        "plt.show()"
      ],
      "execution_count": null,
      "outputs": []
    },
    {
      "cell_type": "markdown",
      "metadata": {
        "id": "qwYeU5RbMVM1"
      },
      "source": [
        "# Neural Network"
      ]
    },
    {
      "cell_type": "code",
      "metadata": {
        "id": "NwemcWyNMVM1"
      },
      "source": [
        "from sklearn.neural_network import MLPClassifier\n",
        "network = MLPClassifier(hidden_layer_sizes = (100,), max_iter = 500)\n",
        "network.fit(X_train, Y_train)\n",
        "nt_prediction = network.predict(X_test)"
      ],
      "execution_count": null,
      "outputs": []
    },
    {
      "cell_type": "code",
      "metadata": {
        "id": "XXawmWlvMVM1"
      },
      "source": [
        "plt.figure(figsize=(18, 14))\n",
        "plt.subplot(221)\n",
        "sns.heatmap(metrics.confusion_matrix(Y_test, nt_prediction), annot=True, fmt = \"d\", linecolor=\"k\", linewidths=3)\n",
        "plt.title(\"CONFUSION MATRIX\", fontsize=20)\n",
        "plt.xlabel('Predicted Label')\n",
        "plt.ylabel('True Label')\n",
        "\n",
        "nt_predicted_probs = network.predict_proba(X_test)[:, 1]\n",
        "fpr, tpr, thresholds = metrics.roc_curve(Y_test, nt_predicted_probs)\n",
        "plt.subplot(222)\n",
        "plt.plot(fpr, tpr, label = (\"Area_under the curve :\", metrics.auc(fpr, tpr)), color = \"r\")\n",
        "plt.plot([1,0], [1,0], linestyle = \"dashed\", color =\"k\")\n",
        "plt.legend(loc = \"best\")\n",
        "plt.xlabel('False Positive Rate')\n",
        "plt.ylabel('True Positive Rate')\n",
        "plt.title(\"ROC - CURVE & AREA UNDER CURVE\",fontsize=20)\n",
        "plt.show()"
      ],
      "execution_count": null,
      "outputs": []
    },
    {
      "cell_type": "markdown",
      "metadata": {
        "id": "T27nQUSvMVM2"
      },
      "source": [
        "## Comparing Models in sklearn"
      ]
    },
    {
      "cell_type": "code",
      "metadata": {
        "id": "UJekuR8oMVM2"
      },
      "source": [
        "h = .02  # step size in the mesh\n",
        "\n",
        "names = [\"Random Forest\",\"Nearest Neighbors\", \"Linear SVM\", \"Polynomial SVM\", \"RBF SVM\", \"Gaussian Naive Bayes\",\n",
        "          \"RELU Neural Network\",\"Tanh Neural Network\"]\n",
        "\n",
        "classifiers = [RandomForestClassifier(max_depth=5, n_estimators=10, max_features=1),\n",
        "    KNeighborsClassifier(5),\n",
        "    svm.SVC(kernel=\"linear\", C=0.025),\n",
        "    svm.SVC(kernel='poly'),\n",
        "    svm.SVC(gamma=2, C=1),\n",
        "    GaussianNB(),\n",
        "    MLPClassifier(alpha=1, max_iter=1000,hidden_layer_sizes = (100,50)),\n",
        "    MLPClassifier(activation='tanh',alpha=1, max_iter=1000,hidden_layer_sizes = (100,50)),\n",
        "              ]\n",
        "\n",
        "X, y = make_classification(n_features=2, n_redundant=0, n_informative=2,\n",
        "                           random_state=1, n_clusters_per_class=1)\n",
        "rng = np.random.RandomState(2)\n",
        "X += 2 * rng.uniform(size=X.shape)\n",
        "linearly_separable = (X, y)\n",
        "\n",
        "datasets = [make_moons(noise=0.3, random_state=0),\n",
        "            make_circles(noise=0.2, factor=0.5, random_state=1),\n",
        "            linearly_separable\n",
        "            ]"
      ],
      "execution_count": null,
      "outputs": []
    },
    {
      "cell_type": "code",
      "metadata": {
        "id": "FGxW1ohRMVM2"
      },
      "source": [
        "from matplotlib.colors import ListedColormap\n",
        "figure = plt.figure(figsize=(27, 9))\n",
        "i = 1\n",
        "# iterate over datasets\n",
        "for ds_cnt, ds in enumerate(datasets):\n",
        "    # preprocess dataset, split into training and test part\n",
        "    X, y = ds\n",
        "    X = StandardScaler().fit_transform(X)\n",
        "    X_train, X_test, y_train, y_test = \\\n",
        "        train_test_split(X, y, test_size=.4, random_state=42)\n",
        "\n",
        "    x_min, x_max = X[:, 0].min() - .5, X[:, 0].max() + .5\n",
        "    y_min, y_max = X[:, 1].min() - .5, X[:, 1].max() + .5\n",
        "    xx, yy = np.meshgrid(np.arange(x_min, x_max, h),\n",
        "                         np.arange(y_min, y_max, h))\n",
        "\n",
        "    # just plot the dataset first\n",
        "    cm = plt.cm.RdBu\n",
        "    cm_bright = ListedColormap(['#FF0000', '#0000FF'])\n",
        "    ax = plt.subplot(len(datasets), len(classifiers) + 1, i)\n",
        "    if ds_cnt == 0:\n",
        "        ax.set_title(\"Input data\")\n",
        "    # Plot the training points\n",
        "    ax.scatter(X_train[:, 0], X_train[:, 1], c=y_train, cmap=cm_bright,\n",
        "               edgecolors='k')\n",
        "    # Plot the testing points\n",
        "    ax.scatter(X_test[:, 0], X_test[:, 1], c=y_test, cmap=cm_bright, alpha=0.6,\n",
        "               edgecolors='k')\n",
        "    ax.set_xlim(xx.min(), xx.max())\n",
        "    ax.set_ylim(yy.min(), yy.max())\n",
        "    ax.set_xticks(())\n",
        "    ax.set_yticks(())\n",
        "    i += 1\n",
        "\n",
        "    # iterate over classifiers\n",
        "    for name, clf in zip(names, classifiers):\n",
        "        ax = plt.subplot(len(datasets), len(classifiers) + 1, i)\n",
        "        clf.fit(X_train, y_train)\n",
        "        score = clf.score(X_test, y_test)\n",
        "\n",
        "        # Plot the decision boundary. For that, we will assign a color to each\n",
        "        # point in the mesh [x_min, x_max]x[y_min, y_max].\n",
        "        if hasattr(clf, \"decision_function\"):\n",
        "            Z = clf.decision_function(np.c_[xx.ravel(), yy.ravel()])\n",
        "        else:\n",
        "            Z = clf.predict_proba(np.c_[xx.ravel(), yy.ravel()])[:, 1]\n",
        "\n",
        "        # Put the result into a color plot\n",
        "        Z = Z.reshape(xx.shape)\n",
        "        ax.contourf(xx, yy, Z, cmap=cm, alpha=.8)\n",
        "\n",
        "        # Plot the training points\n",
        "        ax.scatter(X_train[:, 0], X_train[:, 1], c=y_train, cmap=cm_bright,\n",
        "                   edgecolors='k')\n",
        "        # Plot the testing points\n",
        "        ax.scatter(X_test[:, 0], X_test[:, 1], c=y_test, cmap=cm_bright,\n",
        "                   edgecolors='k', alpha=0.6)\n",
        "\n",
        "        ax.set_xlim(xx.min(), xx.max())\n",
        "        ax.set_ylim(yy.min(), yy.max())\n",
        "        ax.set_xticks(())\n",
        "        ax.set_yticks(())\n",
        "        if ds_cnt == 0:\n",
        "            ax.set_title(name)\n",
        "        ax.text(xx.max() - .3, yy.min() + .3, ('%.2f' % score).lstrip('0'),\n",
        "                size=15, horizontalalignment='right')\n",
        "        i += 1\n",
        "\n",
        "plt.tight_layout()\n",
        "plt.show()"
      ],
      "execution_count": null,
      "outputs": []
    },
    {
      "cell_type": "markdown",
      "metadata": {
        "id": "vC3peBX-MVM3"
      },
      "source": [
        "# Project 1:\n",
        "In this project we'll be using gene expression data from gollub et al (1999) to build a model that classifies two type of cancerous tumors acute myeloid leukemia (AML: 1) and acute lymphoblastic leukemia (ALL: 0). This dataset consits of the epression of 7129 genes collected from 72 cancerous patients."
      ]
    },
    {
      "cell_type": "code",
      "metadata": {
        "id": "yGKMHLm8MVM3"
      },
      "source": [
        "train = pd.read_csv('https://raw.githubusercontent.com/Columbia-Neuropythonistas/PythonDataCourse2021/master/Lecture5/CancerData/train.csv')\n",
        "test = pd.read_csv('https://raw.githubusercontent.com/Columbia-Neuropythonistas/PythonDataCourse2021/master/Lecture5/CancerData/test.csv')\n",
        "train.head() "
      ],
      "execution_count": null,
      "outputs": []
    },
    {
      "cell_type": "markdown",
      "metadata": {
        "id": "6AgrElq9MVM3"
      },
      "source": [
        "## Preprocessing:"
      ]
    },
    {
      "cell_type": "markdown",
      "metadata": {
        "id": "qH_EaboGMVM3"
      },
      "source": [
        "### Using either seaborn or matplotlib create a barplot of the number of AML and ALL patients in the trainning and test set."
      ]
    },
    {
      "cell_type": "code",
      "metadata": {
        "id": "HI5hP5GjMVM3"
      },
      "source": [
        ""
      ],
      "execution_count": null,
      "outputs": []
    },
    {
      "cell_type": "code",
      "metadata": {
        "id": "ugdtfDPeMVM4"
      },
      "source": [
        ""
      ],
      "execution_count": null,
      "outputs": []
    },
    {
      "cell_type": "markdown",
      "metadata": {
        "id": "FmxI6fj9MVM4"
      },
      "source": [
        "You should notice that the number of patients with ALL out numbers the number of patients with AML in the training set. This is generally bad for model fitting, so we'll need to upsample the number of AML patients in the trainning group to get a good model. You don't need to worry about understanding the code in the cell below, all it does is add 7 random patients with AML cancer."
      ]
    },
    {
      "cell_type": "code",
      "metadata": {
        "id": "gqIQYiaaMVM4"
      },
      "source": [
        "upsample = random.sample(train.query('cancer == 1')['patient'].index.tolist(),k=7,)\n",
        "upsampled_train = pd.concat([train, train.iloc[upsample,:]])"
      ],
      "execution_count": null,
      "outputs": []
    },
    {
      "cell_type": "markdown",
      "metadata": {
        "id": "MBzVrvQkMVM4"
      },
      "source": [
        "sklearn expects numpy arrays, so the cell below just converts your pandas DataFrame in to np.ndarrays."
      ]
    },
    {
      "cell_type": "code",
      "metadata": {
        "id": "cTLTY4CcMVM4"
      },
      "source": [
        "Xtrain = upsampled_train[:-2].values\n",
        "Ytrain = train['cancer'].values\n",
        "Xtest = test[:-2].values\n",
        "Ytest = test['cancer'].values"
      ],
      "execution_count": null,
      "outputs": []
    },
    {
      "cell_type": "markdown",
      "metadata": {
        "id": "p-nwwTcnMVM4"
      },
      "source": [
        "### Print the standard deviation and mean of each gene's expression.\n",
        "There are many ways to do this but try doing it without using a for loop."
      ]
    },
    {
      "cell_type": "code",
      "metadata": {
        "id": "h8PoXBxGMVM4"
      },
      "source": [
        ""
      ],
      "execution_count": null,
      "outputs": []
    },
    {
      "cell_type": "markdown",
      "metadata": {
        "id": "Udj1jljBMVM4"
      },
      "source": [
        "You should also notice that the gene expressions have wildly different standard deviations and means. Models generally do better when all of their data have a variance of 1 and a mean of 0. Using the StandardScaler method, normalize the features by their standard deviation and mean. "
      ]
    },
    {
      "cell_type": "code",
      "metadata": {
        "id": "sRLAm7DqMVM5"
      },
      "source": [
        ""
      ],
      "execution_count": null,
      "outputs": []
    },
    {
      "cell_type": "markdown",
      "metadata": {
        "id": "B0orAV5uMVM6"
      },
      "source": [
        "## Modeling:"
      ]
    },
    {
      "cell_type": "markdown",
      "metadata": {
        "id": "7v7RYCzJMVM6"
      },
      "source": [
        "### Now that the data has been nicely preprocessed, use any of the classification methods above to fit a model a to the trainning data, and use the test set to check the accuracy of your model. "
      ]
    },
    {
      "cell_type": "code",
      "metadata": {
        "id": "XI8hwzYlMVM6"
      },
      "source": [
        ""
      ],
      "execution_count": null,
      "outputs": []
    },
    {
      "cell_type": "code",
      "metadata": {
        "id": "M1EWnEIcMVM6"
      },
      "source": [
        ""
      ],
      "execution_count": null,
      "outputs": []
    },
    {
      "cell_type": "code",
      "metadata": {
        "id": "8020C3gPMVM7"
      },
      "source": [
        ""
      ],
      "execution_count": null,
      "outputs": []
    },
    {
      "cell_type": "code",
      "metadata": {
        "id": "raUlKKJzMVM7"
      },
      "source": [
        ""
      ],
      "execution_count": null,
      "outputs": []
    },
    {
      "cell_type": "code",
      "metadata": {
        "id": "s2GZHuwwMVM7"
      },
      "source": [
        ""
      ],
      "execution_count": null,
      "outputs": []
    }
  ]
}