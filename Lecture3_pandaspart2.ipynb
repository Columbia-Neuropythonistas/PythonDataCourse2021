{
  "nbformat": 4,
  "nbformat_minor": 0,
  "metadata": {
    "colab": {
      "name": "Lecture3_pandaspart2.ipynb",
      "provenance": [],
      "collapsed_sections": [],
      "include_colab_link": true
    },
    "kernelspec": {
      "name": "python3",
      "display_name": "Python 3"
    },
    "language_info": {
      "name": "python"
    }
  },
  "cells": [
    {
      "cell_type": "markdown",
      "metadata": {
        "id": "view-in-github",
        "colab_type": "text"
      },
      "source": [
        "<a href=\"https://colab.research.google.com/github/Columbia-Neuropythonistas/PythonDataCourse2021/blob/main/Lecture3_pandaspart2.ipynb\" target=\"_parent\"><img src=\"https://colab.research.google.com/assets/colab-badge.svg\" alt=\"Open In Colab\"/></a>"
      ]
    },
    {
      "cell_type": "code",
      "metadata": {
        "id": "Q8Q1PnXFfZ1c"
      },
      "source": [
        ""
      ],
      "execution_count": null,
      "outputs": []
    },
    {
      "cell_type": "markdown",
      "metadata": {
        "id": "och93u9UgR3y"
      },
      "source": [
        "Let's start by importing pandas - go ahead and do that now:"
      ]
    },
    {
      "cell_type": "code",
      "metadata": {
        "id": "OKsQZO-8gESv"
      },
      "source": [
        "import pandas as pd"
      ],
      "execution_count": null,
      "outputs": []
    },
    {
      "cell_type": "markdown",
      "metadata": {
        "id": "G8fmi8AKgEiq"
      },
      "source": [
        "Let's start by building our DataFrame from last lecture:\n",
        "\n",
        "Link to csv: https://raw.githubusercontent.com/Columbia-Neuropythonistas/PythonDataCourse/master/Homeworks/HW3/lotr_char_age.csv\n",
        "\n",
        "Use the read_csv function to create a pandas dataframe called lotr_df, and take a look at just the first three rows:\n",
        " "
      ]
    },
    {
      "cell_type": "code",
      "metadata": {
        "id": "UHTOPOAkgbxt"
      },
      "source": [
        "lotr_df = pd.read_csv('https://raw.githubusercontent.com/Columbia-Neuropythonistas/PythonDataCourse/master/Homeworks/HW3/lotr_char_age.csv')"
      ],
      "execution_count": null,
      "outputs": []
    },
    {
      "cell_type": "markdown",
      "metadata": {
        "id": "g-3q3QVwgcQU"
      },
      "source": [
        "Oh no! The Tolkien fan who made our dataset didn't know that it can be hard to work with spaces in code - to make things easier for future users, let's see if we can rename our 'Character Name' column to 'Character_Name'. This can easily be accomplished using the rename method, which takes in dict-like input that can be specified to __either__ columns or the index. In this case, the format would look like: \n",
        "<br><br> <code> DataFrame.rename( {<br>      <font color=red> 'EXISTING COLUMN'</font>: <font color=blue> 'NEW NAME'</font>, etc. <br>           }, axis = 'columns')\n",
        "\n",
        "Go ahead and give that a try below:"
      ]
    },
    {
      "cell_type": "code",
      "metadata": {
        "id": "M2qEGQlCgyay"
      },
      "source": [
        ""
      ],
      "execution_count": null,
      "outputs": []
    },
    {
      "cell_type": "markdown",
      "metadata": {
        "id": "d3R8q2E5g0pt"
      },
      "source": [
        "Now that we've got our column names in order, let's take a look at one of the most powerful tools we have with DataFrames : the groupby() function.\n",
        "<br><br>\n",
        "Simply put, <code>groupby(['CATEGORY'])</code> is a method of grouping categories, and applying a function to each group. Let's just test it out to see what's going on! Create a DataFrame called \"being_stats\" that is lotr_df grouped by beings, and run the \"count()\" method on it:"
      ]
    },
    {
      "cell_type": "code",
      "metadata": {
        "id": "oBQn3cHeg7hk",
        "colab": {
          "base_uri": "https://localhost:8080/",
          "height": 235
        },
        "outputId": "d69775e9-0e44-4f30-fed7-99dddb077169"
      },
      "source": [
        "#Feel free to just run the code below to see output\n",
        "being_stats = lotr_df.groupby(['Beings'])\n",
        "being_stats.count()"
      ],
      "execution_count": null,
      "outputs": [
        {
          "output_type": "execute_result",
          "data": {
            "text/html": [
              "<div>\n",
              "<style scoped>\n",
              "    .dataframe tbody tr th:only-of-type {\n",
              "        vertical-align: middle;\n",
              "    }\n",
              "\n",
              "    .dataframe tbody tr th {\n",
              "        vertical-align: top;\n",
              "    }\n",
              "\n",
              "    .dataframe thead th {\n",
              "        text-align: right;\n",
              "    }\n",
              "</style>\n",
              "<table border=\"1\" class=\"dataframe\">\n",
              "  <thead>\n",
              "    <tr style=\"text-align: right;\">\n",
              "      <th></th>\n",
              "      <th>Character Name</th>\n",
              "      <th>Age</th>\n",
              "    </tr>\n",
              "    <tr>\n",
              "      <th>Beings</th>\n",
              "      <th></th>\n",
              "      <th></th>\n",
              "    </tr>\n",
              "  </thead>\n",
              "  <tbody>\n",
              "    <tr>\n",
              "      <th>dwarf</th>\n",
              "      <td>1</td>\n",
              "      <td>1</td>\n",
              "    </tr>\n",
              "    <tr>\n",
              "      <th>dwarf</th>\n",
              "      <td>1</td>\n",
              "      <td>1</td>\n",
              "    </tr>\n",
              "    <tr>\n",
              "      <th>elf</th>\n",
              "      <td>5</td>\n",
              "      <td>5</td>\n",
              "    </tr>\n",
              "    <tr>\n",
              "      <th>hobbit</th>\n",
              "      <td>5</td>\n",
              "      <td>5</td>\n",
              "    </tr>\n",
              "    <tr>\n",
              "      <th>human</th>\n",
              "      <td>5</td>\n",
              "      <td>5</td>\n",
              "    </tr>\n",
              "  </tbody>\n",
              "</table>\n",
              "</div>"
            ],
            "text/plain": [
              "        Character Name  Age\n",
              "Beings                     \n",
              "dwarf                1    1\n",
              "dwarf                1    1\n",
              "elf                  5    5\n",
              "hobbit               5    5\n",
              "human                5    5"
            ]
          },
          "metadata": {
            "tags": []
          },
          "execution_count": 5
        }
      ]
    },
    {
      "cell_type": "markdown",
      "metadata": {
        "id": "L-zoVI_mhBJk"
      },
      "source": [
        "What the above output is telling us is that each label under \"Beings\" is a unique value in the lotr_df['Beings'] column. For elves, there are 5 entered character names, and 5 entered ages.\n",
        "<br><br> But how strange! It looks like we're seeing...two dwarfs (dwarves, I know...)?? Can anybody think of a reason for this?\n",
        "\n",
        "We can take a closer look by using the unique() function - run \n",
        "<code> \n",
        "\n",
        "lotr_df['Beings'].unique()</code>. What do you see?\n",
        "\n"
      ]
    },
    {
      "cell_type": "code",
      "metadata": {
        "id": "80BprTcHhD-X"
      },
      "source": [
        ""
      ],
      "execution_count": null,
      "outputs": []
    },
    {
      "cell_type": "markdown",
      "metadata": {
        "id": "3FO84EuNhXH8"
      },
      "source": [
        "This is all part of cleaning data, folks! People make mistakes!\n",
        "<br><br> In this case, we want to go in and replace the error, 'dwarf ', with 'dwarf'. To do this, let's use the replace() function associated with DataFrames. replace() can take in dict-like formats just like rename() - it will look like this:<br><br>\n",
        "<code>        DataFrame.replace({<font color = red>'COLUMN NAME' : VALUE IN COLUMN </font>}, \n",
        "          <font color = blue>VALUE TO BE INSERTED</font> )\n",
        "    \n",
        "    <br><br>\n",
        "    \n",
        "    Try replacing 'dwarf ' with the correct value below - can you check just the dwarf entries using .loc? :"
      ]
    },
    {
      "cell_type": "code",
      "metadata": {
        "colab": {
          "base_uri": "https://localhost:8080/"
        },
        "id": "tFK8srJR-q8F",
        "outputId": "8593d2ad-673c-47db-f71a-031604e2b35b"
      },
      "source": [
        "# a more advanced way of string manipulation using string methods\n",
        "lotr_df['Beings'].str.strip(' ').unique()"
      ],
      "execution_count": null,
      "outputs": [
        {
          "output_type": "execute_result",
          "data": {
            "text/plain": [
              "array(['human', 'elf', 'dwarf', 'hobbit'], dtype=object)"
            ]
          },
          "metadata": {
            "tags": []
          },
          "execution_count": 8
        }
      ]
    },
    {
      "cell_type": "code",
      "metadata": {
        "id": "we-DBNKRhYqg"
      },
      "source": [
        ""
      ],
      "execution_count": null,
      "outputs": []
    },
    {
      "cell_type": "markdown",
      "metadata": {
        "id": "qsTryqrzBFLr"
      },
      "source": [
        "Let's fetch a bunch of stock data as a test"
      ]
    },
    {
      "cell_type": "code",
      "metadata": {
        "id": "lFncMzTFBJUn"
      },
      "source": [
        "df = pd.read_csv('https://raw.githubusercontent.com/vega/vega-lite-v1/master/data/stocks.csv')"
      ],
      "execution_count": null,
      "outputs": []
    },
    {
      "cell_type": "code",
      "metadata": {
        "colab": {
          "base_uri": "https://localhost:8080/",
          "height": 204
        },
        "id": "8al6jy5IBNpH",
        "outputId": "e2e07b34-f09c-452b-bd92-05fd33f6cce7"
      },
      "source": [
        "df.head()"
      ],
      "execution_count": null,
      "outputs": [
        {
          "output_type": "execute_result",
          "data": {
            "text/html": [
              "<div>\n",
              "<style scoped>\n",
              "    .dataframe tbody tr th:only-of-type {\n",
              "        vertical-align: middle;\n",
              "    }\n",
              "\n",
              "    .dataframe tbody tr th {\n",
              "        vertical-align: top;\n",
              "    }\n",
              "\n",
              "    .dataframe thead th {\n",
              "        text-align: right;\n",
              "    }\n",
              "</style>\n",
              "<table border=\"1\" class=\"dataframe\">\n",
              "  <thead>\n",
              "    <tr style=\"text-align: right;\">\n",
              "      <th></th>\n",
              "      <th>symbol</th>\n",
              "      <th>date</th>\n",
              "      <th>price</th>\n",
              "    </tr>\n",
              "  </thead>\n",
              "  <tbody>\n",
              "    <tr>\n",
              "      <th>0</th>\n",
              "      <td>MSFT</td>\n",
              "      <td>Jan 1 2000</td>\n",
              "      <td>39.81</td>\n",
              "    </tr>\n",
              "    <tr>\n",
              "      <th>1</th>\n",
              "      <td>MSFT</td>\n",
              "      <td>Feb 1 2000</td>\n",
              "      <td>36.35</td>\n",
              "    </tr>\n",
              "    <tr>\n",
              "      <th>2</th>\n",
              "      <td>MSFT</td>\n",
              "      <td>Mar 1 2000</td>\n",
              "      <td>43.22</td>\n",
              "    </tr>\n",
              "    <tr>\n",
              "      <th>3</th>\n",
              "      <td>MSFT</td>\n",
              "      <td>Apr 1 2000</td>\n",
              "      <td>28.37</td>\n",
              "    </tr>\n",
              "    <tr>\n",
              "      <th>4</th>\n",
              "      <td>MSFT</td>\n",
              "      <td>May 1 2000</td>\n",
              "      <td>25.45</td>\n",
              "    </tr>\n",
              "  </tbody>\n",
              "</table>\n",
              "</div>"
            ],
            "text/plain": [
              "  symbol        date  price\n",
              "0   MSFT  Jan 1 2000  39.81\n",
              "1   MSFT  Feb 1 2000  36.35\n",
              "2   MSFT  Mar 1 2000  43.22\n",
              "3   MSFT  Apr 1 2000  28.37\n",
              "4   MSFT  May 1 2000  25.45"
            ]
          },
          "metadata": {
            "tags": []
          },
          "execution_count": 11
        }
      ]
    },
    {
      "cell_type": "markdown",
      "metadata": {
        "id": "nhFX-o_4BUvC"
      },
      "source": [
        "What are the data types of each column?"
      ]
    },
    {
      "cell_type": "code",
      "metadata": {
        "colab": {
          "base_uri": "https://localhost:8080/"
        },
        "id": "RntuvPd3BXA-",
        "outputId": "2d6e37d1-2d80-4ec6-a31a-bce381f21908"
      },
      "source": [
        "df.dtypes"
      ],
      "execution_count": null,
      "outputs": [
        {
          "output_type": "execute_result",
          "data": {
            "text/plain": [
              "symbol     object\n",
              "date       object\n",
              "price     float64\n",
              "dtype: object"
            ]
          },
          "metadata": {
            "tags": []
          },
          "execution_count": 12
        }
      ]
    },
    {
      "cell_type": "markdown",
      "metadata": {
        "id": "PhMksIdeBZbx"
      },
      "source": [
        "We actually want `'date'` to be a datetime object instead of a generic object column"
      ]
    },
    {
      "cell_type": "code",
      "metadata": {
        "id": "fQHtK6g3BlvV"
      },
      "source": [
        "pd.to_datetime?"
      ],
      "execution_count": null,
      "outputs": []
    },
    {
      "cell_type": "code",
      "metadata": {
        "id": "WTNg20d3B43Z"
      },
      "source": [
        "df['date'] = pd.to_datetime(df['date'], dayfirst=False, yearfirst=False)"
      ],
      "execution_count": null,
      "outputs": []
    },
    {
      "cell_type": "code",
      "metadata": {
        "colab": {
          "base_uri": "https://localhost:8080/"
        },
        "id": "yCdC3HblCLXh",
        "outputId": "597913ad-c33e-46b2-9541-577e965b5a87"
      },
      "source": [
        "df.dtypes"
      ],
      "execution_count": null,
      "outputs": [
        {
          "output_type": "execute_result",
          "data": {
            "text/plain": [
              "symbol            object\n",
              "date      datetime64[ns]\n",
              "price            float64\n",
              "dtype: object"
            ]
          },
          "metadata": {
            "tags": []
          },
          "execution_count": 19
        }
      ]
    },
    {
      "cell_type": "code",
      "metadata": {
        "id": "a4O4CxVpCNuZ"
      },
      "source": [
        "df['symbol'] = df['symbol'].astype(\"string\")"
      ],
      "execution_count": null,
      "outputs": []
    },
    {
      "cell_type": "code",
      "metadata": {
        "colab": {
          "base_uri": "https://localhost:8080/"
        },
        "id": "ntHu0D0zCf1s",
        "outputId": "ed85d534-cc9c-42f3-db29-e3d0bca70528"
      },
      "source": [
        "df.dtypes"
      ],
      "execution_count": null,
      "outputs": [
        {
          "output_type": "execute_result",
          "data": {
            "text/plain": [
              "symbol            string\n",
              "date      datetime64[ns]\n",
              "price            float64\n",
              "dtype: object"
            ]
          },
          "metadata": {
            "tags": []
          },
          "execution_count": 23
        }
      ]
    },
    {
      "cell_type": "markdown",
      "metadata": {
        "id": "3j3QZ-3G_MBR"
      },
      "source": [
        "## More Groupby functionality"
      ]
    },
    {
      "cell_type": "markdown",
      "metadata": {
        "id": "RUag5irfBRLu"
      },
      "source": [
        "What is the average price of each stock across all time - use groupby to calculate this?"
      ]
    },
    {
      "cell_type": "code",
      "metadata": {
        "id": "8Ww90EQy_cFC"
      },
      "source": [
        ""
      ],
      "execution_count": null,
      "outputs": []
    },
    {
      "cell_type": "markdown",
      "metadata": {
        "id": "IVqBUmvQCwk_"
      },
      "source": [
        "Is there a way to get a general idea of the statistics of the columns I am interested in?"
      ]
    },
    {
      "cell_type": "code",
      "metadata": {
        "colab": {
          "base_uri": "https://localhost:8080/",
          "height": 235
        },
        "id": "YfcBOaDJC2wd",
        "outputId": "f51813fb-3d70-4818-b7f6-712e4a0c6cac"
      },
      "source": [
        "df.groupby('symbol')['price'].describe()"
      ],
      "execution_count": null,
      "outputs": [
        {
          "output_type": "execute_result",
          "data": {
            "text/html": [
              "<div>\n",
              "<style scoped>\n",
              "    .dataframe tbody tr th:only-of-type {\n",
              "        vertical-align: middle;\n",
              "    }\n",
              "\n",
              "    .dataframe tbody tr th {\n",
              "        vertical-align: top;\n",
              "    }\n",
              "\n",
              "    .dataframe thead th {\n",
              "        text-align: right;\n",
              "    }\n",
              "</style>\n",
              "<table border=\"1\" class=\"dataframe\">\n",
              "  <thead>\n",
              "    <tr style=\"text-align: right;\">\n",
              "      <th></th>\n",
              "      <th>count</th>\n",
              "      <th>mean</th>\n",
              "      <th>std</th>\n",
              "      <th>min</th>\n",
              "      <th>25%</th>\n",
              "      <th>50%</th>\n",
              "      <th>75%</th>\n",
              "      <th>max</th>\n",
              "    </tr>\n",
              "    <tr>\n",
              "      <th>symbol</th>\n",
              "      <th></th>\n",
              "      <th></th>\n",
              "      <th></th>\n",
              "      <th></th>\n",
              "      <th></th>\n",
              "      <th></th>\n",
              "      <th></th>\n",
              "      <th></th>\n",
              "    </tr>\n",
              "  </thead>\n",
              "  <tbody>\n",
              "    <tr>\n",
              "      <th>AAPL</th>\n",
              "      <td>123.0</td>\n",
              "      <td>64.730488</td>\n",
              "      <td>63.123782</td>\n",
              "      <td>7.07</td>\n",
              "      <td>11.155</td>\n",
              "      <td>36.81</td>\n",
              "      <td>102.460</td>\n",
              "      <td>223.02</td>\n",
              "    </tr>\n",
              "    <tr>\n",
              "      <th>AMZN</th>\n",
              "      <td>123.0</td>\n",
              "      <td>47.987073</td>\n",
              "      <td>28.891321</td>\n",
              "      <td>5.97</td>\n",
              "      <td>29.405</td>\n",
              "      <td>41.50</td>\n",
              "      <td>65.895</td>\n",
              "      <td>135.91</td>\n",
              "    </tr>\n",
              "    <tr>\n",
              "      <th>GOOG</th>\n",
              "      <td>68.0</td>\n",
              "      <td>415.870441</td>\n",
              "      <td>135.069851</td>\n",
              "      <td>102.37</td>\n",
              "      <td>338.395</td>\n",
              "      <td>420.46</td>\n",
              "      <td>503.625</td>\n",
              "      <td>707.00</td>\n",
              "    </tr>\n",
              "    <tr>\n",
              "      <th>IBM</th>\n",
              "      <td>123.0</td>\n",
              "      <td>91.261220</td>\n",
              "      <td>16.513365</td>\n",
              "      <td>53.01</td>\n",
              "      <td>77.365</td>\n",
              "      <td>88.70</td>\n",
              "      <td>101.945</td>\n",
              "      <td>130.32</td>\n",
              "    </tr>\n",
              "    <tr>\n",
              "      <th>MSFT</th>\n",
              "      <td>123.0</td>\n",
              "      <td>24.736748</td>\n",
              "      <td>4.303958</td>\n",
              "      <td>15.81</td>\n",
              "      <td>21.760</td>\n",
              "      <td>24.11</td>\n",
              "      <td>27.295</td>\n",
              "      <td>43.22</td>\n",
              "    </tr>\n",
              "  </tbody>\n",
              "</table>\n",
              "</div>"
            ],
            "text/plain": [
              "        count        mean         std     min      25%     50%      75%     max\n",
              "symbol                                                                         \n",
              "AAPL    123.0   64.730488   63.123782    7.07   11.155   36.81  102.460  223.02\n",
              "AMZN    123.0   47.987073   28.891321    5.97   29.405   41.50   65.895  135.91\n",
              "GOOG     68.0  415.870441  135.069851  102.37  338.395  420.46  503.625  707.00\n",
              "IBM     123.0   91.261220   16.513365   53.01   77.365   88.70  101.945  130.32\n",
              "MSFT    123.0   24.736748    4.303958   15.81   21.760   24.11   27.295   43.22"
            ]
          },
          "metadata": {
            "tags": []
          },
          "execution_count": 25
        }
      ]
    },
    {
      "cell_type": "markdown",
      "metadata": {
        "id": "_zafIux-DLD7"
      },
      "source": [
        "Can I do this for datetime objects as well?"
      ]
    },
    {
      "cell_type": "code",
      "metadata": {
        "colab": {
          "base_uri": "https://localhost:8080/"
        },
        "id": "wBgLvtD1Dn8q",
        "outputId": "5f1de3c4-678f-45d1-cfd7-9b448eb24e85"
      },
      "source": [
        "df['symbol'].describe()"
      ],
      "execution_count": null,
      "outputs": [
        {
          "output_type": "execute_result",
          "data": {
            "text/plain": [
              "count      560\n",
              "unique       5\n",
              "top       AAPL\n",
              "freq       123\n",
              "Name: symbol, dtype: object"
            ]
          },
          "metadata": {
            "tags": []
          },
          "execution_count": 29
        }
      ]
    },
    {
      "cell_type": "code",
      "metadata": {
        "colab": {
          "base_uri": "https://localhost:8080/",
          "height": 235
        },
        "id": "YJ8TYpy7DzTt",
        "outputId": "4f6846cb-802e-4673-c64a-2fc009e060cf"
      },
      "source": [
        "df.groupby('symbol')['date'].describe(datetime_is_numeric=True)"
      ],
      "execution_count": null,
      "outputs": [
        {
          "output_type": "execute_result",
          "data": {
            "text/html": [
              "<div>\n",
              "<style scoped>\n",
              "    .dataframe tbody tr th:only-of-type {\n",
              "        vertical-align: middle;\n",
              "    }\n",
              "\n",
              "    .dataframe tbody tr th {\n",
              "        vertical-align: top;\n",
              "    }\n",
              "\n",
              "    .dataframe thead th {\n",
              "        text-align: right;\n",
              "    }\n",
              "</style>\n",
              "<table border=\"1\" class=\"dataframe\">\n",
              "  <thead>\n",
              "    <tr style=\"text-align: right;\">\n",
              "      <th></th>\n",
              "      <th>count</th>\n",
              "      <th>mean</th>\n",
              "      <th>min</th>\n",
              "      <th>25%</th>\n",
              "      <th>50%</th>\n",
              "      <th>75%</th>\n",
              "      <th>max</th>\n",
              "    </tr>\n",
              "    <tr>\n",
              "      <th>symbol</th>\n",
              "      <th></th>\n",
              "      <th></th>\n",
              "      <th></th>\n",
              "      <th></th>\n",
              "      <th></th>\n",
              "      <th></th>\n",
              "      <th></th>\n",
              "    </tr>\n",
              "  </thead>\n",
              "  <tbody>\n",
              "    <tr>\n",
              "      <th>AAPL</th>\n",
              "      <td>123</td>\n",
              "      <td>2005-01-30 09:57:04.390243840</td>\n",
              "      <td>2000-01-01</td>\n",
              "      <td>2002-07-16 12:00:00</td>\n",
              "      <td>2005-02-01 00:00:00</td>\n",
              "      <td>2007-08-16 12:00:00</td>\n",
              "      <td>2010-03-01</td>\n",
              "    </tr>\n",
              "    <tr>\n",
              "      <th>AMZN</th>\n",
              "      <td>123</td>\n",
              "      <td>2005-01-30 09:57:04.390243840</td>\n",
              "      <td>2000-01-01</td>\n",
              "      <td>2002-07-16 12:00:00</td>\n",
              "      <td>2005-02-01 00:00:00</td>\n",
              "      <td>2007-08-16 12:00:00</td>\n",
              "      <td>2010-03-01</td>\n",
              "    </tr>\n",
              "    <tr>\n",
              "      <th>GOOG</th>\n",
              "      <td>68</td>\n",
              "      <td>2007-05-17 11:38:49.411764736</td>\n",
              "      <td>2004-08-01</td>\n",
              "      <td>2005-12-24 06:00:00</td>\n",
              "      <td>2007-05-16 12:00:00</td>\n",
              "      <td>2008-10-08 18:00:00</td>\n",
              "      <td>2010-03-01</td>\n",
              "    </tr>\n",
              "    <tr>\n",
              "      <th>IBM</th>\n",
              "      <td>123</td>\n",
              "      <td>2005-01-30 09:57:04.390243840</td>\n",
              "      <td>2000-01-01</td>\n",
              "      <td>2002-07-16 12:00:00</td>\n",
              "      <td>2005-02-01 00:00:00</td>\n",
              "      <td>2007-08-16 12:00:00</td>\n",
              "      <td>2010-03-01</td>\n",
              "    </tr>\n",
              "    <tr>\n",
              "      <th>MSFT</th>\n",
              "      <td>123</td>\n",
              "      <td>2005-01-30 09:57:04.390243840</td>\n",
              "      <td>2000-01-01</td>\n",
              "      <td>2002-07-16 12:00:00</td>\n",
              "      <td>2005-02-01 00:00:00</td>\n",
              "      <td>2007-08-16 12:00:00</td>\n",
              "      <td>2010-03-01</td>\n",
              "    </tr>\n",
              "  </tbody>\n",
              "</table>\n",
              "</div>"
            ],
            "text/plain": [
              "       count                          mean  ...                 75%        max\n",
              "symbol                                      ...                               \n",
              "AAPL     123 2005-01-30 09:57:04.390243840  ... 2007-08-16 12:00:00 2010-03-01\n",
              "AMZN     123 2005-01-30 09:57:04.390243840  ... 2007-08-16 12:00:00 2010-03-01\n",
              "GOOG      68 2007-05-17 11:38:49.411764736  ... 2008-10-08 18:00:00 2010-03-01\n",
              "IBM      123 2005-01-30 09:57:04.390243840  ... 2007-08-16 12:00:00 2010-03-01\n",
              "MSFT     123 2005-01-30 09:57:04.390243840  ... 2007-08-16 12:00:00 2010-03-01\n",
              "\n",
              "[5 rows x 7 columns]"
            ]
          },
          "metadata": {
            "tags": []
          },
          "execution_count": 30
        }
      ]
    },
    {
      "cell_type": "markdown",
      "metadata": {
        "id": "MJa4_ViW_f7Y"
      },
      "source": [
        "## Pivot tables, melting tables, stacking tables"
      ]
    },
    {
      "cell_type": "markdown",
      "metadata": {
        "id": "vujJxUIyEEFJ"
      },
      "source": [
        "Can we represent this data a little differently? What if we want a wide-form data format where each value in the table is simply the value of the stock and each row is a different date and each column is a different stock."
      ]
    },
    {
      "cell_type": "code",
      "metadata": {
        "colab": {
          "base_uri": "https://localhost:8080/",
          "height": 450
        },
        "id": "i6LHinMO_nOM",
        "outputId": "503c872c-f8b1-40ae-ce3e-e767aeaa4259"
      },
      "source": [
        "pivoted_df = df.pivot(\n",
        "    'date', \n",
        "    'symbol', \n",
        "    'price'\n",
        ")\n",
        "pivoted_df"
      ],
      "execution_count": null,
      "outputs": [
        {
          "output_type": "execute_result",
          "data": {
            "text/html": [
              "<div>\n",
              "<style scoped>\n",
              "    .dataframe tbody tr th:only-of-type {\n",
              "        vertical-align: middle;\n",
              "    }\n",
              "\n",
              "    .dataframe tbody tr th {\n",
              "        vertical-align: top;\n",
              "    }\n",
              "\n",
              "    .dataframe thead th {\n",
              "        text-align: right;\n",
              "    }\n",
              "</style>\n",
              "<table border=\"1\" class=\"dataframe\">\n",
              "  <thead>\n",
              "    <tr style=\"text-align: right;\">\n",
              "      <th>symbol</th>\n",
              "      <th>AAPL</th>\n",
              "      <th>AMZN</th>\n",
              "      <th>GOOG</th>\n",
              "      <th>IBM</th>\n",
              "      <th>MSFT</th>\n",
              "    </tr>\n",
              "    <tr>\n",
              "      <th>date</th>\n",
              "      <th></th>\n",
              "      <th></th>\n",
              "      <th></th>\n",
              "      <th></th>\n",
              "      <th></th>\n",
              "    </tr>\n",
              "  </thead>\n",
              "  <tbody>\n",
              "    <tr>\n",
              "      <th>2000-01-01</th>\n",
              "      <td>25.94</td>\n",
              "      <td>64.56</td>\n",
              "      <td>NaN</td>\n",
              "      <td>100.52</td>\n",
              "      <td>39.81</td>\n",
              "    </tr>\n",
              "    <tr>\n",
              "      <th>2000-02-01</th>\n",
              "      <td>28.66</td>\n",
              "      <td>68.87</td>\n",
              "      <td>NaN</td>\n",
              "      <td>92.11</td>\n",
              "      <td>36.35</td>\n",
              "    </tr>\n",
              "    <tr>\n",
              "      <th>2000-03-01</th>\n",
              "      <td>33.95</td>\n",
              "      <td>67.00</td>\n",
              "      <td>NaN</td>\n",
              "      <td>106.11</td>\n",
              "      <td>43.22</td>\n",
              "    </tr>\n",
              "    <tr>\n",
              "      <th>2000-04-01</th>\n",
              "      <td>31.01</td>\n",
              "      <td>55.19</td>\n",
              "      <td>NaN</td>\n",
              "      <td>99.95</td>\n",
              "      <td>28.37</td>\n",
              "    </tr>\n",
              "    <tr>\n",
              "      <th>2000-05-01</th>\n",
              "      <td>21.00</td>\n",
              "      <td>48.31</td>\n",
              "      <td>NaN</td>\n",
              "      <td>96.31</td>\n",
              "      <td>25.45</td>\n",
              "    </tr>\n",
              "    <tr>\n",
              "      <th>...</th>\n",
              "      <td>...</td>\n",
              "      <td>...</td>\n",
              "      <td>...</td>\n",
              "      <td>...</td>\n",
              "      <td>...</td>\n",
              "    </tr>\n",
              "    <tr>\n",
              "      <th>2009-11-01</th>\n",
              "      <td>199.91</td>\n",
              "      <td>135.91</td>\n",
              "      <td>583.00</td>\n",
              "      <td>125.79</td>\n",
              "      <td>29.27</td>\n",
              "    </tr>\n",
              "    <tr>\n",
              "      <th>2009-12-01</th>\n",
              "      <td>210.73</td>\n",
              "      <td>134.52</td>\n",
              "      <td>619.98</td>\n",
              "      <td>130.32</td>\n",
              "      <td>30.34</td>\n",
              "    </tr>\n",
              "    <tr>\n",
              "      <th>2010-01-01</th>\n",
              "      <td>192.06</td>\n",
              "      <td>125.41</td>\n",
              "      <td>529.94</td>\n",
              "      <td>121.85</td>\n",
              "      <td>28.05</td>\n",
              "    </tr>\n",
              "    <tr>\n",
              "      <th>2010-02-01</th>\n",
              "      <td>204.62</td>\n",
              "      <td>118.40</td>\n",
              "      <td>526.80</td>\n",
              "      <td>127.16</td>\n",
              "      <td>28.67</td>\n",
              "    </tr>\n",
              "    <tr>\n",
              "      <th>2010-03-01</th>\n",
              "      <td>223.02</td>\n",
              "      <td>128.82</td>\n",
              "      <td>560.19</td>\n",
              "      <td>125.55</td>\n",
              "      <td>28.80</td>\n",
              "    </tr>\n",
              "  </tbody>\n",
              "</table>\n",
              "<p>123 rows × 5 columns</p>\n",
              "</div>"
            ],
            "text/plain": [
              "symbol        AAPL    AMZN    GOOG     IBM   MSFT\n",
              "date                                             \n",
              "2000-01-01   25.94   64.56     NaN  100.52  39.81\n",
              "2000-02-01   28.66   68.87     NaN   92.11  36.35\n",
              "2000-03-01   33.95   67.00     NaN  106.11  43.22\n",
              "2000-04-01   31.01   55.19     NaN   99.95  28.37\n",
              "2000-05-01   21.00   48.31     NaN   96.31  25.45\n",
              "...            ...     ...     ...     ...    ...\n",
              "2009-11-01  199.91  135.91  583.00  125.79  29.27\n",
              "2009-12-01  210.73  134.52  619.98  130.32  30.34\n",
              "2010-01-01  192.06  125.41  529.94  121.85  28.05\n",
              "2010-02-01  204.62  118.40  526.80  127.16  28.67\n",
              "2010-03-01  223.02  128.82  560.19  125.55  28.80\n",
              "\n",
              "[123 rows x 5 columns]"
            ]
          },
          "metadata": {
            "tags": []
          },
          "execution_count": 32
        }
      ]
    },
    {
      "cell_type": "markdown",
      "metadata": {
        "id": "9-8IeN1OEl0v"
      },
      "source": [
        "This is nice! We could caclulate the correlation between different stocks in this time period easily using pandas as well"
      ]
    },
    {
      "cell_type": "code",
      "metadata": {
        "colab": {
          "base_uri": "https://localhost:8080/",
          "height": 235
        },
        "id": "pfdK_bh2Dyay",
        "outputId": "568dd248-3cf4-4693-f074-72bf4c1da515"
      },
      "source": [
        "pivoted_df.corr()"
      ],
      "execution_count": null,
      "outputs": [
        {
          "output_type": "execute_result",
          "data": {
            "text/html": [
              "<div>\n",
              "<style scoped>\n",
              "    .dataframe tbody tr th:only-of-type {\n",
              "        vertical-align: middle;\n",
              "    }\n",
              "\n",
              "    .dataframe tbody tr th {\n",
              "        vertical-align: top;\n",
              "    }\n",
              "\n",
              "    .dataframe thead th {\n",
              "        text-align: right;\n",
              "    }\n",
              "</style>\n",
              "<table border=\"1\" class=\"dataframe\">\n",
              "  <thead>\n",
              "    <tr style=\"text-align: right;\">\n",
              "      <th>symbol</th>\n",
              "      <th>AAPL</th>\n",
              "      <th>AMZN</th>\n",
              "      <th>GOOG</th>\n",
              "      <th>IBM</th>\n",
              "      <th>MSFT</th>\n",
              "    </tr>\n",
              "    <tr>\n",
              "      <th>symbol</th>\n",
              "      <th></th>\n",
              "      <th></th>\n",
              "      <th></th>\n",
              "      <th></th>\n",
              "      <th></th>\n",
              "    </tr>\n",
              "  </thead>\n",
              "  <tbody>\n",
              "    <tr>\n",
              "      <th>AAPL</th>\n",
              "      <td>1.000000</td>\n",
              "      <td>0.872996</td>\n",
              "      <td>0.849000</td>\n",
              "      <td>0.710545</td>\n",
              "      <td>0.357936</td>\n",
              "    </tr>\n",
              "    <tr>\n",
              "      <th>AMZN</th>\n",
              "      <td>0.872996</td>\n",
              "      <td>1.000000</td>\n",
              "      <td>0.674580</td>\n",
              "      <td>0.701340</td>\n",
              "      <td>0.392105</td>\n",
              "    </tr>\n",
              "    <tr>\n",
              "      <th>GOOG</th>\n",
              "      <td>0.849000</td>\n",
              "      <td>0.674580</td>\n",
              "      <td>1.000000</td>\n",
              "      <td>0.665615</td>\n",
              "      <td>0.710338</td>\n",
              "    </tr>\n",
              "    <tr>\n",
              "      <th>IBM</th>\n",
              "      <td>0.710545</td>\n",
              "      <td>0.701340</td>\n",
              "      <td>0.665615</td>\n",
              "      <td>1.000000</td>\n",
              "      <td>0.560398</td>\n",
              "    </tr>\n",
              "    <tr>\n",
              "      <th>MSFT</th>\n",
              "      <td>0.357936</td>\n",
              "      <td>0.392105</td>\n",
              "      <td>0.710338</td>\n",
              "      <td>0.560398</td>\n",
              "      <td>1.000000</td>\n",
              "    </tr>\n",
              "  </tbody>\n",
              "</table>\n",
              "</div>"
            ],
            "text/plain": [
              "symbol      AAPL      AMZN      GOOG       IBM      MSFT\n",
              "symbol                                                  \n",
              "AAPL    1.000000  0.872996  0.849000  0.710545  0.357936\n",
              "AMZN    0.872996  1.000000  0.674580  0.701340  0.392105\n",
              "GOOG    0.849000  0.674580  1.000000  0.665615  0.710338\n",
              "IBM     0.710545  0.701340  0.665615  1.000000  0.560398\n",
              "MSFT    0.357936  0.392105  0.710338  0.560398  1.000000"
            ]
          },
          "metadata": {
            "tags": []
          },
          "execution_count": 33
        }
      ]
    },
    {
      "cell_type": "markdown",
      "metadata": {
        "id": "Mq0hAumDAw1P"
      },
      "source": [
        "## They see me rolling!"
      ]
    },
    {
      "cell_type": "markdown",
      "metadata": {
        "id": "8heb0gNSGn6-"
      },
      "source": [
        "Plotting your traces..."
      ]
    },
    {
      "cell_type": "code",
      "metadata": {
        "colab": {
          "base_uri": "https://localhost:8080/",
          "height": 296
        },
        "id": "F3SDcV88A4R3",
        "outputId": "70f6c2b3-bacd-431e-d73d-a82a690b2610"
      },
      "source": [
        "pivoted_df.plot()"
      ],
      "execution_count": null,
      "outputs": [
        {
          "output_type": "execute_result",
          "data": {
            "text/plain": [
              "<matplotlib.axes._subplots.AxesSubplot at 0x7f07d813ccd0>"
            ]
          },
          "metadata": {
            "tags": []
          },
          "execution_count": 34
        },
        {
          "output_type": "display_data",
          "data": {
            "image/png": "[encoded data removed]",
            "text/plain": [
              "<Figure size 432x288 with 1 Axes>"
            ]
          },
          "metadata": {
            "tags": [],
            "needs_background": "light"
          }
        }
      ]
    },
    {
      "cell_type": "markdown",
      "metadata": {
        "id": "jJWXPQD6FUQ5"
      },
      "source": [
        "What if we want to smooth our data here to more easily visualize general trends? Can we do this easily with pandas?"
      ]
    },
    {
      "cell_type": "code",
      "metadata": {
        "id": "DQ7mnM9JFGhy"
      },
      "source": [
        "pivoted_df.rolling?"
      ],
      "execution_count": null,
      "outputs": []
    },
    {
      "cell_type": "code",
      "metadata": {
        "colab": {
          "base_uri": "https://localhost:8080/",
          "height": 296
        },
        "id": "qvoLzQdbF1G0",
        "outputId": "5dd85f75-68c9-49c1-9661-e94664f70f80"
      },
      "source": [
        "pivoted_df.rolling('100d').mean().plot()"
      ],
      "execution_count": null,
      "outputs": [
        {
          "output_type": "execute_result",
          "data": {
            "text/plain": [
              "<matplotlib.axes._subplots.AxesSubplot at 0x7f07d2bc2690>"
            ]
          },
          "metadata": {
            "tags": []
          },
          "execution_count": 39
        },
        {
          "output_type": "display_data",
          "data": {
            "image/png": "[encoded data removed]",
            "text/plain": [
              "<Figure size 432x288 with 1 Axes>"
            ]
          },
          "metadata": {
            "tags": [],
            "needs_background": "light"
          }
        }
      ]
    },
    {
      "cell_type": "code",
      "metadata": {
        "id": "wbPT3D1aGNgx"
      },
      "source": [
        ""
      ],
      "execution_count": null,
      "outputs": []
    }
  ]
}