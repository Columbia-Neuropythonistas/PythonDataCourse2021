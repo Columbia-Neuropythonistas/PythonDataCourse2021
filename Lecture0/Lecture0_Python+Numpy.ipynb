{
  "nbformat": 4,
  "nbformat_minor": 0,
  "metadata": {
    "celltoolbar": "Slideshow",
    "kernelspec": {
      "display_name": "Python 3",
      "language": "python",
      "name": "python3"
    },
    "language_info": {
      "codemirror_mode": {
        "name": "ipython",
        "version": 3
      },
      "file_extension": ".py",
      "mimetype": "text/x-python",
      "name": "python",
      "nbconvert_exporter": "python",
      "pygments_lexer": "ipython3",
      "version": "3.7.1"
    },
    "colab": {
      "name": "Lecture0-Python+Numpy.ipynb",
      "provenance": [],
      "collapsed_sections": [],
      "include_colab_link": true
    }
  },
  "cells": [
    {
      "cell_type": "markdown",
      "metadata": {
        "id": "view-in-github",
        "colab_type": "text"
      },
      "source": [
        "<a href=\"https://colab.research.google.com/github/Columbia-Neuropythonistas/PythonDataCourse2021/blob/main/Lecture0_Python%2BNumpy.ipynb\" target=\"_parent\"><img src=\"https://colab.research.google.com/assets/colab-badge.svg\" alt=\"Open In Colab\"/></a>"
      ]
    },
    {
      "cell_type": "markdown",
      "metadata": {
        "id": "SZYlYOL_Gei1"
      },
      "source": [
        "# Lecture0: Part 0 - \"Pure\" Python and Numpy\n",
        "\n",
        "This notebook gives an introduction to \"pure\" Python, followed by Numpy\n",
        "\n",
        "Note: in order to save a copy of this Google colab notebook to **your own** Google Drive, go to `File` > `Save a copy in Drive`\n",
        "\n",
        "Please follow along with in your own notebook and play around with the code!\n",
        "\n",
        "--> Course resources can be found here: www.neuropython.com\n",
        "\n",
        "--> If you have questions during class or zoom breakout sessions, feel free to ask over **slack**\n",
        "\n",
        "\n",
        "Outline for today's lecture:\n",
        "* Go through Section 0 (\"pure\" python) with the entire class\n",
        "* Split into Breakout Rooms for Section 1 (numpy)\n",
        "* Zoom Break\n",
        "* Do separate Colab notebook Lecture0:Part1-Matplotlib\n",
        "\n",
        "\n",
        "\n",
        "-----\n",
        "\n",
        "# Section 0: \"Pure Python\"\n",
        "\n",
        "Let's start by assigning the variable `x` a value:"
      ]
    },
    {
      "cell_type": "code",
      "metadata": {
        "id": "iLiuquVQGei2"
      },
      "source": [
        "x = 10"
      ],
      "execution_count": null,
      "outputs": []
    },
    {
      "cell_type": "markdown",
      "metadata": {
        "id": "x-HzyE5vHA9E"
      },
      "source": [
        "We can print `x` and see what it is:"
      ]
    },
    {
      "cell_type": "code",
      "metadata": {
        "colab": {
          "base_uri": "https://localhost:8080/"
        },
        "id": "mAsy_kf9HV19",
        "outputId": "df6f6108-e7df-4c00-afc7-37ae7bc78299"
      },
      "source": [
        "print(x)"
      ],
      "execution_count": null,
      "outputs": [
        {
          "output_type": "stream",
          "text": [
            "10\n"
          ],
          "name": "stdout"
        }
      ]
    },
    {
      "cell_type": "markdown",
      "metadata": {
        "id": "cgChBjIqHHIw"
      },
      "source": [
        "Next we can create a **list** of 3 numbers:"
      ]
    },
    {
      "cell_type": "code",
      "metadata": {
        "id": "lUKgtXELHVy1"
      },
      "source": [
        "y = [1,2,3]"
      ],
      "execution_count": null,
      "outputs": []
    },
    {
      "cell_type": "code",
      "metadata": {
        "colab": {
          "base_uri": "https://localhost:8080/"
        },
        "id": "fJtQcBrTNeEv",
        "outputId": "b819cd9f-0bc1-4d73-8402-fad9e7898734"
      },
      "source": [
        "print(y)"
      ],
      "execution_count": null,
      "outputs": [
        {
          "output_type": "stream",
          "text": [
            "[1, 2, 3]\n"
          ],
          "name": "stdout"
        }
      ]
    },
    {
      "cell_type": "markdown",
      "metadata": {
        "id": "-XF4KzK3HMsq"
      },
      "source": [
        "We can use the `type` function to determine what type of object x is:"
      ]
    },
    {
      "cell_type": "code",
      "metadata": {
        "colab": {
          "base_uri": "https://localhost:8080/"
        },
        "id": "VSxqrW14NeB4",
        "outputId": "0e1cdc5f-aac4-46e7-a658-b2e2d8081795"
      },
      "source": [
        "type(x)"
      ],
      "execution_count": null,
      "outputs": [
        {
          "output_type": "execute_result",
          "data": {
            "text/plain": [
              "int"
            ]
          },
          "metadata": {
            "tags": []
          },
          "execution_count": 21
        }
      ]
    },
    {
      "cell_type": "markdown",
      "metadata": {
        "id": "6Wy5TWnNHT4d"
      },
      "source": [
        "This is short for integer.\n",
        "\n",
        "Exercise: Use the `type` function on the object `10.3244`. \n",
        "\n",
        "Discussion: What type of object is it? How is it different from an `int`? What are thhe benefits of using `int`s?"
      ]
    },
    {
      "cell_type": "code",
      "metadata": {
        "id": "zFeyMa6GHbeS"
      },
      "source": [
        "# Your code here\n",
        "\n"
      ],
      "execution_count": null,
      "outputs": []
    },
    {
      "cell_type": "markdown",
      "metadata": {
        "id": "FJZ7yEhpIBEY"
      },
      "source": [
        "We can also see what type of object `y` is: it is a list!"
      ]
    },
    {
      "cell_type": "code",
      "metadata": {
        "colab": {
          "base_uri": "https://localhost:8080/"
        },
        "id": "BfTwtYx4HVwP",
        "outputId": "66ecfaac-d1cd-4912-cfa4-1c2e31310b1a"
      },
      "source": [
        "type(y)"
      ],
      "execution_count": null,
      "outputs": [
        {
          "output_type": "execute_result",
          "data": {
            "text/plain": [
              "list"
            ]
          },
          "metadata": {
            "tags": []
          },
          "execution_count": 23
        }
      ]
    },
    {
      "cell_type": "markdown",
      "metadata": {
        "id": "vutNVrlrIHhs"
      },
      "source": [
        "For an `int` like `x`, we can do some basic math operations"
      ]
    },
    {
      "cell_type": "code",
      "metadata": {
        "colab": {
          "base_uri": "https://localhost:8080/"
        },
        "id": "ZrOn8AKQHVtl",
        "outputId": "6548fd6c-e335-4828-a9c1-48c4fc4d2068"
      },
      "source": [
        "x*2"
      ],
      "execution_count": null,
      "outputs": [
        {
          "output_type": "execute_result",
          "data": {
            "text/plain": [
              "20"
            ]
          },
          "metadata": {
            "tags": []
          },
          "execution_count": 24
        }
      ]
    },
    {
      "cell_type": "code",
      "metadata": {
        "colab": {
          "base_uri": "https://localhost:8080/"
        },
        "id": "qPY5H30GIMgb",
        "outputId": "21172905-4a39-4db2-e663-7b85089e3d68"
      },
      "source": [
        "x + 24"
      ],
      "execution_count": null,
      "outputs": [
        {
          "output_type": "execute_result",
          "data": {
            "text/plain": [
              "34"
            ]
          },
          "metadata": {
            "tags": []
          },
          "execution_count": 25
        }
      ]
    },
    {
      "cell_type": "markdown",
      "metadata": {
        "id": "L27layyMIYGX"
      },
      "source": [
        "What happens if we try to do this with a list?"
      ]
    },
    {
      "cell_type": "code",
      "metadata": {
        "colab": {
          "base_uri": "https://localhost:8080/"
        },
        "id": "w4z1XluKHVrD",
        "outputId": "af597ff7-5e75-4529-c0ce-5b46347cf4bd"
      },
      "source": [
        "y*2"
      ],
      "execution_count": null,
      "outputs": [
        {
          "output_type": "execute_result",
          "data": {
            "text/plain": [
              "[1, 2, 3, 1, 2, 3]"
            ]
          },
          "metadata": {
            "tags": []
          },
          "execution_count": 26
        }
      ]
    },
    {
      "cell_type": "code",
      "metadata": {
        "colab": {
          "base_uri": "https://localhost:8080/"
        },
        "id": "yw5xWU2TIdqq",
        "outputId": "b94a37e3-7ec9-41fc-afc7-372920feb1f6"
      },
      "source": [
        "y + y"
      ],
      "execution_count": null,
      "outputs": [
        {
          "output_type": "execute_result",
          "data": {
            "text/plain": [
              "[1, 2, 3, 1, 2, 3]"
            ]
          },
          "metadata": {
            "tags": []
          },
          "execution_count": 27
        }
      ]
    },
    {
      "cell_type": "markdown",
      "metadata": {
        "id": "daxAd43oIixD"
      },
      "source": [
        "Discussion: This is strange...what is happening here?"
      ]
    },
    {
      "cell_type": "markdown",
      "metadata": {
        "id": "pGYukXXKIpVR"
      },
      "source": [
        "## `for`, `while` and `if`\n",
        "\n",
        "Let's creat a for loop that prints 10 numbers:"
      ]
    },
    {
      "cell_type": "code",
      "metadata": {
        "colab": {
          "base_uri": "https://localhost:8080/"
        },
        "id": "foxNu8dSHVot",
        "outputId": "4b8e09bb-ed17-4c51-d651-a18c6edb413c"
      },
      "source": [
        "for i in range(10):\n",
        "    print(i)"
      ],
      "execution_count": null,
      "outputs": [
        {
          "output_type": "stream",
          "text": [
            "0\n",
            "1\n",
            "2\n",
            "3\n",
            "4\n",
            "5\n",
            "6\n",
            "7\n",
            "8\n",
            "9\n"
          ],
          "name": "stdout"
        }
      ]
    },
    {
      "cell_type": "markdown",
      "metadata": {
        "id": "dBE3jKd2JQ9J"
      },
      "source": [
        "Discussion: Why does Python start counting from 0?\n",
        "\n",
        "What's neat is that we can loop through objects in a list. Remember that `y` is a list:"
      ]
    },
    {
      "cell_type": "code",
      "metadata": {
        "colab": {
          "base_uri": "https://localhost:8080/"
        },
        "id": "Ir2zWgcRNz1J",
        "outputId": "2e110f55-b057-4ce8-b15b-61bd22a09428"
      },
      "source": [
        "for i in y:\n",
        "    print(i)"
      ],
      "execution_count": null,
      "outputs": [
        {
          "output_type": "stream",
          "text": [
            "1\n",
            "2\n",
            "3\n"
          ],
          "name": "stdout"
        }
      ]
    },
    {
      "cell_type": "markdown",
      "metadata": {
        "id": "d14lN9W0J8cX"
      },
      "source": [
        "Exercise: Loop through the objects in the list `y` using a for loop, and print the **square** of each number.\n",
        "\n",
        "Note that in Python, you can square a number using `**`, e.g. 10**2 = 100"
      ]
    },
    {
      "cell_type": "code",
      "metadata": {
        "colab": {
          "base_uri": "https://localhost:8080/"
        },
        "id": "6iiqlk_1NzyW",
        "outputId": "be8ea53d-6222-41a4-ad1e-d863905ae4bc"
      },
      "source": [
        "# Your code here\n",
        "\n"
      ],
      "execution_count": null,
      "outputs": [
        {
          "output_type": "stream",
          "text": [
            "1\n",
            "4\n",
            "9\n"
          ],
          "name": "stdout"
        }
      ]
    },
    {
      "cell_type": "markdown",
      "metadata": {
        "id": "ek8kIOVUKes9"
      },
      "source": [
        "We can also use a `while` loop:"
      ]
    },
    {
      "cell_type": "code",
      "metadata": {
        "colab": {
          "base_uri": "https://localhost:8080/"
        },
        "id": "S0WhtLjVNzwI",
        "outputId": "99c72f4c-ab5e-49f1-d4ee-56a8505411b0"
      },
      "source": [
        "n = 0\n",
        "while n < 5:\n",
        "    print(n)\n",
        "    n = n +1\n",
        "    "
      ],
      "execution_count": null,
      "outputs": [
        {
          "output_type": "stream",
          "text": [
            "0\n",
            "1\n",
            "2\n",
            "3\n",
            "4\n"
          ],
          "name": "stdout"
        }
      ]
    },
    {
      "cell_type": "markdown",
      "metadata": {
        "id": "87c7v1cVKof4"
      },
      "source": [
        "Discussion: When might you use a `while` loop instead of a `for` loop? What is a possible pitfall of a `while` loop?"
      ]
    },
    {
      "cell_type": "markdown",
      "metadata": {
        "id": "3vwjMzsyQAfp"
      },
      "source": [
        "## Strings\n",
        "\n",
        "Now we can move on to strings! What exactly is a `string`?"
      ]
    },
    {
      "cell_type": "code",
      "metadata": {
        "colab": {
          "base_uri": "https://localhost:8080/"
        },
        "id": "srnWcUeqQAO0",
        "outputId": "bc1b43d4-512f-4eff-94c9-4df347b81013"
      },
      "source": [
        "type('hi')"
      ],
      "execution_count": null,
      "outputs": [
        {
          "output_type": "execute_result",
          "data": {
            "text/plain": [
              "str"
            ]
          },
          "metadata": {
            "tags": []
          },
          "execution_count": 29
        }
      ]
    },
    {
      "cell_type": "code",
      "metadata": {
        "colab": {
          "base_uri": "https://localhost:8080/"
        },
        "id": "A79tvCi-LFZJ",
        "outputId": "dbff4a7b-3c4a-42b2-b505-4eebb76f99b1"
      },
      "source": [
        "type('10')"
      ],
      "execution_count": null,
      "outputs": [
        {
          "output_type": "execute_result",
          "data": {
            "text/plain": [
              "str"
            ]
          },
          "metadata": {
            "tags": []
          },
          "execution_count": 30
        }
      ]
    },
    {
      "cell_type": "code",
      "metadata": {
        "colab": {
          "base_uri": "https://localhost:8080/"
        },
        "id": "BiXQIADgLJ7m",
        "outputId": "c5e9ca12-6c81-405d-b28a-13aa5ba98a51"
      },
      "source": [
        "type('the rain in spain')"
      ],
      "execution_count": null,
      "outputs": [
        {
          "output_type": "execute_result",
          "data": {
            "text/plain": [
              "str"
            ]
          },
          "metadata": {
            "tags": []
          },
          "execution_count": 31
        }
      ]
    },
    {
      "cell_type": "markdown",
      "metadata": {
        "id": "F8YISyCvLOoV"
      },
      "source": [
        "Discussion: So...what defines a `string` in Python? Why is `'10'` a string?"
      ]
    },
    {
      "cell_type": "code",
      "metadata": {
        "id": "aPiXSzcDNzs6"
      },
      "source": [
        "adjective = 'merry'\n",
        "noun = 'lemming'"
      ],
      "execution_count": null,
      "outputs": []
    },
    {
      "cell_type": "code",
      "metadata": {
        "colab": {
          "base_uri": "https://localhost:8080/"
        },
        "id": "5gMCUSGmNzqV",
        "outputId": "221ba629-e518-4b43-9a0a-3c5ba695fabb"
      },
      "source": [
        "phrase = adjective + noun\n",
        "\n",
        "print(phrase)"
      ],
      "execution_count": null,
      "outputs": [
        {
          "output_type": "stream",
          "text": [
            "merrylemming\n"
          ],
          "name": "stdout"
        }
      ]
    },
    {
      "cell_type": "code",
      "metadata": {
        "colab": {
          "base_uri": "https://localhost:8080/"
        },
        "id": "yFLkF8Gl_7A4",
        "outputId": "292c9410-31f4-47ba-9ee5-b7581c4a5110"
      },
      "source": [
        "phrase = adjective + ' ' + noun\n",
        "\n",
        "print(phrase)"
      ],
      "execution_count": null,
      "outputs": [
        {
          "output_type": "stream",
          "text": [
            "merry lemming\n"
          ],
          "name": "stdout"
        }
      ]
    },
    {
      "cell_type": "code",
      "metadata": {
        "id": "JdJJOcsL_67n"
      },
      "source": [
        "words = ['hi','bye','tie','fry']"
      ],
      "execution_count": null,
      "outputs": []
    },
    {
      "cell_type": "markdown",
      "metadata": {
        "id": "euY7UIaDAkBe"
      },
      "source": [
        "Exercise: Create a `for` loop that selects the strings inside the above list, and prints each one"
      ]
    },
    {
      "cell_type": "code",
      "metadata": {
        "id": "FdK3da2L_60E"
      },
      "source": [
        "# Your code here\n",
        "\n",
        "\n"
      ],
      "execution_count": null,
      "outputs": []
    },
    {
      "cell_type": "markdown",
      "metadata": {
        "id": "LANp3JgrBBc9"
      },
      "source": [
        "Discussion: What is happening with the following `for` loop?"
      ]
    },
    {
      "cell_type": "code",
      "metadata": {
        "colab": {
          "base_uri": "https://localhost:8080/"
        },
        "id": "TEo-VS-R_6uq",
        "outputId": "b345a4a1-2d87-43a5-e6d8-0d374b33e3c8"
      },
      "source": [
        "for p in phrase:\n",
        "    print(p)"
      ],
      "execution_count": null,
      "outputs": [
        {
          "output_type": "stream",
          "text": [
            "m\n",
            "e\n",
            "r\n",
            "r\n",
            "y\n",
            " \n",
            "l\n",
            "e\n",
            "m\n",
            "m\n",
            "i\n",
            "n\n",
            "g\n"
          ],
          "name": "stdout"
        }
      ]
    },
    {
      "cell_type": "markdown",
      "metadata": {
        "id": "vEFMzerRBQmZ"
      },
      "source": [
        "## Booleans"
      ]
    },
    {
      "cell_type": "code",
      "metadata": {
        "colab": {
          "base_uri": "https://localhost:8080/"
        },
        "id": "_2wp9rYgBLq7",
        "outputId": "c0d90982-11c6-49f2-ac16-c78227c79722"
      },
      "source": [
        "a = True\n",
        "print(a)\n",
        "b = False\n",
        "print(b)"
      ],
      "execution_count": null,
      "outputs": [
        {
          "output_type": "stream",
          "text": [
            "True\n",
            "False\n"
          ],
          "name": "stdout"
        }
      ]
    },
    {
      "cell_type": "code",
      "metadata": {
        "colab": {
          "base_uri": "https://localhost:8080/"
        },
        "id": "lrmtq2L5Lq2w",
        "outputId": "496a367e-82ce-4719-9f91-55feae771744"
      },
      "source": [
        "type(a)"
      ],
      "execution_count": null,
      "outputs": [
        {
          "output_type": "execute_result",
          "data": {
            "text/plain": [
              "bool"
            ]
          },
          "metadata": {
            "tags": []
          },
          "execution_count": 32
        }
      ]
    },
    {
      "cell_type": "code",
      "metadata": {
        "colab": {
          "base_uri": "https://localhost:8080/"
        },
        "id": "y8u_2_hHBLfT",
        "outputId": "06642470-77ed-426d-83d4-0007985161f9"
      },
      "source": [
        "if a == True:\n",
        "  print('this is True!')"
      ],
      "execution_count": null,
      "outputs": [
        {
          "output_type": "stream",
          "text": [
            "this is True!\n"
          ],
          "name": "stdout"
        }
      ]
    },
    {
      "cell_type": "code",
      "metadata": {
        "id": "nSG0I7nqBK_E"
      },
      "source": [
        "if a:\n",
        "  print('this is True!')"
      ],
      "execution_count": null,
      "outputs": []
    },
    {
      "cell_type": "markdown",
      "metadata": {
        "id": "JMgHpazYBnAS"
      },
      "source": [
        "Discussion: What is the difference between these two cells (above)?"
      ]
    },
    {
      "cell_type": "code",
      "metadata": {
        "colab": {
          "base_uri": "https://localhost:8080/"
        },
        "id": "Xn61FvMNBmaF",
        "outputId": "482a8a08-daa9-49ed-fe37-1df47628e3a9"
      },
      "source": [
        "if a == True:\n",
        "    print('red')\n",
        "elif b == True:\n",
        "    print('blue')"
      ],
      "execution_count": null,
      "outputs": [
        {
          "output_type": "stream",
          "text": [
            "red\n"
          ],
          "name": "stdout"
        }
      ]
    },
    {
      "cell_type": "code",
      "metadata": {
        "colab": {
          "base_uri": "https://localhost:8080/"
        },
        "id": "jpKf4170BmVr",
        "outputId": "00945538-4585-49c3-82be-5f7bc20f0ea7"
      },
      "source": [
        "if a == True:\n",
        "    print('red')\n",
        "elif b == False:\n",
        "    print('blue')"
      ],
      "execution_count": null,
      "outputs": [
        {
          "output_type": "stream",
          "text": [
            "red\n"
          ],
          "name": "stdout"
        }
      ]
    },
    {
      "cell_type": "markdown",
      "metadata": {
        "id": "mJEAUsp5CjlU"
      },
      "source": [
        "Discussion: We know that b is False. Why does the above code only print red?\n",
        "\n",
        "Exercise: Write code that prints \"red\" if a is True, and also \"blue if b is False"
      ]
    },
    {
      "cell_type": "code",
      "metadata": {
        "id": "O_Cj7rNVBmMm"
      },
      "source": [
        "# Your code here\n",
        "\n"
      ],
      "execution_count": null,
      "outputs": []
    },
    {
      "cell_type": "markdown",
      "metadata": {
        "id": "I6_t8d5DMe6d"
      },
      "source": [
        "Exercise: Write code that prints \"red\" if a is True AND  \"blue if b is False in a single line of code (Hint: use `and`)"
      ]
    },
    {
      "cell_type": "code",
      "metadata": {
        "id": "pPIIEcTaMfko"
      },
      "source": [
        "# Your code here\n",
        "\n"
      ],
      "execution_count": null,
      "outputs": []
    },
    {
      "cell_type": "markdown",
      "metadata": {
        "id": "HF5vN1Q1F75I"
      },
      "source": [
        "Exercise: Use a `for` loop and an `if` statement to print the numbers 4,5,6,7 (there are many ways of doing this)"
      ]
    },
    {
      "cell_type": "code",
      "metadata": {
        "id": "zM8Dpc0_BmHo"
      },
      "source": [
        "# Your code here\n",
        "\n",
        "\n"
      ],
      "execution_count": null,
      "outputs": []
    },
    {
      "cell_type": "markdown",
      "metadata": {
        "id": "QARNjctccMDY"
      },
      "source": [
        "`append` is one way of augmenting a list. Here is an example below:"
      ]
    },
    {
      "cell_type": "code",
      "metadata": {
        "colab": {
          "base_uri": "https://localhost:8080/"
        },
        "id": "hAfKTq4IcMib",
        "outputId": "218571dd-592d-4d83-dc55-64592d827955"
      },
      "source": [
        "n = []\n",
        "for i in range(4):\n",
        "    n.append(i)\n",
        "\n",
        "print(n)"
      ],
      "execution_count": null,
      "outputs": [
        {
          "output_type": "stream",
          "text": [
            "[0, 1, 2, 3]\n"
          ],
          "name": "stdout"
        }
      ]
    },
    {
      "cell_type": "markdown",
      "metadata": {
        "id": "5ja118fLcfZT"
      },
      "source": [
        "Exercise: Create an empty list, and append the following objects - a string, an int, a float, and a list. (No need to use a for loop). Note that a list can contain all sorts of objects simultaneously!\n",
        "\n",
        "Discussion: What are the benefits of this? What are the pitfalls?"
      ]
    },
    {
      "cell_type": "code",
      "metadata": {
        "id": "O4HcN4-ecf03"
      },
      "source": [
        "# Your code here\n",
        "\n"
      ],
      "execution_count": null,
      "outputs": []
    },
    {
      "cell_type": "markdown",
      "metadata": {
        "id": "xPat-Gg6GLoN"
      },
      "source": [
        "How might we manipulate matrices? Or apply operations simultaneously to large sets of numbers? While \"pure\" Python gives us the necessary baseline for all Python code, we need to use libraries with extra functionality to do more complicated operations."
      ]
    },
    {
      "cell_type": "markdown",
      "metadata": {
        "id": "q5AWl5YuHWVg"
      },
      "source": [
        "# Section 1: Starting with Numpy!\n",
        "\n",
        "Work through the following code with your **zoom breakout room** group. One person should share their screen and read through the text outloud, while the rest guide them through the code.\n",
        "\n",
        "Interactive learning can be really effective! If you are going to join a breakout room, please show your camera and contribute to the team effort.\n",
        "\n",
        "`Numpy` is an external library, or package, that we can import using the following code:\n"
      ]
    },
    {
      "cell_type": "code",
      "metadata": {
        "id": "P6JOT_OkNs6a"
      },
      "source": [
        "import numpy"
      ],
      "execution_count": null,
      "outputs": []
    },
    {
      "cell_type": "markdown",
      "metadata": {
        "id": "hgPTGpesNvFg"
      },
      "source": [
        "It is standard practice to import `numpy` and relabel it `np` for short:"
      ]
    },
    {
      "cell_type": "code",
      "metadata": {
        "id": "BxqMO1EDGei3"
      },
      "source": [
        "import numpy as np"
      ],
      "execution_count": null,
      "outputs": []
    },
    {
      "cell_type": "markdown",
      "metadata": {
        "id": "gYNHUdfiN6Eg"
      },
      "source": [
        "Discussion: Why would coders do this?\n",
        "\n",
        "Numpy deals with \"arrays.\" You can have 1-D arrays, 2-D arrays, or N-Dimensional arrays. You can think of these as vectors, matrices, and N-dimensional matrices if you like."
      ]
    },
    {
      "cell_type": "markdown",
      "metadata": {
        "id": "gldpAQoTGei4"
      },
      "source": [
        "# 1-Dimensional Arrays"
      ]
    },
    {
      "cell_type": "code",
      "metadata": {
        "id": "lAb6CTABGei4",
        "colab": {
          "base_uri": "https://localhost:8080/"
        },
        "outputId": "54bc65d9-4975-4fbe-9dab-c9333d85a352"
      },
      "source": [
        "a = [1,2,3,4] # this is a list\n",
        "print('a: ',a)\n",
        "\n",
        "b = np.array(a) # this is a numpy array\n",
        "print('b: ',b)"
      ],
      "execution_count": null,
      "outputs": [
        {
          "output_type": "stream",
          "text": [
            "a:  [1, 2, 3, 4]\n",
            "b:  [1 2 3 4]\n"
          ],
          "name": "stdout"
        }
      ]
    },
    {
      "cell_type": "markdown",
      "metadata": {
        "id": "id8K0OVwRAV1"
      },
      "source": [
        "If we check the `type` of b, we see that it is an `numpy.ndarray` object "
      ]
    },
    {
      "cell_type": "code",
      "metadata": {
        "id": "ciQoI8tvGei5",
        "colab": {
          "base_uri": "https://localhost:8080/"
        },
        "outputId": "d8a4b674-7f57-4a18-eb5d-1b3c37561b28"
      },
      "source": [
        "type(b)"
      ],
      "execution_count": null,
      "outputs": [
        {
          "output_type": "execute_result",
          "data": {
            "text/plain": [
              "numpy.ndarray"
            ]
          },
          "metadata": {
            "tags": []
          },
          "execution_count": 36
        }
      ]
    },
    {
      "cell_type": "markdown",
      "metadata": {
        "id": "9CE-PrSAGei5"
      },
      "source": [
        "# Addition"
      ]
    },
    {
      "cell_type": "markdown",
      "metadata": {
        "id": "exSUxezERI_9"
      },
      "source": [
        "We saw that we could add two lists, but that it essentially created a new list which was twice as long"
      ]
    },
    {
      "cell_type": "code",
      "metadata": {
        "id": "WsFxzijZGei5",
        "colab": {
          "base_uri": "https://localhost:8080/"
        },
        "outputId": "69f4defd-66ba-413a-b5a6-2134618f418c"
      },
      "source": [
        "# adding two lists\n",
        "\n",
        "[1,2,3,4] + [1,2,3,4]"
      ],
      "execution_count": null,
      "outputs": [
        {
          "output_type": "execute_result",
          "data": {
            "text/plain": [
              "[1, 2, 3, 4, 1, 2, 3, 4]"
            ]
          },
          "metadata": {
            "tags": []
          },
          "execution_count": 37
        }
      ]
    },
    {
      "cell_type": "markdown",
      "metadata": {
        "id": "MtRH8zasRS4V"
      },
      "source": [
        "For most data analysis, we would want to be able to add two vectors or two matrices. Numpy arrays finally let us do this!"
      ]
    },
    {
      "cell_type": "code",
      "metadata": {
        "id": "m3NpptZmGei6",
        "colab": {
          "base_uri": "https://localhost:8080/"
        },
        "outputId": "788dd9f3-5ba6-492f-c4c0-129aa35acc95"
      },
      "source": [
        "# adding two numpy arrays\n",
        "np.array([1,2,3,4]) + np.array([1,2,3,4])"
      ],
      "execution_count": null,
      "outputs": [
        {
          "output_type": "execute_result",
          "data": {
            "text/plain": [
              "array([2, 4, 6, 8])"
            ]
          },
          "metadata": {
            "tags": []
          },
          "execution_count": 38
        }
      ]
    },
    {
      "cell_type": "markdown",
      "metadata": {
        "id": "K6BW1Hv-Olb6"
      },
      "source": [
        "Exercise: Create two numpy arrays of length 3 and subtract one from the other:"
      ]
    },
    {
      "cell_type": "code",
      "metadata": {
        "id": "JxAc5ALoRocI"
      },
      "source": [
        "# Your code here\n",
        "\n",
        "\n"
      ],
      "execution_count": null,
      "outputs": []
    },
    {
      "cell_type": "markdown",
      "metadata": {
        "id": "d8tQk_1nRsmx"
      },
      "source": [
        "Here is something slightly messy:"
      ]
    },
    {
      "cell_type": "code",
      "metadata": {
        "id": "ZGARkcrUGei7",
        "colab": {
          "base_uri": "https://localhost:8080/"
        },
        "outputId": "92a4d4c0-5394-4eaf-8541-b372bea9ba08"
      },
      "source": [
        "# adding numpy array and a list\n",
        "np.array([1,2,3,4]) + [1,2,3,4]"
      ],
      "execution_count": null,
      "outputs": [
        {
          "output_type": "execute_result",
          "data": {
            "text/plain": [
              "array([2, 4, 6, 8])"
            ]
          },
          "metadata": {
            "tags": []
          },
          "execution_count": 39
        }
      ]
    },
    {
      "cell_type": "markdown",
      "metadata": {
        "id": "KHaajPceOwH1"
      },
      "source": [
        "Discussion: What just happened here? What did Python just do? (Hint: it changed the `list` object to something else)\n",
        "\n",
        "Exercise: Create a numpy array of length 3 and a list of length 2. Can you add them together? Why or why not?"
      ]
    },
    {
      "cell_type": "code",
      "metadata": {
        "id": "Dai5YSbZO3kp"
      },
      "source": [
        "# Your code here\n",
        "\n"
      ],
      "execution_count": null,
      "outputs": []
    },
    {
      "cell_type": "markdown",
      "metadata": {
        "id": "HkCDjkV3PF7u"
      },
      "source": [
        "Exercise: Create a numpy array of length 3 and another numpy array of length 2. Can you add them together? Why or why not?\n"
      ]
    },
    {
      "cell_type": "code",
      "metadata": {
        "id": "hXMKIdytPPIX"
      },
      "source": [
        "# Your code here\n",
        "\n",
        "\n"
      ],
      "execution_count": null,
      "outputs": []
    },
    {
      "cell_type": "markdown",
      "metadata": {
        "id": "JzubH_F1Gei7"
      },
      "source": [
        "# Multiplication"
      ]
    },
    {
      "cell_type": "markdown",
      "metadata": {
        "id": "wAZH3j2-R_S0"
      },
      "source": [
        "We saw before that we could mutliply a `list`...but it doesn't do what you would expect."
      ]
    },
    {
      "cell_type": "code",
      "metadata": {
        "id": "IPNsE0fzGei8",
        "colab": {
          "base_uri": "https://localhost:8080/"
        },
        "outputId": "95b3a12d-b7fa-4697-fece-da497082a2cc"
      },
      "source": [
        "# multiplying a list\n",
        "[1,2,3,4] * 2"
      ],
      "execution_count": null,
      "outputs": [
        {
          "output_type": "execute_result",
          "data": {
            "text/plain": [
              "[1, 2, 3, 4, 1, 2, 3, 4]"
            ]
          },
          "metadata": {
            "tags": []
          },
          "execution_count": 40
        }
      ]
    },
    {
      "cell_type": "markdown",
      "metadata": {
        "id": "Y-qErYuOSEBe"
      },
      "source": [
        "Now, with numpy arrays, we can actually multiply each value inside the array:"
      ]
    },
    {
      "cell_type": "code",
      "metadata": {
        "id": "HirwG9lhGei9",
        "colab": {
          "base_uri": "https://localhost:8080/"
        },
        "outputId": "d1299049-2fec-46c6-dfb1-7b22f0ab2ef0"
      },
      "source": [
        "# multiplying an ndarray\n",
        "np.array([1,2,3,4]) * 2"
      ],
      "execution_count": null,
      "outputs": [
        {
          "output_type": "execute_result",
          "data": {
            "text/plain": [
              "array([2, 4, 6, 8])"
            ]
          },
          "metadata": {
            "tags": []
          },
          "execution_count": 41
        }
      ]
    },
    {
      "cell_type": "markdown",
      "metadata": {
        "id": "wOd-pd6TSK--"
      },
      "source": [
        "You cannot multiply two `list`s"
      ]
    },
    {
      "cell_type": "code",
      "metadata": {
        "id": "LUDvmjp-Gei9",
        "colab": {
          "base_uri": "https://localhost:8080/",
          "height": 179
        },
        "outputId": "d5956e4b-e18a-48b0-87e8-d09b48da552c"
      },
      "source": [
        "# multiplying two lists\n",
        "[1,2,3,4] * [1,2,3,4]"
      ],
      "execution_count": null,
      "outputs": [
        {
          "output_type": "error",
          "ename": "TypeError",
          "evalue": "ignored",
          "traceback": [
            "\u001b[0;31m---------------------------------------------------------------------------\u001b[0m",
            "\u001b[0;31mTypeError\u001b[0m                                 Traceback (most recent call last)",
            "\u001b[0;32m<ipython-input-42-6f24943f6b87>\u001b[0m in \u001b[0;36m<module>\u001b[0;34m()\u001b[0m\n\u001b[1;32m      1\u001b[0m \u001b[0;31m# multiplying two lists\u001b[0m\u001b[0;34m\u001b[0m\u001b[0;34m\u001b[0m\u001b[0;34m\u001b[0m\u001b[0m\n\u001b[0;32m----> 2\u001b[0;31m \u001b[0;34m[\u001b[0m\u001b[0;36m1\u001b[0m\u001b[0;34m,\u001b[0m\u001b[0;36m2\u001b[0m\u001b[0;34m,\u001b[0m\u001b[0;36m3\u001b[0m\u001b[0;34m,\u001b[0m\u001b[0;36m4\u001b[0m\u001b[0;34m]\u001b[0m \u001b[0;34m*\u001b[0m \u001b[0;34m[\u001b[0m\u001b[0;36m1\u001b[0m\u001b[0;34m,\u001b[0m\u001b[0;36m2\u001b[0m\u001b[0;34m,\u001b[0m\u001b[0;36m3\u001b[0m\u001b[0;34m,\u001b[0m\u001b[0;36m4\u001b[0m\u001b[0;34m]\u001b[0m\u001b[0;34m\u001b[0m\u001b[0;34m\u001b[0m\u001b[0m\n\u001b[0m",
            "\u001b[0;31mTypeError\u001b[0m: can't multiply sequence by non-int of type 'list'"
          ]
        }
      ]
    },
    {
      "cell_type": "markdown",
      "metadata": {
        "id": "oCOcNJVLSOJh"
      },
      "source": [
        "But you _can_ multiply two numpy arrays!"
      ]
    },
    {
      "cell_type": "code",
      "metadata": {
        "id": "gtlBR6ssGei9",
        "colab": {
          "base_uri": "https://localhost:8080/"
        },
        "outputId": "719ded83-22b1-4c3c-c020-2242ff58b085"
      },
      "source": [
        "# multiplying two numpy arrays - this is element-wise\n",
        "np.array([1,2,3,4]) * np.array([1,2,3,4])"
      ],
      "execution_count": null,
      "outputs": [
        {
          "output_type": "execute_result",
          "data": {
            "text/plain": [
              "array([ 1,  4,  9, 16])"
            ]
          },
          "metadata": {
            "tags": []
          },
          "execution_count": 67
        }
      ]
    },
    {
      "cell_type": "markdown",
      "metadata": {
        "id": "IcikweNUSafo"
      },
      "source": [
        "Exercise: Use a `for` loop to divide a numpy array with  values [2.1,4.33,5.62,8.999] by another numpy array of your choice 3 times (there are many ways to do this)"
      ]
    },
    {
      "cell_type": "code",
      "metadata": {
        "id": "b83foE1gSo39"
      },
      "source": [
        "# Your code here\n",
        "\n"
      ],
      "execution_count": null,
      "outputs": []
    },
    {
      "cell_type": "markdown",
      "metadata": {
        "id": "eTiqHc4zGei-"
      },
      "source": [
        "# N-Dimensional Arrays\n",
        "\n",
        "So far, we have only used 1-dimensional arrays (akin to vectors). We can start playing with 2-dimensional (i.e. matrices) or N-dimensional arrays:"
      ]
    },
    {
      "cell_type": "code",
      "metadata": {
        "id": "9BgHS6kPGei-",
        "colab": {
          "base_uri": "https://localhost:8080/"
        },
        "outputId": "226b4524-2735-46e0-acbb-7645030674af"
      },
      "source": [
        "# 2 x 3 matrix\n",
        "d1 = np.array([[1,2,3],[4,5,6]])\n",
        "d1\n"
      ],
      "execution_count": null,
      "outputs": [
        {
          "output_type": "execute_result",
          "data": {
            "text/plain": [
              "array([[1, 2, 3],\n",
              "       [4, 5, 6]])"
            ]
          },
          "metadata": {
            "tags": []
          },
          "execution_count": 44
        }
      ]
    },
    {
      "cell_type": "code",
      "metadata": {
        "id": "bTQhPB4zGei-",
        "colab": {
          "base_uri": "https://localhost:8080/"
        },
        "outputId": "e9b49d17-8697-47fd-b336-481b85937e66"
      },
      "source": [
        "d1.shape"
      ],
      "execution_count": null,
      "outputs": [
        {
          "output_type": "execute_result",
          "data": {
            "text/plain": [
              "(2, 3)"
            ]
          },
          "metadata": {
            "tags": []
          },
          "execution_count": 45
        }
      ]
    },
    {
      "cell_type": "code",
      "metadata": {
        "id": "5RxLv5d3Gei-",
        "colab": {
          "base_uri": "https://localhost:8080/"
        },
        "outputId": "2cfda5cb-1f6d-4e57-baaa-d1c9d971fa30"
      },
      "source": [
        "# another matrix\n",
        "d2 = np.array([[1,2],[3,4],[5,6]])\n",
        "d2"
      ],
      "execution_count": null,
      "outputs": [
        {
          "output_type": "execute_result",
          "data": {
            "text/plain": [
              "array([[1, 2],\n",
              "       [3, 4],\n",
              "       [5, 6]])"
            ]
          },
          "metadata": {
            "tags": []
          },
          "execution_count": 46
        }
      ]
    },
    {
      "cell_type": "markdown",
      "metadata": {
        "id": "UKacoNI0UgHQ"
      },
      "source": [
        "Exercise: Confirm that the shape of `d2` is (3,2) using `.shape`"
      ]
    },
    {
      "cell_type": "code",
      "metadata": {
        "id": "NN4Bg0PuUgl3"
      },
      "source": [
        "# Your code here\n",
        "\n"
      ],
      "execution_count": null,
      "outputs": []
    },
    {
      "cell_type": "markdown",
      "metadata": {
        "id": "rloXCYl1TVRZ"
      },
      "source": [
        "Exercise: Make sure you understand the code above. Create a 4 x4 array"
      ]
    },
    {
      "cell_type": "code",
      "metadata": {
        "id": "_Le8wP8_Tf6J"
      },
      "source": [
        "# Your code here\n",
        "\n"
      ],
      "execution_count": null,
      "outputs": []
    },
    {
      "cell_type": "markdown",
      "metadata": {
        "id": "u0btpBeCThbG"
      },
      "source": [
        "Exercise: Create a 1 x 2 x 3 array. Confirm that the shape is correct using `.shape`"
      ]
    },
    {
      "cell_type": "code",
      "metadata": {
        "id": "h6bXYGl6Tswa"
      },
      "source": [
        "# Your code \n",
        "\n"
      ],
      "execution_count": null,
      "outputs": []
    },
    {
      "cell_type": "markdown",
      "metadata": {
        "id": "Rzf3B0i2Gei-"
      },
      "source": [
        "# Element-wise Multiplication\n",
        "\n",
        "When working with matrices, the `*` operator applies element-wise multiplication. What does this mean exactly?"
      ]
    },
    {
      "cell_type": "code",
      "metadata": {
        "id": "KTZgL0u5Gei_",
        "colab": {
          "base_uri": "https://localhost:8080/"
        },
        "outputId": "9b8ec9eb-7bca-47f1-9f3e-75af1be7acf4"
      },
      "source": [
        "# 2 x 3 matrix\n",
        "d1 = np.array([[1,2,3],[4,5,6]])\n",
        "d2 = np.array([[1,2],[3,4],[5,6]])\n",
        "\n",
        "# element-wise multiplication\n",
        "# (both matrices need to be the same shape)\n",
        "d1*d1"
      ],
      "execution_count": null,
      "outputs": [
        {
          "output_type": "execute_result",
          "data": {
            "text/plain": [
              "array([[ 1,  4,  9],\n",
              "       [16, 25, 36]])"
            ]
          },
          "metadata": {
            "tags": []
          },
          "execution_count": 47
        }
      ]
    },
    {
      "cell_type": "markdown",
      "metadata": {
        "id": "064TFtdsVEHz"
      },
      "source": [
        "Discussion: Explain what we just did\n",
        "\n",
        "Exercise: Can you do element-wise multiplication if `d1` and `d2` have different shapes? Why or why not? Check with code below"
      ]
    },
    {
      "cell_type": "code",
      "metadata": {
        "id": "-b-mIcs9Gei_"
      },
      "source": [
        "# Your code here\n",
        "\n"
      ],
      "execution_count": null,
      "outputs": []
    },
    {
      "cell_type": "markdown",
      "metadata": {
        "id": "1Y27xUNqGejA"
      },
      "source": [
        "# Dot product"
      ]
    },
    {
      "cell_type": "markdown",
      "metadata": {
        "id": "Lp2A-CU2VqvU"
      },
      "source": [
        "Discussion: Why can we take the dot product of matrices/arrays of different sizes?"
      ]
    },
    {
      "cell_type": "code",
      "metadata": {
        "id": "jm1TIROSGejA",
        "colab": {
          "base_uri": "https://localhost:8080/"
        },
        "outputId": "812621b2-7925-47be-89c9-3d9fa675b987"
      },
      "source": [
        "# dot product\n",
        "d3 = np.dot(d1,d2)\n",
        "\n",
        "d3"
      ],
      "execution_count": null,
      "outputs": [
        {
          "output_type": "execute_result",
          "data": {
            "text/plain": [
              "array([[22, 28],\n",
              "       [49, 64]])"
            ]
          },
          "metadata": {
            "tags": []
          },
          "execution_count": 49
        }
      ]
    },
    {
      "cell_type": "markdown",
      "metadata": {
        "id": "Ek0uFNh_ViEp"
      },
      "source": [
        "Another way to take the dot product is to use the `@` symbol"
      ]
    },
    {
      "cell_type": "code",
      "metadata": {
        "colab": {
          "base_uri": "https://localhost:8080/"
        },
        "id": "-rZK6yULVeB7",
        "outputId": "56be11ee-7ec5-4d6c-ea9c-2f454aa9059b"
      },
      "source": [
        "d4 = d1 @ d2\n",
        "\n",
        "d4"
      ],
      "execution_count": null,
      "outputs": [
        {
          "output_type": "execute_result",
          "data": {
            "text/plain": [
              "array([[22, 28],\n",
              "       [49, 64]])"
            ]
          },
          "metadata": {
            "tags": []
          },
          "execution_count": 72
        }
      ]
    },
    {
      "cell_type": "markdown",
      "metadata": {
        "id": "XLmX0X16GejA"
      },
      "source": [
        "# Mathematical Functions"
      ]
    },
    {
      "cell_type": "markdown",
      "metadata": {
        "id": "pyyDP4qWV2U3"
      },
      "source": [
        "Exercise: Take the square of every element inside the numpy array `d3`"
      ]
    },
    {
      "cell_type": "code",
      "metadata": {
        "id": "KbPYlFJVGejA"
      },
      "source": [
        "# Your code here\n",
        "\n"
      ],
      "execution_count": null,
      "outputs": []
    },
    {
      "cell_type": "markdown",
      "metadata": {
        "id": "UI9q1VQIV9Ng"
      },
      "source": [
        "Exercise: Take the square root of every element inside the numpy array `d3` using `np.sqrt()`"
      ]
    },
    {
      "cell_type": "code",
      "metadata": {
        "id": "H_6KoC18GejB"
      },
      "source": [
        "# Your code here\n",
        "\n"
      ],
      "execution_count": null,
      "outputs": []
    },
    {
      "cell_type": "markdown",
      "metadata": {
        "id": "DlX3bTk2WGF4"
      },
      "source": [
        "Exercise: Take the exponential of every element inside the numpy array `d3` using `np.exp()`"
      ]
    },
    {
      "cell_type": "code",
      "metadata": {
        "id": "KVWUa0ZyGejB"
      },
      "source": [
        "# Your code here\n",
        "\n"
      ],
      "execution_count": null,
      "outputs": []
    },
    {
      "cell_type": "markdown",
      "metadata": {
        "id": "2dvbpr8LGejB"
      },
      "source": [
        "# `linspace` and `arange`\n",
        "\n",
        "We often want to generate arrays automagically. `np.linspace()` and `np.arange()` are two ways of doing this"
      ]
    },
    {
      "cell_type": "code",
      "metadata": {
        "id": "6bnaXqKhGejB",
        "colab": {
          "base_uri": "https://localhost:8080/"
        },
        "outputId": "3b3469c1-3c0c-4113-9d6b-14a0cd7fb5a2"
      },
      "source": [
        "x1 = np.linspace(0,1,10) # split into 10\n",
        "x1"
      ],
      "execution_count": null,
      "outputs": [
        {
          "output_type": "execute_result",
          "data": {
            "text/plain": [
              "array([0.        , 0.11111111, 0.22222222, 0.33333333, 0.44444444,\n",
              "       0.55555556, 0.66666667, 0.77777778, 0.88888889, 1.        ])"
            ]
          },
          "metadata": {
            "tags": []
          },
          "execution_count": 53
        }
      ]
    },
    {
      "cell_type": "markdown",
      "metadata": {
        "id": "1Ow94bc6Wh4x"
      },
      "source": [
        "Discussion: What exactly is linspace doing?\n",
        "\n",
        "Exercise: Use linspace to create the following array \n",
        "`array([0. , 0.1, 0.2, 0.3, 0.4, 0.5, 0.6, 0.7, 0.8, 0.9])` (Hint - tweak the code from the line above)"
      ]
    },
    {
      "cell_type": "code",
      "metadata": {
        "id": "JGXuLrFYGejC",
        "colab": {
          "base_uri": "https://localhost:8080/"
        },
        "outputId": "4325344f-da7b-4aed-9ead-59646a035692"
      },
      "source": [
        "# Your code here\n",
        "\n",
        "x1 = \n",
        "x1"
      ],
      "execution_count": null,
      "outputs": [
        {
          "output_type": "execute_result",
          "data": {
            "text/plain": [
              "array([0. , 0.1, 0.2, 0.3, 0.4, 0.5, 0.6, 0.7, 0.8, 0.9])"
            ]
          },
          "metadata": {
            "tags": []
          },
          "execution_count": 54
        }
      ]
    },
    {
      "cell_type": "markdown",
      "metadata": {
        "id": "S5lsxFDtW1FT"
      },
      "source": [
        "This is `np.arange()`"
      ]
    },
    {
      "cell_type": "code",
      "metadata": {
        "id": "ETtrGNNjGejC",
        "colab": {
          "base_uri": "https://localhost:8080/"
        },
        "outputId": "00c7958d-9499-4f0e-a316-330b089464e2"
      },
      "source": [
        "x2 = np.arange(0,1,.1) # increase by 1\n",
        "x2"
      ],
      "execution_count": null,
      "outputs": [
        {
          "output_type": "execute_result",
          "data": {
            "text/plain": [
              "array([0. , 0.1, 0.2, 0.3, 0.4, 0.5, 0.6, 0.7, 0.8, 0.9])"
            ]
          },
          "metadata": {
            "tags": []
          },
          "execution_count": 55
        }
      ]
    },
    {
      "cell_type": "markdown",
      "metadata": {
        "id": "PE9UUd8hW4QV"
      },
      "source": [
        "Discussion: What exactly does `np.arange()` do?"
      ]
    },
    {
      "cell_type": "markdown",
      "metadata": {
        "id": "WuLwuqW5W822"
      },
      "source": [
        "Exercise: Use `np.arange()` to create an array of numbers from 50 to 100 with intervals of 5"
      ]
    },
    {
      "cell_type": "code",
      "metadata": {
        "id": "kJehMLZzW9O9"
      },
      "source": [
        "# Your code here\n",
        "\n"
      ],
      "execution_count": null,
      "outputs": []
    },
    {
      "cell_type": "markdown",
      "metadata": {
        "id": "g-2rdG_CXKnf"
      },
      "source": [
        "Exercise: Use `np.linspace()` to create an array of numbers from 50 to 100 with intervals of 5"
      ]
    },
    {
      "cell_type": "code",
      "metadata": {
        "id": "eErv2LwSXK9-"
      },
      "source": [
        "# Your code here\n",
        "\n"
      ],
      "execution_count": null,
      "outputs": []
    },
    {
      "cell_type": "markdown",
      "metadata": {
        "id": "EymCo2LqXRj8"
      },
      "source": [
        "Here are a few other tips and tricks:"
      ]
    },
    {
      "cell_type": "code",
      "metadata": {
        "id": "aFJi27GBGejC",
        "colab": {
          "base_uri": "https://localhost:8080/"
        },
        "outputId": "749863b4-55a5-4c31-ed11-f883d4ef1547"
      },
      "source": [
        "z = np.ones(20) # create an array of ones!\n",
        "z"
      ],
      "execution_count": null,
      "outputs": [
        {
          "output_type": "execute_result",
          "data": {
            "text/plain": [
              "array([1., 1., 1., 1., 1., 1., 1., 1., 1., 1., 1., 1., 1., 1., 1., 1., 1.,\n",
              "       1., 1., 1.])"
            ]
          },
          "metadata": {
            "tags": []
          },
          "execution_count": 56
        }
      ]
    },
    {
      "cell_type": "code",
      "metadata": {
        "id": "lQJZUCgIGejC",
        "colab": {
          "base_uri": "https://localhost:8080/"
        },
        "outputId": "6420f538-7aab-4292-fc1e-61265fd85196"
      },
      "source": [
        "z = np.zeros((5,2)) # create 2d array of zeros!\n",
        "z"
      ],
      "execution_count": null,
      "outputs": [
        {
          "output_type": "execute_result",
          "data": {
            "text/plain": [
              "array([[0., 0.],\n",
              "       [0., 0.],\n",
              "       [0., 0.],\n",
              "       [0., 0.],\n",
              "       [0., 0.]])"
            ]
          },
          "metadata": {
            "tags": []
          },
          "execution_count": 57
        }
      ]
    },
    {
      "cell_type": "markdown",
      "metadata": {
        "id": "u2dnOBpmGejD"
      },
      "source": [
        "# getting fancy"
      ]
    },
    {
      "cell_type": "code",
      "metadata": {
        "id": "cD9snFUKGejD",
        "colab": {
          "base_uri": "https://localhost:8080/"
        },
        "outputId": "fc1fa0c1-e374-40c3-b20c-3492aa156186"
      },
      "source": [
        "x2 = np.arange(0,1,.1) # increase by 1\n",
        "\n",
        "w = 1\n",
        "y = np.sin(2*np.pi*w*x2)\n",
        "y"
      ],
      "execution_count": null,
      "outputs": [
        {
          "output_type": "execute_result",
          "data": {
            "text/plain": [
              "array([ 0.00000000e+00,  5.87785252e-01,  9.51056516e-01,  9.51056516e-01,\n",
              "        5.87785252e-01,  1.22464680e-16, -5.87785252e-01, -9.51056516e-01,\n",
              "       -9.51056516e-01, -5.87785252e-01])"
            ]
          },
          "metadata": {
            "tags": []
          },
          "execution_count": 58
        }
      ]
    },
    {
      "cell_type": "markdown",
      "metadata": {
        "id": "peZKsqV1Xhtn"
      },
      "source": [
        "Discussion: Describe each line of the code above."
      ]
    },
    {
      "cell_type": "markdown",
      "metadata": {
        "id": "wYFK8qPwGejD"
      },
      "source": [
        "# indexing\n",
        "\n",
        "What if we want to select a single element from an np.array? Or a row of a matrix? Python allows us to do this seemlessly using indexing"
      ]
    },
    {
      "cell_type": "code",
      "metadata": {
        "id": "V3FHOi4_GejD",
        "colab": {
          "base_uri": "https://localhost:8080/"
        },
        "outputId": "1644444f-6fcd-44fd-9363-87743b4d23ae"
      },
      "source": [
        "x = np.arange(10)\n",
        "\n",
        "print('x: ',x)\n",
        "x[2:5]"
      ],
      "execution_count": null,
      "outputs": [
        {
          "output_type": "stream",
          "text": [
            "x:  [0 1 2 3 4 5 6 7 8 9]\n"
          ],
          "name": "stdout"
        },
        {
          "output_type": "execute_result",
          "data": {
            "text/plain": [
              "array([2, 3, 4])"
            ]
          },
          "metadata": {
            "tags": []
          },
          "execution_count": 77
        }
      ]
    },
    {
      "cell_type": "markdown",
      "metadata": {
        "id": "G6nuZ0k7Yhv3"
      },
      "source": [
        "Select the last two elements of the array `x`"
      ]
    },
    {
      "cell_type": "code",
      "metadata": {
        "id": "j4Su_UVMYkpI"
      },
      "source": [
        "# Your code here\n",
        "\n"
      ],
      "execution_count": null,
      "outputs": []
    },
    {
      "cell_type": "markdown",
      "metadata": {
        "id": "UT0bXlIyYot-"
      },
      "source": [
        "What if you don't know how long the array is? Python allows us to cleverly select the last two elements regardless of the array length"
      ]
    },
    {
      "cell_type": "code",
      "metadata": {
        "colab": {
          "base_uri": "https://localhost:8080/"
        },
        "id": "SHjxTmpcYyUn",
        "outputId": "b2fc4cdd-c429-45b0-9eca-539d1162976e"
      },
      "source": [
        "x[-2:]"
      ],
      "execution_count": null,
      "outputs": [
        {
          "output_type": "execute_result",
          "data": {
            "text/plain": [
              "array([8, 9])"
            ]
          },
          "metadata": {
            "tags": []
          },
          "execution_count": 78
        }
      ]
    },
    {
      "cell_type": "markdown",
      "metadata": {
        "id": "jP02axZsY5ki"
      },
      "source": [
        "Exercise: What happens if we do `x[:-2` instead? Try it out below"
      ]
    },
    {
      "cell_type": "code",
      "metadata": {
        "id": "AHuZV5vbGejD"
      },
      "source": [
        "# Your code here\n",
        "\n"
      ],
      "execution_count": null,
      "outputs": []
    },
    {
      "cell_type": "code",
      "metadata": {
        "id": "1BZiWgbKGejE",
        "colab": {
          "base_uri": "https://localhost:8080/"
        },
        "outputId": "413f52b3-ef8c-4b7e-fa39-4f191620cea4"
      },
      "source": [
        "x[1:7:2]"
      ],
      "execution_count": null,
      "outputs": [
        {
          "output_type": "execute_result",
          "data": {
            "text/plain": [
              "array([1, 3, 5])"
            ]
          },
          "metadata": {
            "tags": []
          },
          "execution_count": 61
        }
      ]
    },
    {
      "cell_type": "markdown",
      "metadata": {
        "id": "UdREQOeAZG_f"
      },
      "source": [
        "Discussion: Explain what is happening in the above cell\n",
        "\n",
        "Exercise: Create an array of numbers from 0 to 100 with an interval of 10. Using the slicing and indexing tricks above, print the numbers [20,40,60] (there are many ways to do this)"
      ]
    },
    {
      "cell_type": "code",
      "metadata": {
        "id": "mYESbQOjZMVw"
      },
      "source": [
        "# Your code here\n",
        "\n"
      ],
      "execution_count": null,
      "outputs": []
    },
    {
      "cell_type": "code",
      "metadata": {
        "scrolled": true,
        "id": "4L6teJO8GejE",
        "colab": {
          "base_uri": "https://localhost:8080/"
        },
        "outputId": "ae46814b-8e2a-4735-8d6f-5181d6c50e81"
      },
      "source": [
        "y = np.arange(35).reshape(5,7)\n",
        "print('y: ',y)\n"
      ],
      "execution_count": null,
      "outputs": [
        {
          "output_type": "stream",
          "text": [
            "y:  [[ 0  1  2  3  4  5  6]\n",
            " [ 7  8  9 10 11 12 13]\n",
            " [14 15 16 17 18 19 20]\n",
            " [21 22 23 24 25 26 27]\n",
            " [28 29 30 31 32 33 34]]\n"
          ],
          "name": "stdout"
        }
      ]
    },
    {
      "cell_type": "markdown",
      "metadata": {
        "id": "YwMU8NwqZrxX"
      },
      "source": [
        "Exercise: Using indexing in 2 dimensions, print out the following array:\n",
        "\n",
        "array([ 0,  7, 14, 21, 28])"
      ]
    },
    {
      "cell_type": "code",
      "metadata": {
        "colab": {
          "base_uri": "https://localhost:8080/"
        },
        "id": "FRYRFyiNZrlw",
        "outputId": "16f946b3-2e0f-4dee-c733-52c2562b26e2"
      },
      "source": [
        "# Your code here\n"
      ],
      "execution_count": null,
      "outputs": [
        {
          "output_type": "execute_result",
          "data": {
            "text/plain": [
              "array([ 0,  7, 14, 21, 28])"
            ]
          },
          "metadata": {
            "tags": []
          },
          "execution_count": 80
        }
      ]
    },
    {
      "cell_type": "markdown",
      "metadata": {
        "id": "Emkb6D_waFYQ"
      },
      "source": [
        "Exercise: Using indexing in 2 dimensions, print out the following array:\n",
        "\n",
        "```py \n",
        "array([[ 7, 10, 13],\n",
        "       [21, 24, 27]])\n",
        "```"
      ]
    },
    {
      "cell_type": "code",
      "metadata": {
        "id": "12zoAxP4GejE"
      },
      "source": [
        "# Your code here\n",
        "\n"
      ],
      "execution_count": null,
      "outputs": []
    },
    {
      "cell_type": "markdown",
      "metadata": {
        "id": "TRXToF-fGejE"
      },
      "source": [
        "# Index arrays\n"
      ]
    },
    {
      "cell_type": "markdown",
      "metadata": {
        "id": "_3xweaOIavZY"
      },
      "source": [
        "We can also use arrays to index arrays...pretty trippy"
      ]
    },
    {
      "cell_type": "code",
      "metadata": {
        "id": "A3FcNqDhGejF",
        "colab": {
          "base_uri": "https://localhost:8080/"
        },
        "outputId": "398ddea5-d80e-45c5-a2cb-c34ab1fe8f19"
      },
      "source": [
        "x = np.arange(10,1,-1)\n",
        "print('x: ',x)\n",
        "\n",
        "x[np.array([3, 3, 1, 8])]\n",
        "\n"
      ],
      "execution_count": null,
      "outputs": [
        {
          "output_type": "stream",
          "text": [
            "x:  [10  9  8  7  6  5  4  3  2]\n"
          ],
          "name": "stdout"
        },
        {
          "output_type": "execute_result",
          "data": {
            "text/plain": [
              "array([7, 7, 9, 2])"
            ]
          },
          "metadata": {
            "tags": []
          },
          "execution_count": 64
        }
      ]
    },
    {
      "cell_type": "markdown",
      "metadata": {
        "id": "VSO0GamRazCq"
      },
      "source": [
        "Discussion: explain what is going on here"
      ]
    },
    {
      "cell_type": "markdown",
      "metadata": {
        "id": "HSyg3oMxGejF"
      },
      "source": [
        "# Boolean or “mask” index arrays"
      ]
    },
    {
      "cell_type": "markdown",
      "metadata": {
        "id": "enuCCFpfa5i0"
      },
      "source": [
        "We can also use Booleans to select elements from arrays"
      ]
    },
    {
      "cell_type": "code",
      "metadata": {
        "id": "ZlCix8RDGejF",
        "colab": {
          "base_uri": "https://localhost:8080/"
        },
        "outputId": "17132d33-5a56-41f4-ce40-0744145d5225"
      },
      "source": [
        "y = np.arange(35).reshape(5,7)\n",
        "y"
      ],
      "execution_count": null,
      "outputs": [
        {
          "output_type": "execute_result",
          "data": {
            "text/plain": [
              "array([[ 0,  1,  2,  3,  4,  5,  6],\n",
              "       [ 7,  8,  9, 10, 11, 12, 13],\n",
              "       [14, 15, 16, 17, 18, 19, 20],\n",
              "       [21, 22, 23, 24, 25, 26, 27],\n",
              "       [28, 29, 30, 31, 32, 33, 34]])"
            ]
          },
          "metadata": {
            "tags": []
          },
          "execution_count": 65
        }
      ]
    },
    {
      "cell_type": "code",
      "metadata": {
        "id": "jF-sasvTGejF",
        "colab": {
          "base_uri": "https://localhost:8080/"
        },
        "outputId": "64cfeeb2-390c-495c-c385-b2afd6f60170"
      },
      "source": [
        "b = y>20\n",
        "\n",
        "print('b: ',b)\n",
        "\n",
        "print('y[b]: ',y[b])"
      ],
      "execution_count": null,
      "outputs": [
        {
          "output_type": "stream",
          "text": [
            "b:  [[False False False False False False False]\n",
            " [False False False False False False False]\n",
            " [False False False False False False False]\n",
            " [ True  True  True  True  True  True  True]\n",
            " [ True  True  True  True  True  True  True]]\n",
            "y[b]:  [21 22 23 24 25 26 27 28 29 30 31 32 33 34]\n"
          ],
          "name": "stdout"
        }
      ]
    },
    {
      "cell_type": "markdown",
      "metadata": {
        "id": "uclq7OI8bFOy"
      },
      "source": [
        "Exercise: Create the following array from `y` above using a Boolean mask. (Hint: you can use reshape)\n",
        "\n",
        "```py\n",
        "array([[ 0,  1,  2,  3,  4,  5,  6],\n",
        "       [ 7,  8,  9, 10, 11, 12, 13]])\n",
        "```"
      ]
    },
    {
      "cell_type": "code",
      "metadata": {
        "id": "OWTYmNakbPbT"
      },
      "source": [
        "# Your code here\n",
        "\n"
      ],
      "execution_count": null,
      "outputs": []
    },
    {
      "cell_type": "markdown",
      "metadata": {
        "id": "pSrFZpnTbsOf"
      },
      "source": [
        "Well done! You are on your way to being a real pythonista. We can now move on to the next Colab notebook on **Matplotlib**"
      ]
    },
    {
      "cell_type": "markdown",
      "metadata": {
        "id": "UVeOY_IHGejF"
      },
      "source": [
        "(see https://docs.scipy.org/doc/numpy/user/basics.indexing.html for more details on indexing)"
      ]
    },
    {
      "cell_type": "code",
      "metadata": {
        "id": "pGzEBYPKruAa"
      },
      "source": [
        ""
      ],
      "execution_count": null,
      "outputs": []
    }
  ]
}