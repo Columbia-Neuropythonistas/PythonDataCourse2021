{
  "nbformat": 4,
  "nbformat_minor": 0,
  "metadata": {
    "kernelspec": {
      "display_name": "Python 3",
      "language": "python",
      "name": "python3"
    },
    "language_info": {
      "codemirror_mode": {
        "name": "ipython",
        "version": 3
      },
      "file_extension": ".py",
      "mimetype": "text/x-python",
      "name": "python",
      "nbconvert_exporter": "python",
      "pygments_lexer": "ipython3",
      "version": "3.7.7"
    },
    "colab": {
      "name": "Lecture2_pandas.ipynb",
      "provenance": [],
      "include_colab_link": true
    }
  },
  "cells": [
    {
      "cell_type": "markdown",
      "metadata": {
        "id": "view-in-github",
        "colab_type": "text"
      },
      "source": [
        "<a href=\"https://colab.research.google.com/github/Columbia-Neuropythonistas/PythonDataCourse2021/blob/main/Lecture2_pandas.ipynb\" target=\"_parent\"><img src=\"https://colab.research.google.com/assets/colab-badge.svg\" alt=\"Open In Colab\"/></a>"
      ]
    },
    {
      "cell_type": "markdown",
      "metadata": {
        "id": "wHSfH_y-xiJ2"
      },
      "source": [
        "# A brief intro to Pandas (to be continued on Thursday)"
      ]
    },
    {
      "cell_type": "markdown",
      "metadata": {
        "id": "QjGZpfQ5xiJ7"
      },
      "source": [
        "In the cell below, import <code> pandas </code> as <code> pd</cd>"
      ]
    },
    {
      "cell_type": "code",
      "metadata": {
        "id": "PGFasvKdxiJ8"
      },
      "source": [
        "import pandas as pd"
      ],
      "execution_count": null,
      "outputs": []
    },
    {
      "cell_type": "markdown",
      "metadata": {
        "id": "AQskOmpxxiJ8"
      },
      "source": [
        "Below, find the list \"names_list\", consisting of five random names."
      ]
    },
    {
      "cell_type": "code",
      "metadata": {
        "id": "oBh3-4RExiJ9"
      },
      "source": [
        "names_list = ['Aragorn', 'Legolas', 'Gimli', 'Galadriel', 'Eowyn']"
      ],
      "execution_count": null,
      "outputs": []
    },
    {
      "cell_type": "markdown",
      "metadata": {
        "id": "a1S9HatMxiJ9"
      },
      "source": [
        "Use panda's Series() method, with names_list as input, to create a series assigned to variable \"names_series\" Print output."
      ]
    },
    {
      "cell_type": "code",
      "metadata": {
        "id": "WOhDYoOIxiJ9"
      },
      "source": [
        "names_series =\n",
        "print()"
      ],
      "execution_count": null,
      "outputs": []
    },
    {
      "cell_type": "markdown",
      "metadata": {
        "id": "k7betMKlxiJ9"
      },
      "source": [
        "Looking at our printed series, it's pretty clear that this no longer looks like a list. There are values all along the left side!! This is the series __index__. Because we didn't specify anything in particular, pandas automatically created an index for us beginning with 0 and continuing through the length of the list we passed it; however, we have control over the index! We can specify values *within* the input we provide the Series() function, like this:\n",
        "<br><br>\n",
        "<code> names_series = pd.Series(names_list, index = [5,6,7,8,9])</code>\n",
        "<br><br> __OR__ If we create a series from a __dictionary__, the index will automatically contain key values from the dict."
      ]
    },
    {
      "cell_type": "markdown",
      "metadata": {
        "id": "J24JX6KcxiJ-"
      },
      "source": [
        "<br><br><br>\n",
        "So how do we make a DataFrame? There are actually myriad ways!! This is __one of many__ - and not the most efficient!\n",
        "<br> Create a dictionary lotr_data, with the key 'Beings'assigned a list containing the strings 'human','elf','dwarf','elf', and 'human', and the key 'Age', assigned a list containing the values 87, 2931, 139, 7000, and 24"
      ]
    },
    {
      "cell_type": "code",
      "metadata": {
        "id": "qRrTI6I3xiJ-"
      },
      "source": [
        "lotr_data = \n"
      ],
      "execution_count": null,
      "outputs": []
    },
    {
      "cell_type": "markdown",
      "metadata": {
        "id": "rj-zsioXxiJ-"
      },
      "source": [
        "Now, create a dataframe lotr_df by passing lotr_data into the pandas function DataFrame()"
      ]
    },
    {
      "cell_type": "code",
      "metadata": {
        "scrolled": true,
        "id": "te-0FmetxiJ-"
      },
      "source": [
        "lotr_df = #create DataFrame here\n",
        "print(lotr_df)\n"
      ],
      "execution_count": null,
      "outputs": []
    },
    {
      "cell_type": "markdown",
      "metadata": {
        "id": "FpsFkxmwxiJ_"
      },
      "source": [
        "We've been using Python's built-in print function throughout this class to look at data - but DataFrames are unique in that they are actually nicer to look at as output! Try using the .head() method associated with DataFrames - head() will normally return the first five rows of a DataFrame, but can take any number as input. In this case, just show the first 3 rows:"
      ]
    },
    {
      "cell_type": "code",
      "metadata": {
        "id": "Z9E0UfWMxiJ_"
      },
      "source": [
        ""
      ],
      "execution_count": null,
      "outputs": []
    },
    {
      "cell_type": "markdown",
      "metadata": {
        "id": "TrWfM7AWxiJ_"
      },
      "source": [
        "Let's say we want to view just the 'Beings' column of our DataFrame - this can be accomplished via the simple command <code> DataFrame[<font color=red>'COLUMN NAME'<font>]</code>. Try looking at just Beings below."
      ]
    },
    {
      "cell_type": "code",
      "metadata": {
        "id": "pxbBJ8Q9xiJ_"
      },
      "source": [
        ""
      ],
      "execution_count": null,
      "outputs": []
    },
    {
      "cell_type": "markdown",
      "metadata": {
        "id": "M_u4lcMaxiJ_"
      },
      "source": [
        "Interestingly, the columns of a DataFrame are actually also __attributes__, meaning they can be accessed using <code> DataFrame.<font color = red>COLUMNS</font></code> notation. Try pulling out the Age column this way below."
      ]
    },
    {
      "cell_type": "code",
      "metadata": {
        "id": "sbMCB3g-xiJ_"
      },
      "source": [
        ""
      ],
      "execution_count": null,
      "outputs": []
    },
    {
      "cell_type": "markdown",
      "metadata": {
        "id": "SNfab68uxiKA"
      },
      "source": [
        "Egads! It looks like we've forgotten to insert our character names from earlier into our DataFrame! Thankfully, using the same indexing that we see above, this is quite easy to accomplish in a DataFrame - simply create a *new* column with the command <code>DataFrame['NEW COLUMN NAME'] = ________ </code> Below, insert your names_series Series into lotr_df in a column called 'Character Name', and take a look at your updated DataFrame"
      ]
    },
    {
      "cell_type": "code",
      "metadata": {
        "id": "An0K9QYxxiKA"
      },
      "source": [
        ""
      ],
      "execution_count": null,
      "outputs": []
    },
    {
      "cell_type": "markdown",
      "metadata": {
        "id": "yzQC1Zp7xiKA"
      },
      "source": [
        " This is all well and good, but let's say we get our hands on a *slightly* more complete dataset, and want to import it. pandas has built in functions to read/import __many__ different data types, including (but not limited to) numpy arrays, .xlsx, and .csv files. \n",
        " <br><br> Use the pandas read_csv function, which will take a csv file at a given directory and import it into a DataFrame, to import the lotr_char_age.csv file that you should have put into the same folder as this notebook at the beginning of class. Re-assign your lotr_df DataFrame to the output of this function."
      ]
    },
    {
      "cell_type": "code",
      "metadata": {
        "id": "lwLwm8aRxiKB"
      },
      "source": [
        "lotr_df ="
      ],
      "execution_count": null,
      "outputs": []
    },
    {
      "cell_type": "markdown",
      "metadata": {
        "id": "vp6C1w1qxiKB"
      },
      "source": [
        "What a lovely DataFrame we've created! It doesn't have a *lot* more information, but it should be enough for us to quickly go over how to pull the data your want out of your DataFrame.\n",
        "<br><br>\n",
        "We've already learned that it's easy to pull out all of the contents of a column - but this technique can also be used with __conditionals__.  First, try seeing what happens if you run a conditional asking for the Age column where age < 1000?"
      ]
    },
    {
      "cell_type": "code",
      "metadata": {
        "id": "naWFiPn-xiKB"
      },
      "source": [
        ""
      ],
      "execution_count": null,
      "outputs": []
    },
    {
      "cell_type": "markdown",
      "metadata": {
        "id": "bb-fLv02xiKB"
      },
      "source": [
        "We've seen booleans before, and covered how to use them in numpy arrays earlier in this lecture! Based on what we learned then, and knowing how to pull column data from DataFrames, can you think of a method to return all values of lotr_df that are associated with an age <1000?"
      ]
    },
    {
      "cell_type": "code",
      "metadata": {
        "id": "mg16vRvtxiKB"
      },
      "source": [
        ""
      ],
      "execution_count": null,
      "outputs": []
    },
    {
      "cell_type": "markdown",
      "metadata": {
        "id": "E7vL3x3AxiKB"
      },
      "source": [
        "Great!\n",
        "<br><br>\n",
        "We can even slice columns once we've pulled them from our DataFrame. Let's say we only want to see the first 3 entries from what we pulled out in the last window. We'd use the notation <code>DataFrame['COLUMN NAME'][INDEX OR SLICE]. Give it a try now!"
      ]
    },
    {
      "cell_type": "code",
      "metadata": {
        "id": "z4_LKQHixiKC"
      },
      "source": [
        ""
      ],
      "execution_count": null,
      "outputs": []
    },
    {
      "cell_type": "markdown",
      "metadata": {
        "id": "pV1RkP4JxiKC"
      },
      "source": [
        "Everything we've done so far has been focused on pulling data out from DataFrame based on its column. But, when we introduced DataFrames, we also made a point that their indexing is valuable! How can we pull out rows based on index?\n",
        "<br> <br>\n",
        "This is were DataFrames differ significantly from arrays - in order to access data inparticular rows, DataFrames require users to use .iloc[] and .loc[] methods. \n",
        "<br><br> iloc, or index-based selection, treats your DataFrame like a giant matrix, and pulls out data based on its location (corresponding to the value you provided as input). loc, on the other hand, takes into account the *labels of the data* in a DataFrame. In the case of lotr_df, index values are the same as their numerical location; however, you might see how we need to use loc if we instead want to specify <code>'Beings' == 'hobbit'</code>.\n",
        "<br> <br>\n",
        "Let's try iloc first - works quite similarly to how you've gotten used to indexing/slicing numpy arrays, except that it takes in inputs in the order of __rows, columns__ - e.g., <code>DataFrame.iloc[2:4, 0]</code> will return values from the 0th column, rows 2 to 4.\n",
        "<br> <br>\n",
        "Below, pull out the 2nd column, rows 1, 3, 5, and 7 of lotr_df"
      ]
    },
    {
      "cell_type": "code",
      "metadata": {
        "id": "_26qA_nIxiKC"
      },
      "source": [
        ""
      ],
      "execution_count": null,
      "outputs": []
    },
    {
      "cell_type": "markdown",
      "metadata": {
        "id": "MMg33Ys4xiKC"
      },
      "source": [
        "Great! Let's move on to loc - in this case, we can start to use labels and conditionals! For example, what happens if we specify that we want only rows of lotr_df where <code>'Beings' == 'elf'</code> __and__ <code> age < 4000 </code>? We can use the \"&\" operator!!"
      ]
    },
    {
      "cell_type": "code",
      "metadata": {
        "id": "OLKG46qPxiKC"
      },
      "source": [
        "#This is an example - feel free to run the code to see output\n",
        "lotr_df.loc[(lotr_df['Beings']=='elf') & (lotr_df['Age'] < 4000)]"
      ],
      "execution_count": null,
      "outputs": []
    },
    {
      "cell_type": "markdown",
      "metadata": {
        "id": "7rIspI0FxiKC"
      },
      "source": [
        "Your turn! Pull out all hobbits under the age of 50 from lotr_df __and__ assign these values to a new DataFrame called young_hobbits"
      ]
    },
    {
      "cell_type": "code",
      "metadata": {
        "id": "hInPHk4vxiKD"
      },
      "source": [
        "young_hobbits = "
      ],
      "execution_count": null,
      "outputs": []
    },
    {
      "cell_type": "markdown",
      "metadata": {
        "id": "2ZMMHiSqxiKD"
      },
      "source": [
        "As you can see, if we had a __very__ large data set, this would be an invaluable tool for segmenting our data. Next, we'll be covering one or two more powerful tools associated with DataFrames before moving onto a brief overview of plotting with seaborn and wrapping up!\n",
        "<br><br>\n",
        "But first, oh no! The Tolkien fan who made our dataset didn't know that it can be hard to work with spaces in code - to make things easier for future users, let's see if we can rename our 'Character Name' column to 'Character_Name'. This can easily be accomplished using the rename method, which takes in dict-like input that can be specified to __either__ columns or the index. In this case, the format would look like: \n",
        "<br><br> <code> DataFrame.rename( {<br>      <font color=red> 'EXISTING COLUMN'</font>: <font color=blue> 'NEW NAME'</font>, etc. <br>           }, axis = 'columns')\n"
      ]
    },
    {
      "cell_type": "code",
      "metadata": {
        "id": "dGN9nCyvxiKD"
      },
      "source": [
        "lotr_df = "
      ],
      "execution_count": null,
      "outputs": []
    },
    {
      "cell_type": "markdown",
      "metadata": {
        "id": "fGoGun7kxiKD"
      },
      "source": [
        "Now that we've got our column names in order, let's take a look at one of the most powerful tools we have with DataFrames : the groupby() function.\n",
        "<br><br>\n",
        "Simply put, <code>groupby(['CATEGORY'])</code> is a method of grouping categories, and applying a function to each group. Let's just test it out to see what's going on! Create a DataFrame called \"being_stats\" that is lotr_df grouped by beings, and run the \"count()\" method on it:"
      ]
    },
    {
      "cell_type": "code",
      "metadata": {
        "id": "l_sgFvwYxiKE",
        "outputId": "351fcf02-b8b7-45e6-fb61-62f3da5dff7d"
      },
      "source": [
        "#Feel free to just run the code below to see output\n",
        "being_stats = lotr_df.groupby(['Beings'])\n",
        "being_stats.count()"
      ],
      "execution_count": null,
      "outputs": [
        {
          "output_type": "execute_result",
          "data": {
            "text/html": [
              "<div>\n",
              "<style scoped>\n",
              "    .dataframe tbody tr th:only-of-type {\n",
              "        vertical-align: middle;\n",
              "    }\n",
              "\n",
              "    .dataframe tbody tr th {\n",
              "        vertical-align: top;\n",
              "    }\n",
              "\n",
              "    .dataframe thead th {\n",
              "        text-align: right;\n",
              "    }\n",
              "</style>\n",
              "<table border=\"1\" class=\"dataframe\">\n",
              "  <thead>\n",
              "    <tr style=\"text-align: right;\">\n",
              "      <th></th>\n",
              "      <th>Character_Name</th>\n",
              "      <th>Age</th>\n",
              "    </tr>\n",
              "    <tr>\n",
              "      <th>Beings</th>\n",
              "      <th></th>\n",
              "      <th></th>\n",
              "    </tr>\n",
              "  </thead>\n",
              "  <tbody>\n",
              "    <tr>\n",
              "      <th>dwarf</th>\n",
              "      <td>1</td>\n",
              "      <td>1</td>\n",
              "    </tr>\n",
              "    <tr>\n",
              "      <th>dwarf</th>\n",
              "      <td>1</td>\n",
              "      <td>1</td>\n",
              "    </tr>\n",
              "    <tr>\n",
              "      <th>elf</th>\n",
              "      <td>5</td>\n",
              "      <td>5</td>\n",
              "    </tr>\n",
              "    <tr>\n",
              "      <th>hobbit</th>\n",
              "      <td>5</td>\n",
              "      <td>5</td>\n",
              "    </tr>\n",
              "    <tr>\n",
              "      <th>human</th>\n",
              "      <td>5</td>\n",
              "      <td>5</td>\n",
              "    </tr>\n",
              "  </tbody>\n",
              "</table>\n",
              "</div>"
            ],
            "text/plain": [
              "        Character_Name  Age\n",
              "Beings                     \n",
              "dwarf                1    1\n",
              "dwarf                1    1\n",
              "elf                  5    5\n",
              "hobbit               5    5\n",
              "human                5    5"
            ]
          },
          "metadata": {
            "tags": []
          },
          "execution_count": 282
        }
      ]
    },
    {
      "cell_type": "markdown",
      "metadata": {
        "id": "3nm7WuA-xiKF"
      },
      "source": [
        "What the above output is telling us is that each label under \"Beings\" is a unique value in the lotr_df['Beings'] column. For elves, there are 5 entered character names, and 5 entered ages.\n",
        "<br><br> But how strange! It looks like we're seeing...two dwarfs (dwarves, I know...)?? Can anybody think of a reason for this?"
      ]
    },
    {
      "cell_type": "markdown",
      "metadata": {
        "id": "AhlfaBJoxiKF"
      },
      "source": [
        "We can take a closer look by using the unique() function - run <code> lotr_df['Beings'].unique()</code>. What do you see?"
      ]
    },
    {
      "cell_type": "code",
      "metadata": {
        "id": "b2DPQJO-xiKF",
        "outputId": "ceddc965-54e0-4b86-b23b-f81d9c911aec"
      },
      "source": [
        ""
      ],
      "execution_count": null,
      "outputs": [
        {
          "output_type": "execute_result",
          "data": {
            "text/plain": [
              "array(['human', 'elf', 'dwarf', 'hobbit', 'dwarf '], dtype=object)"
            ]
          },
          "metadata": {
            "tags": []
          },
          "execution_count": 278
        }
      ]
    },
    {
      "cell_type": "markdown",
      "metadata": {
        "id": "Eb3--TjpxiKF"
      },
      "source": [
        "This is all part of cleaning data, folks! People make mistakes!\n",
        "<br><br> In this case, we want to go in and replace the error, 'dwarf ', with 'dwarf'. To do this, let's use the replace() function associated with DataFrames. replace() can take in dict-like formats just like rename() - it will look like this:<br><br>\n",
        "<code>        DataFrame.replace({<font color = red>'COLUMN NAME' : VALUE IN COLUMN </font>}, \n",
        "          <font color = blue>VALUE TO BE INSERTED</font> )\n",
        "    \n",
        "    <br><br>\n",
        "    \n",
        "    Try replacing 'dwarf ' with the correct value below - can you check just the dwarf entries using .loc? :\n"
      ]
    },
    {
      "cell_type": "code",
      "metadata": {
        "id": "2cDRgb8SxiKG"
      },
      "source": [
        "lotr_df = "
      ],
      "execution_count": null,
      "outputs": []
    },
    {
      "cell_type": "markdown",
      "metadata": {
        "id": "97ja_j2mxiKG"
      },
      "source": [
        "Great work!!! Finally, let's return to groupby(). Now that we know that we've corrected the error in the DataFrame, see if you can use groupby() and the .mean() functions to pull out the mean age for each type of being."
      ]
    },
    {
      "cell_type": "code",
      "metadata": {
        "id": "FG9C32QCxiKG"
      },
      "source": [
        "#fill out what's missing!\n",
        "lotr_df.groupby"
      ],
      "execution_count": null,
      "outputs": []
    },
    {
      "cell_type": "markdown",
      "metadata": {
        "id": "RZIHBr8hxiKG"
      },
      "source": [
        "## Let's give seaborn a shot\n",
        "below, import seaborn as sns"
      ]
    },
    {
      "cell_type": "code",
      "metadata": {
        "id": "-twFNCM6xiKG"
      },
      "source": [
        "import seaborn as sns"
      ],
      "execution_count": null,
      "outputs": []
    },
    {
      "cell_type": "code",
      "metadata": {
        "id": "UWb2xtQuxiKG",
        "outputId": "e5862202-2e53-440f-a84f-2fb981424a1a"
      },
      "source": [
        "# Simple boxplot code!!\n",
        "#go ahead and run this window, just to see what happens\n",
        "sns.boxplot(x='Beings',y='Age',data=lotr_df)"
      ],
      "execution_count": null,
      "outputs": [
        {
          "output_type": "execute_result",
          "data": {
            "text/plain": [
              "<matplotlib.axes._subplots.AxesSubplot at 0x1a19ae7c10>"
            ]
          },
          "metadata": {
            "tags": []
          },
          "execution_count": 305
        },
        {
          "output_type": "display_data",
          "data": {
            "image/png": "[encoded data removed]",
            "text/plain": [
              "<Figure size 432x288 with 1 Axes>"
            ]
          },
          "metadata": {
            "tags": [],
            "needs_background": "light"
          }
        }
      ]
    },
    {
      "cell_type": "markdown",
      "metadata": {
        "id": "BKOdzc36xiKH"
      },
      "source": [
        "I promised beauty...but there are a lot of things happening in that plot that aren't great. But based on how easy it is to change things around in seaborn...in the cell below, change data to equal lotr_df __without__ elves (don't forget loc combined with conditional statements!)"
      ]
    },
    {
      "cell_type": "code",
      "metadata": {
        "id": "m6Im8JbFxiKH",
        "outputId": "eadf7a96-edf3-424c-b387-83c80d2bd8a2"
      },
      "source": [
        "sns.boxplot(x='Beings',y='Age',data=lotr_df.loc[lotr_df['Beings']!='elf'])"
      ],
      "execution_count": null,
      "outputs": [
        {
          "output_type": "execute_result",
          "data": {
            "text/plain": [
              "<matplotlib.axes._subplots.AxesSubplot at 0x1a19c117d0>"
            ]
          },
          "metadata": {
            "tags": []
          },
          "execution_count": 306
        },
        {
          "output_type": "display_data",
          "data": {
            "image/png": "[encoded data removed]",
            "text/plain": [
              "<Figure size 432x288 with 1 Axes>"
            ]
          },
          "metadata": {
            "tags": [],
            "needs_background": "light"
          }
        }
      ]
    },
    {
      "cell_type": "markdown",
      "metadata": {
        "id": "7mFiiE59xiKH"
      },
      "source": [
        "Okay, looking better! A few more improvements...\n",
        "<br>let's use seaborn's set() function to set the palette to something calming, like 'Greens'...\n",
        "<br>and the background to something weird, like 'whitegrid'...\n",
        "<br> And let's go ahead and use violinplot, not boxplot, just to be fancy...\n",
        "<br> And while we're at it, let's set our plot to an object \"g\" so that we can title it easily."
      ]
    },
    {
      "cell_type": "code",
      "metadata": {
        "id": "EBIS_P-1xiKH",
        "outputId": "9cf7f7cd-9fa6-46b9-9876-fd4852f65fc5"
      },
      "source": [
        "sns.set(palette = 'Greens',style='whitegrid')\n",
        "\n",
        "g = sns.violinplot(x='Beings',y='Age',data=lotr_df.loc[lotr_df['Beings']!='elf'])\n",
        "\n",
        "g.set_title('Relative Longevity in Middle-Earth Subpopulations',fontsize=14)\n",
        "\n",
        "g.set_xlabel('Subpopulation')# <- decided 'Beings' looked silly, so replaced with 'Subpopulation'\n"
      ],
      "execution_count": null,
      "outputs": [
        {
          "output_type": "execute_result",
          "data": {
            "text/plain": [
              "Text(0.5, 0, 'Subpopulation')"
            ]
          },
          "metadata": {
            "tags": []
          },
          "execution_count": 319
        },
        {
          "output_type": "display_data",
          "data": {
            "image/png": "[encoded data removed]",
            "text/plain": [
              "<Figure size 432x288 with 1 Axes>"
            ]
          },
          "metadata": {
            "tags": []
          }
        }
      ]
    },
    {
      "cell_type": "code",
      "metadata": {
        "id": "Z5YTqbsBxiKH"
      },
      "source": [
        ""
      ],
      "execution_count": null,
      "outputs": []
    },
    {
      "cell_type": "markdown",
      "metadata": {
        "id": "BV82DvTmxiKH"
      },
      "source": [
        "# Huzzah! You've made it through! \n",
        "\n",
        "<br><br><br><br><br>"
      ]
    },
    {
      "cell_type": "markdown",
      "metadata": {
        "id": "KfMaNtEyxiKI"
      },
      "source": [
        "# Extra Exercises in `numpy`: a mini review + some extra tips/tools\n",
        "\n",
        "You've already been introduced to numpy arrays, so this will be a refresher.\n",
        "\n",
        "In the window below, import numpy as np"
      ]
    },
    {
      "cell_type": "code",
      "metadata": {
        "id": "zTmkSxgAxiKI"
      },
      "source": [
        "import numpy as np"
      ],
      "execution_count": null,
      "outputs": []
    },
    {
      "cell_type": "markdown",
      "metadata": {
        "id": "mvdFg8C2xiKI"
      },
      "source": [
        "Create a 1D numpy array \"my_numbers\" containing the numbers 1 through 10 in order. What different ways are there to do this?"
      ]
    },
    {
      "cell_type": "code",
      "metadata": {
        "id": "poVDtMHjxiKI"
      },
      "source": [
        "my_numbers = np."
      ],
      "execution_count": null,
      "outputs": []
    },
    {
      "cell_type": "markdown",
      "metadata": {
        "id": "h4jFv1_zxiKI"
      },
      "source": [
        "Now, using numpy's reshape( ) method, reshape my_numbers into a 2 x 5 array"
      ]
    },
    {
      "cell_type": "code",
      "metadata": {
        "id": "eJpKEN56xiKI"
      },
      "source": [
        "#There are also multiple ways to do this!\n",
        "my_numbers = "
      ],
      "execution_count": null,
      "outputs": []
    },
    {
      "cell_type": "markdown",
      "metadata": {
        "id": "oYATiWK1xiKI"
      },
      "source": [
        "Using your new, reshaped my_numbers array, use array indexing to print out the second value of the second element (the number 8)"
      ]
    },
    {
      "cell_type": "code",
      "metadata": {
        "id": "1JO8O1L5xiKI"
      },
      "source": [
        "print()"
      ],
      "execution_count": null,
      "outputs": []
    },
    {
      "cell_type": "markdown",
      "metadata": {
        "id": "DkcLpnBcxiKJ"
      },
      "source": [
        "Using slicing techniques, print every alternating value from my_numbers's first element "
      ]
    },
    {
      "cell_type": "code",
      "metadata": {
        "id": "sn0p-KqIxiKJ"
      },
      "source": [
        "print()"
      ],
      "execution_count": null,
      "outputs": []
    },
    {
      "cell_type": "markdown",
      "metadata": {
        "id": "xjj0Ix9FxiKJ"
      },
      "source": [
        "Another convenient way of pulling values from a numpy array is numpy's where() function. If we wanted to pull __the indices__ of all values in my_numbers greater than 6, we could say: <code> np.where(my_numbers > 6) </code>"
      ]
    },
    {
      "cell_type": "code",
      "metadata": {
        "id": "wUnPUfZyxiKJ",
        "outputId": "ce127c9f-7a69-47ea-94b7-d7bba504fac1"
      },
      "source": [
        "#go ahead and run this cell to see what the output looks like\n",
        "np.where(my_numbers > 6)"
      ],
      "execution_count": null,
      "outputs": [
        {
          "output_type": "execute_result",
          "data": {
            "text/plain": [
              "(array([1, 1, 1, 1]), array([1, 2, 3, 4]))"
            ]
          },
          "metadata": {
            "tags": []
          },
          "execution_count": 145
        }
      ]
    },
    {
      "cell_type": "markdown",
      "metadata": {
        "id": "qAEkMwlmxiKJ"
      },
      "source": [
        "This output is actually two arrays containing an __index__ of matching rows and columns! e.g. <code>my_numbers[1,1]</code> = 7, <code>my_numbers[1,2]</code> = 8, and so on.\n",
        "<br> <br>\n",
        "How would we create a new array called new_array that contains the actual values? Give it a try now\n",
        "<br><br>\n"
      ]
    },
    {
      "cell_type": "code",
      "metadata": {
        "id": "4TBonK0XxiKJ"
      },
      "source": [
        "new_array = #fill in answer here\n",
        "print(new_array)"
      ],
      "execution_count": null,
      "outputs": []
    },
    {
      "cell_type": "markdown",
      "metadata": {
        "id": "Shvy4pvFxiKJ"
      },
      "source": [
        "It's important to note that the __where__ function has a lot more capability than just returning an index- it actually  can manipulate elements using the same logic as <code> [xv if c else yv\n",
        " for c, xv, yv in zip(condition, x, y)] </code> when passed <code> np.where(condition, [x,y])</code>\n",
        "\n",
        "See example below:"
      ]
    },
    {
      "cell_type": "code",
      "metadata": {
        "id": "upppaWljxiKK",
        "outputId": "3b7cd143-e1b6-4065-af8e-990b6b13bcf3"
      },
      "source": [
        "#go ahead and run this cell to see output\n",
        "example_arr = np.arange(1,20,1)\n",
        "\n",
        "print('Before using np.where(): ','\\n',example_arr)\n",
        "\n",
        "example_arr = np.where(example_arr < 10, example_arr, example_arr-10)\n",
        "\n",
        "print('After using np.where(), all indices where example_arr < 10 = False are subject to example_arr-10: ',\n",
        "      '\\n',example_arr)"
      ],
      "execution_count": null,
      "outputs": [
        {
          "output_type": "stream",
          "text": [
            "Before using np.where():  \n",
            " [ 1  2  3  4  5  6  7  8  9 10 11 12 13 14 15 16 17 18 19]\n",
            "After using np.where(), all indices where example_arr < 10 = False are subject to example_arr-10:  \n",
            " [1 2 3 4 5 6 7 8 9 0 1 2 3 4 5 6 7 8 9]\n"
          ],
          "name": "stdout"
        }
      ]
    },
    {
      "cell_type": "markdown",
      "metadata": {
        "id": "QllTn4pQxiKK"
      },
      "source": [
        "Finally, while it was touched on last lecture, we'd like to make the point that one can also easily index arrays by creating boolean/mask arrays using conditional statements. In this case, the functionality would look like: <br> <br>\n",
        "<code> new_array = old_array[old_array <font color = red>CONDITIONAL STATEMENT</font>]</code>\n",
        "\n",
        "In the code below, we've creating an array __a__ that's equal the the numbers between 1 and 20. Use a conditional statement to create a mask array with index values, and reassign a to only equaling its values that are greater than or equal to 12."
      ]
    },
    {
      "cell_type": "code",
      "metadata": {
        "id": "k0gbqxV1xiKK"
      },
      "source": [
        "a = np.arange(1,21,1)\n",
        "a = #fill in answer here\n",
        "print(a)\n"
      ],
      "execution_count": null,
      "outputs": []
    },
    {
      "cell_type": "markdown",
      "metadata": {
        "id": "MG0PklQ7xiKK"
      },
      "source": [
        "# Random number generation in numpy\n",
        "\n",
        "Numpy comes with a \"random\" module (np.random) that contains a number of functions for producing random numbers. Some examples include:\n",
        "<br> <br>\n",
        "<code>np.random.random(tuple indicating output dimensions, e.g. (2,3) )</code> -> outputs random values from continuous distribuion over 0 to 1 in n-dimensions (specified by input tuple)\n",
        "<br><br>\n",
        "<code>np.random.randn(dimension1, dimension2, dimension 3...)</code> ->  random values from 0 to 1 over normal distribution\n",
        "<br><br>\n",
        "<code>np.random.randint(size, (lower bound, higher bound))</code> -> array of size x over specified lower/higher bounds\n",
        "<br> <br><br>\n",
        "Check out further numpy rng features here:\n",
        "\n",
        "https://docs.scipy.org/doc/numpy-1.15.1/reference/routines.random.html\n",
        "\n",
        "\n",
        "\n",
        "\n"
      ]
    },
    {
      "cell_type": "markdown",
      "metadata": {
        "id": "sWZb0flSxiKL"
      },
      "source": [
        "Using <code>np.random.random</code>, create two arrays of random numbers from a continuous distribution: array a (100x5), and array b (5x10)"
      ]
    },
    {
      "cell_type": "code",
      "metadata": {
        "id": "1osDjkr6xiKL"
      },
      "source": [
        "#hint: don't forget that np.random.random takes in a tuple!\n",
        "a = \n",
        "b = "
      ],
      "execution_count": null,
      "outputs": []
    },
    {
      "cell_type": "markdown",
      "metadata": {
        "id": "FvSupbl-xiKL"
      },
      "source": [
        "Next, using the __shape__ attribute of numpy arrays, print the shape of a and the shape of b. \n",
        "<br><br>\n"
      ]
    },
    {
      "cell_type": "code",
      "metadata": {
        "id": "jF3cp-uUxiKL"
      },
      "source": [
        "#hint: attributes, unlike methods, don't require the use of parentheses!\n",
        "print()\n",
        "print()"
      ],
      "execution_count": null,
      "outputs": []
    },
    {
      "cell_type": "markdown",
      "metadata": {
        "id": "Pyva-1r_xiKL"
      },
      "source": [
        "# numpy arrays: operators and a few more useful attributes\n",
        "\n",
        "\n",
        "Rather than having a \"len\" like lists, numpy arrays have two attributes than can help users keep track of dimensions/elements: <code>size</code> and <code>shape</code>. <code> size </code> refers to the __number of elements__ within an array, while <code> shape </code> returns an array's dimensions.\n",
        "<br> <br>\n",
        "Below, print the size and shape of a and b. What do you get?"
      ]
    },
    {
      "cell_type": "code",
      "metadata": {
        "id": "oB_dqG59xiKM",
        "outputId": "5ad6355d-2cef-4160-ca4e-28307af338cb"
      },
      "source": [
        "print() #a size\n",
        "print() #a shape\n",
        "print() #b size\n",
        "print() #b shape"
      ],
      "execution_count": null,
      "outputs": [
        {
          "output_type": "stream",
          "text": [
            "\n",
            "\n",
            "\n",
            "\n"
          ],
          "name": "stdout"
        }
      ]
    },
    {
      "cell_type": "markdown",
      "metadata": {
        "id": "8d1n9fGYxiKM"
      },
      "source": [
        "In the last lecture, Jacob covered some operators (+, -, etc.) that can be used on numpy arrays. We just wanted to make the point that matrix multiplication can be quickly accomplished using the <code> @ </code>. Below, create a matrix c that is the product of a and b and print the shapes of a, b, and c to demonstrate matrix multiplication."
      ]
    },
    {
      "cell_type": "code",
      "metadata": {
        "id": "qnseqncAxiKM",
        "outputId": "6b752249-398e-4dbc-ec63-b56130264e79"
      },
      "source": [
        "print() #a shape\n",
        "print() #b shape\n",
        "c = \n",
        "print()#c shape"
      ],
      "execution_count": null,
      "outputs": [
        {
          "output_type": "stream",
          "text": [
            "\n",
            "\n",
            "\n"
          ],
          "name": "stdout"
        }
      ]
    },
    {
      "cell_type": "markdown",
      "metadata": {
        "id": "oP2fgCnRxiKM"
      },
      "source": [
        "Arrays also have lots of useful methods associated with them that perform various functions, including:\n",
        "<br><br>\n",
        "<code> np.min()</code> <- returns minimum value of array<br> <br>\n",
        "<code> np.max()</code> <-returns max value of array<br> <br>\n",
        "<code> np.mean()</code> <-returns mean value of array<br> <br>\n",
        "<code> np.astype()</code> <- casts all data types contained in array to specified data type, eg. <code> =astype(int)</code>\n",
        "\n",
        "For a complete list of attributes and methods associated with numpy arrays, check out this documentation:\n",
        " <br> <br>\n",
        "    https://docs.scipy.org/doc/numpy/reference/arrays.ndarray.html#array-methods\n",
        "   <br> <br>\n",
        "Using this information, find the minimum value of a.\n",
        "    "
      ]
    },
    {
      "cell_type": "code",
      "metadata": {
        "id": "drdQRvbwxiKM"
      },
      "source": [
        "print()"
      ],
      "execution_count": null,
      "outputs": []
    },
    {
      "cell_type": "markdown",
      "metadata": {
        "id": "urgk8R1qxiKM"
      },
      "source": [
        "## A note on axes in numpy arrays:\n",
        "\n",
        "We've just told you about some of the neat methods you can use with numpy arrays; however, we haven't covered situations in which you might want to find the max or min of a __single column__ or __row__ of an array (we refer to these as __axes__).\n",
        "\n",
        "In this case, you'll want to specify *within* the method the axis that you would like to operate on. Let's take our 100x5 array \"a\" as an example. Let's say that we actually want to take the mean across the __first value__ of each \"column\", and return a vector of length 5 containing each of those values. In this case, we would need to specify axis = 0 *as input to the function*, like so:\n",
        "<br><br>\n",
        "<code> np.mean(<font color=red>ARRAY</font>,axis=0)</code>\n",
        "<br><br> Conversely, specifying \"axis = 1\" would return a vector of length 100 with the mean value of each \"row\".\n",
        "Below, create an array \"a_mean\" that's equal to the mean of array \"a\" across axis 0."
      ]
    },
    {
      "cell_type": "code",
      "metadata": {
        "id": "z8kWLyGMxiKN"
      },
      "source": [
        "a_mean = \n",
        "print(a_mean)\n"
      ],
      "execution_count": null,
      "outputs": []
    }
  ]
}